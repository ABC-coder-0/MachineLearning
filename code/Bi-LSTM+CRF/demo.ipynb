{
 "cells": [
  {
   "cell_type": "code",
   "execution_count": 122,
   "metadata": {},
   "outputs": [],
   "source": [
    "from process.model import MyBiLSTMCRF\n",
    "from process.preprocess import Preprocess\n",
    "from gensim.models import Word2Vec\n",
    "import pandas as pd\n",
    "import numpy as np"
   ]
  },
  {
   "cell_type": "code",
   "execution_count": 83,
   "metadata": {},
   "outputs": [],
   "source": [
    "# 标签转编号\n",
    "tag2id = {'o': 0,\n",
    "          'B_ns': 1,\n",
    "          'B_nr': 2,\n",
    "          'B_nt': 3,\n",
    "          'I_nt': 4,\n",
    "          'I_nr': 5,\n",
    "          'I_ns': 6,\n",
    "          }\n",
    "seq_len = 20\n",
    "\n",
    "train = '/Users/liuhy/workspace/NLP/code/MachineLearning/code/Bi-LSTM+CRF/data/MSRA/train/train.txt'\n",
    "test = '/Users/liuhy/workspace/NLP/code/MachineLearning/code/Bi-LSTM+CRF/data/MSRA/test/test.txt'\n",
    "\n",
    "train_word_tag = '/Users/liuhy/workspace/NLP/code/MachineLearning/code/Bi-LSTM+CRF/data/MSRA/train/train_word_tag.txt'\n",
    "test_word_tag = '/Users/liuhy/workspace/NLP/code/MachineLearning/code/Bi-LSTM+CRF/data/MSRA/test/test_word_tag.txt'\n",
    "\n",
    "train_sentences_path = '/Users/liuhy/workspace/NLP/code/MachineLearning/code/Bi-LSTM+CRF/data/MSRA/train/train_sentences.txt'\n",
    "train_label_path = '/Users/liuhy/workspace/NLP/code/MachineLearning/code/Bi-LSTM+CRF/data/MSRA/train/train_labels.txt'\n",
    "test_sentences_path = '/Users/liuhy/workspace/NLP/code/MachineLearning/code/Bi-LSTM+CRF/data/MSRA/test/test_sentences.txt'\n",
    "test_label_path = '/Users/liuhy/workspace/NLP/code/MachineLearning/code/Bi-LSTM+CRF/data/MSRA/test/test_labels.txt'\n",
    "\n",
    "train_word_vocabulary = '/Users/liuhy/workspace/NLP/code/MachineLearning/code/Bi-LSTM+CRF/data/MSRA/train/train_word_vocabulary.txt'\n",
    "train_char_vocabulary = '/Users/liuhy/workspace/NLP/code/MachineLearning/code/Bi-LSTM+CRF/data/MSRA/train/train_char_vocabulary.txt'\n",
    "test_word_vocabulary = '/Users/liuhy/workspace/NLP/code/MachineLearning/code/Bi-LSTM+CRF/data/MSRA/test/test_word_vocabulary.txt'\n",
    "test_char_vocabulary = '/Users/liuhy/workspace/NLP/code/MachineLearning/code/Bi-LSTM+CRF/data/MSRA/test/test_char_vocabulary.txt'\n",
    "\n",
    "test_sentences_filter_path = '/Users/liuhy/workspace/NLP/code/MachineLearning/code/Bi-LSTM+CRF/data/MSRA/test/test_sentences_filter.txt'\n",
    "test_labels_filter_path = '/Users/liuhy/workspace/NLP/code/MachineLearning/code/Bi-LSTM+CRF/data/MSRA/test/test_labels_filter.txt'\n"
   ]
  },
  {
   "cell_type": "code",
   "execution_count": 84,
   "metadata": {},
   "outputs": [],
   "source": [
    "word2vecModel = Word2Vec.load('/Users/liuhy/workspace/NLP/code/MachineLearning/code/Bi-LSTM+CRF/models/word2vec.model')\n",
    "\n",
    "pp = Preprocess()"
   ]
  },
  {
   "cell_type": "code",
   "execution_count": 85,
   "metadata": {},
   "outputs": [],
   "source": [
    "num_chars, word_embeddings, char_number_dict, word_number_dict = pp.get_paras(train_char_vocabulary,\n",
    "                                                                                train_word_vocabulary,\n",
    "                                                                                test_word_vocabulary,\n",
    "                                                                                word2vecModel)\n",
    "\n"
   ]
  },
  {
   "cell_type": "code",
   "execution_count": 86,
   "metadata": {},
   "outputs": [],
   "source": [
    "train_sentences_chars_vec, train_sentences_words_vec, train_sentences_labels = pp.get_model_seq(char_number_dict,\n",
    "                                                                                      word_number_dict,\n",
    "                                                                                      train_sentences_path,\n",
    "                                                                                      train_label_path,\n",
    "                                                                                      seq_len)"
   ]
  },
  {
   "cell_type": "code",
   "execution_count": 87,
   "metadata": {},
   "outputs": [],
   "source": [
    "test_sentences_chars_vec, test_sentences_words_vec, test_sentences_labels = pp.get_model_seq(char_number_dict,\n",
    "                                                                                      word_number_dict,\n",
    "                                                                                      test_sentences_filter_path,\n",
    "                                                                                      test_labels_filter_path,\n",
    "                                                                                      seq_len)"
   ]
  },
  {
   "cell_type": "code",
   "execution_count": 91,
   "metadata": {},
   "outputs": [],
   "source": [
    "char_number_dict['<pad>'] = 0"
   ]
  },
  {
   "cell_type": "code",
   "execution_count": 239,
   "metadata": {},
   "outputs": [
    {
     "data": {
      "text/plain": [
       "(4547, 63186, 63186, 4548)"
      ]
     },
     "execution_count": 239,
     "metadata": {},
     "output_type": "execute_result"
    }
   ],
   "source": [
    "num_chars,len(word_embeddings),len(word_number_dict),len(char_number_dict)"
   ]
  },
  {
   "cell_type": "code",
   "execution_count": 211,
   "metadata": {},
   "outputs": [],
   "source": [
    "X_1 = np.array(train_sentences_chars_vec)\n",
    "X_2 = np.array(train_sentences_words_vec)\n",
    "y = np.array(train_sentences_labels)"
   ]
  },
  {
   "cell_type": "code",
   "execution_count": 212,
   "metadata": {},
   "outputs": [
    {
     "data": {
      "text/plain": [
       "((98650, 20), (98650, 20), (98650, 20), numpy.int64)"
      ]
     },
     "execution_count": 212,
     "metadata": {},
     "output_type": "execute_result"
    }
   ],
   "source": [
    "X_1.shape,X_2.shape,y.shape,type(X_1[1][1])"
   ]
  },
  {
   "cell_type": "code",
   "execution_count": 164,
   "metadata": {},
   "outputs": [],
   "source": [
    "import tensorflow as tf\n",
    "import tensorflow.keras.layers as layers\n",
    "from tensorflow.keras import Model\n",
    "from tensorflow_addons.text import CRFModelWrapper\n",
    "import tqdm\n",
    "from tensorflow.keras.preprocessing.sequence import pad_sequences"
   ]
  },
  {
   "cell_type": "code",
   "execution_count": 351,
   "metadata": {},
   "outputs": [],
   "source": [
    "def buildModel():\n",
    "    # (batch,20)\n",
    "    input_1 = layers.Input(shape=(20,), name='chars')\n",
    "    input_2 = layers.Input(shape=(20,), name='words')\n",
    "    \n",
    "    #(batch,20,40)  补充：计算input_dim时加一是为了将pad的token添加到词表中\n",
    "    embed_1 = layers.Embedding(input_dim=(num_chars + 1), output_dim=40, name='embed_1')(input_1)\n",
    "    embed_2 = layers.Embedding(input_dim=(len(word_number_dict) + 1), output_dim=40, name='embed_2')(input_2)\n",
    "    \n",
    "    #(batch,20,40)\n",
    "    concate = layers.Concatenate(name='concate')([embed_1, embed_2])\n",
    "    \n",
    "    #(batch,20,7)  数据量太小为了让模型简单点所以删除了一个lstm层\n",
    "#     x = layers.Bidirectional(layers.LSTM(7, return_sequences=True, activation='tanh'),merge_mode='sum', name='lstm_1')(concate)      \n",
    "    output = layers.Bidirectional(layers.LSTM(7, return_sequences=True, activation='softmax'),merge_mode='sum', name='lstm_2')(concate)     \n",
    "    \n",
    "    base_model = Model(inputs=[input_1,input_2], outputs=output, name='base_model')\n",
    "    \n",
    "    crf = CRFModelWrapper(base_model, units=7 , name='crf_model')\n",
    "    \n",
    "    return base_model, crf"
   ]
  },
  {
   "cell_type": "code",
   "execution_count": 298,
   "metadata": {},
   "outputs": [],
   "source": [
    "base_model, crf_model = buildModel()"
   ]
  },
  {
   "cell_type": "code",
   "execution_count": 299,
   "metadata": {},
   "outputs": [],
   "source": [
    "crf_model.compile(optimizer=tf.keras.optimizers.Adam(5e-5))"
   ]
  },
  {
   "cell_type": "code",
   "execution_count": 300,
   "metadata": {},
   "outputs": [],
   "source": [
    "BATCH_SIZE = 64"
   ]
  },
  {
   "cell_type": "code",
   "execution_count": 301,
   "metadata": {},
   "outputs": [],
   "source": [
    "crf_model.build([(BATCH_SIZE,20,),(BATCH_SIZE,20,)])"
   ]
  },
  {
   "cell_type": "code",
   "execution_count": 352,
   "metadata": {},
   "outputs": [],
   "source": [
    "??crf_model.build"
   ]
  },
  {
   "cell_type": "code",
   "execution_count": 302,
   "metadata": {},
   "outputs": [
    {
     "name": "stdout",
     "output_type": "stream",
     "text": [
      "Model: \"base_model\"\n",
      "__________________________________________________________________________________________________\n",
      "Layer (type)                    Output Shape         Param #     Connected to                     \n",
      "==================================================================================================\n",
      "chars (InputLayer)              [(None, 20)]         0                                            \n",
      "__________________________________________________________________________________________________\n",
      "words (InputLayer)              [(None, 20)]         0                                            \n",
      "__________________________________________________________________________________________________\n",
      "embed_1 (Embedding)             (None, 20, 40)       181920      chars[0][0]                      \n",
      "__________________________________________________________________________________________________\n",
      "embed_2 (Embedding)             (None, 20, 40)       2527480     words[0][0]                      \n",
      "__________________________________________________________________________________________________\n",
      "concate (Concatenate)           (None, 20, 80)       0           embed_1[0][0]                    \n",
      "                                                                 embed_2[0][0]                    \n",
      "__________________________________________________________________________________________________\n",
      "lstm_2 (Bidirectional)          (None, 20, 7)        4928        concate[0][0]                    \n",
      "==================================================================================================\n",
      "Total params: 2,714,328\n",
      "Trainable params: 2,714,328\n",
      "Non-trainable params: 0\n",
      "__________________________________________________________________________________________________\n"
     ]
    }
   ],
   "source": [
    "base_model.summary()"
   ]
  },
  {
   "cell_type": "code",
   "execution_count": 303,
   "metadata": {},
   "outputs": [
    {
     "name": "stdout",
     "output_type": "stream",
     "text": [
      "Model: \"crf_model_wrapper_10\"\n",
      "_________________________________________________________________\n",
      "Layer (type)                 Output Shape              Param #   \n",
      "=================================================================\n",
      "crf_model (CRF)              multiple                  119       \n",
      "_________________________________________________________________\n",
      "base_model (Functional)      (None, 20, 7)             2714328   \n",
      "=================================================================\n",
      "Total params: 2,714,447\n",
      "Trainable params: 2,714,447\n",
      "Non-trainable params: 0\n",
      "_________________________________________________________________\n"
     ]
    }
   ],
   "source": [
    "crf_model.summary()"
   ]
  },
  {
   "cell_type": "code",
   "execution_count": 304,
   "metadata": {},
   "outputs": [
    {
     "name": "stdout",
     "output_type": "stream",
     "text": [
      "Epoch 1/50\n",
      "1388/1388 [==============================] - 38s 25ms/step - loss: 27.7361 - crf_loss: 27.7361 - val_loss: 20.4528 - val_crf_loss: 20.4528\n",
      "Epoch 2/50\n",
      "1388/1388 [==============================] - 33s 24ms/step - loss: 14.3400 - crf_loss: 14.3400 - val_loss: 10.1728 - val_crf_loss: 10.1728\n",
      "Epoch 3/50\n",
      "1388/1388 [==============================] - 35s 25ms/step - loss: 8.6340 - crf_loss: 8.6340 - val_loss: 7.0347 - val_crf_loss: 7.0347\n",
      "Epoch 4/50\n",
      "1388/1388 [==============================] - 34s 24ms/step - loss: 6.4976 - crf_loss: 6.4976 - val_loss: 5.5687 - val_crf_loss: 5.5687\n",
      "Epoch 5/50\n",
      "1388/1388 [==============================] - 35s 25ms/step - loss: 5.3126 - crf_loss: 5.3126 - val_loss: 4.7441 - val_crf_loss: 4.7441\n",
      "Epoch 6/50\n",
      "1388/1388 [==============================] - 34s 25ms/step - loss: 4.5249 - crf_loss: 4.5249 - val_loss: 4.2128 - val_crf_loss: 4.2128\n",
      "Epoch 7/50\n",
      "1388/1388 [==============================] - 35s 25ms/step - loss: 3.9403 - crf_loss: 3.9403 - val_loss: 3.8095 - val_crf_loss: 3.8095\n",
      "Epoch 8/50\n",
      "1388/1388 [==============================] - 34s 24ms/step - loss: 3.4655 - crf_loss: 3.4655 - val_loss: 3.4622 - val_crf_loss: 3.4622\n",
      "Epoch 9/50\n",
      "1388/1388 [==============================] - 34s 24ms/step - loss: 3.0827 - crf_loss: 3.0827 - val_loss: 3.1784 - val_crf_loss: 3.1784\n",
      "Epoch 10/50\n",
      "1388/1388 [==============================] - 33s 23ms/step - loss: 2.7799 - crf_loss: 2.7799 - val_loss: 2.9496 - val_crf_loss: 2.9496\n",
      "Epoch 11/50\n",
      "1388/1388 [==============================] - 34s 24ms/step - loss: 2.5316 - crf_loss: 2.5316 - val_loss: 2.7546 - val_crf_loss: 2.7546\n",
      "Epoch 12/50\n",
      "1388/1388 [==============================] - 33s 24ms/step - loss: 2.3192 - crf_loss: 2.3192 - val_loss: 2.5809 - val_crf_loss: 2.5809\n",
      "Epoch 13/50\n",
      "1388/1388 [==============================] - 33s 24ms/step - loss: 2.1323 - crf_loss: 2.1323 - val_loss: 2.4221 - val_crf_loss: 2.4221\n",
      "Epoch 14/50\n",
      "1388/1388 [==============================] - 34s 24ms/step - loss: 1.9656 - crf_loss: 1.9656 - val_loss: 2.2537 - val_crf_loss: 2.2537\n",
      "Epoch 15/50\n",
      "1388/1388 [==============================] - 34s 24ms/step - loss: 1.8143 - crf_loss: 1.8143 - val_loss: 2.0990 - val_crf_loss: 2.0990\n",
      "Epoch 16/50\n",
      "1388/1388 [==============================] - 34s 25ms/step - loss: 1.6739 - crf_loss: 1.6739 - val_loss: 1.9442 - val_crf_loss: 1.9442\n",
      "Epoch 17/50\n",
      "1388/1388 [==============================] - 35s 25ms/step - loss: 1.5486 - crf_loss: 1.5486 - val_loss: 1.8016 - val_crf_loss: 1.8016\n",
      "Epoch 18/50\n",
      "1388/1388 [==============================] - 35s 25ms/step - loss: 1.4409 - crf_loss: 1.4409 - val_loss: 1.6763 - val_crf_loss: 1.6763\n",
      "Epoch 19/50\n",
      "1388/1388 [==============================] - 34s 25ms/step - loss: 1.3441 - crf_loss: 1.3441 - val_loss: 1.5629 - val_crf_loss: 1.5629\n",
      "Epoch 20/50\n",
      "1388/1388 [==============================] - 35s 25ms/step - loss: 1.2566 - crf_loss: 1.2566 - val_loss: 1.4607 - val_crf_loss: 1.4607\n",
      "Epoch 21/50\n",
      "1388/1388 [==============================] - 34s 25ms/step - loss: 1.1808 - crf_loss: 1.1808 - val_loss: 1.3617 - val_crf_loss: 1.3617\n",
      "Epoch 22/50\n",
      "1388/1388 [==============================] - 33s 24ms/step - loss: 1.1136 - crf_loss: 1.1136 - val_loss: 1.2800 - val_crf_loss: 1.2800\n",
      "Epoch 23/50\n",
      "1388/1388 [==============================] - 34s 24ms/step - loss: 1.0505 - crf_loss: 1.0505 - val_loss: 1.2051 - val_crf_loss: 1.2051\n",
      "Epoch 24/50\n",
      "1388/1388 [==============================] - 34s 24ms/step - loss: 0.9963 - crf_loss: 0.9963 - val_loss: 1.1383 - val_crf_loss: 1.1383\n",
      "Epoch 25/50\n",
      "1388/1388 [==============================] - 32s 23ms/step - loss: 0.9449 - crf_loss: 0.9449 - val_loss: 1.0894 - val_crf_loss: 1.0894\n",
      "Epoch 26/50\n",
      "1388/1388 [==============================] - 35s 25ms/step - loss: 0.8991 - crf_loss: 0.8991 - val_loss: 1.0499 - val_crf_loss: 1.0499\n",
      "Epoch 27/50\n",
      "1388/1388 [==============================] - 35s 25ms/step - loss: 0.8566 - crf_loss: 0.8566 - val_loss: 1.0169 - val_crf_loss: 1.0169\n",
      "Epoch 28/50\n",
      "1388/1388 [==============================] - 34s 25ms/step - loss: 0.8177 - crf_loss: 0.8177 - val_loss: 0.9910 - val_crf_loss: 0.9910\n",
      "Epoch 29/50\n",
      "1388/1388 [==============================] - 34s 25ms/step - loss: 0.7825 - crf_loss: 0.7825 - val_loss: 0.9716 - val_crf_loss: 0.9716\n",
      "Epoch 30/50\n",
      "1388/1388 [==============================] - 34s 25ms/step - loss: 0.7491 - crf_loss: 0.7491 - val_loss: 0.9594 - val_crf_loss: 0.9594\n",
      "Epoch 31/50\n",
      "1388/1388 [==============================] - 34s 24ms/step - loss: 0.7190 - crf_loss: 0.7190 - val_loss: 0.9515 - val_crf_loss: 0.9515\n",
      "Epoch 32/50\n",
      "1388/1388 [==============================] - 34s 25ms/step - loss: 0.6915 - crf_loss: 0.6915 - val_loss: 0.9455 - val_crf_loss: 0.9455\n",
      "Epoch 33/50\n",
      "1388/1388 [==============================] - 34s 25ms/step - loss: 0.6649 - crf_loss: 0.6649 - val_loss: 0.9445 - val_crf_loss: 0.9445\n",
      "Epoch 34/50\n",
      "1388/1388 [==============================] - 34s 24ms/step - loss: 0.6393 - crf_loss: 0.6393 - val_loss: 0.9533 - val_crf_loss: 0.9533\n",
      "Epoch 35/50\n",
      "1388/1388 [==============================] - 33s 24ms/step - loss: 0.6160 - crf_loss: 0.6160 - val_loss: 0.9632 - val_crf_loss: 0.9632\n",
      "Epoch 36/50\n",
      "1388/1388 [==============================] - 33s 24ms/step - loss: 0.5937 - crf_loss: 0.5937 - val_loss: 0.9897 - val_crf_loss: 0.9897\n",
      "Epoch 37/50\n",
      "1388/1388 [==============================] - 35s 25ms/step - loss: 0.5726 - crf_loss: 0.5726 - val_loss: 1.0315 - val_crf_loss: 1.0315\n",
      "Epoch 38/50\n",
      "1388/1388 [==============================] - 35s 25ms/step - loss: 0.5514 - crf_loss: 0.5514 - val_loss: 1.0962 - val_crf_loss: 1.0962\n",
      "Epoch 39/50\n",
      "1388/1388 [==============================] - 35s 25ms/step - loss: 0.5319 - crf_loss: 0.5319 - val_loss: 1.2024 - val_crf_loss: 1.2024\n",
      "Epoch 40/50\n",
      "1388/1388 [==============================] - 35s 25ms/step - loss: 0.5127 - crf_loss: 0.5127 - val_loss: 1.3326 - val_crf_loss: 1.3326\n",
      "Epoch 41/50\n",
      "1388/1388 [==============================] - 36s 26ms/step - loss: 0.4948 - crf_loss: 0.4948 - val_loss: 1.4494 - val_crf_loss: 1.4494\n",
      "Epoch 42/50\n",
      "1388/1388 [==============================] - 35s 26ms/step - loss: 0.4793 - crf_loss: 0.4793 - val_loss: 1.5587 - val_crf_loss: 1.5587\n",
      "Epoch 43/50\n",
      "1388/1388 [==============================] - 34s 25ms/step - loss: 0.4639 - crf_loss: 0.4639 - val_loss: 1.6541 - val_crf_loss: 1.6541\n",
      "Epoch 44/50\n",
      "1388/1388 [==============================] - 34s 25ms/step - loss: 0.4501 - crf_loss: 0.4501 - val_loss: 1.7349 - val_crf_loss: 1.7349\n",
      "Epoch 45/50\n",
      "1388/1388 [==============================] - 34s 25ms/step - loss: 0.4369 - crf_loss: 0.4369 - val_loss: 1.8134 - val_crf_loss: 1.8134\n",
      "Epoch 46/50\n",
      "1388/1388 [==============================] - 35s 25ms/step - loss: 0.4242 - crf_loss: 0.4242 - val_loss: 1.8997 - val_crf_loss: 1.8997\n",
      "Epoch 47/50\n",
      "1388/1388 [==============================] - 33s 24ms/step - loss: 0.4131 - crf_loss: 0.4131 - val_loss: 1.9675 - val_crf_loss: 1.9675\n",
      "Epoch 48/50\n",
      "1388/1388 [==============================] - 34s 25ms/step - loss: 0.4018 - crf_loss: 0.4018 - val_loss: 2.0337 - val_crf_loss: 2.0337\n",
      "Epoch 49/50\n",
      "1388/1388 [==============================] - 34s 25ms/step - loss: 0.3919 - crf_loss: 0.3919 - val_loss: 2.0942 - val_crf_loss: 2.0942\n",
      "Epoch 50/50\n",
      "1388/1388 [==============================] - 35s 25ms/step - loss: 0.3831 - crf_loss: 0.3831 - val_loss: 2.1501 - val_crf_loss: 2.1501\n"
     ]
    }
   ],
   "source": [
    "epochs=33\n",
    "history = crf_model.fit({'chars':X_1, 'words':X_2}, y, validation_split=0.1,batch_size=BATCH_SIZE,epochs=epochs)       "
   ]
  },
  {
   "cell_type": "markdown",
   "metadata": {},
   "source": [
    "### CRFModelWrapper的模型输出结果history中记录了所有epochs的loss和验证集的loss"
   ]
  },
  {
   "cell_type": "code",
   "execution_count": 313,
   "metadata": {},
   "outputs": [],
   "source": [
    "import matplotlib.pyplot as plot\n",
    "import seaborn as sns\n",
    "import pandas as pd"
   ]
  },
  {
   "cell_type": "code",
   "execution_count": 312,
   "metadata": {},
   "outputs": [
    {
     "data": {
      "image/png": "[encoded data removed]",
      "text/plain": [
       "<Figure size 1080x576 with 1 Axes>"
      ]
     },
     "metadata": {
      "needs_background": "light"
     },
     "output_type": "display_data"
    }
   ],
   "source": [
    "data = pd.DataFrame(history.history)\n",
    "fig, ax = plot.subplots(figsize=(15,8))\n",
    "sns.lineplot(data=data, ax=ax)\n",
    "ax.set_xticks(range(epochs))\n",
    "plot.show()"
   ]
  },
  {
   "cell_type": "code",
   "execution_count": 257,
   "metadata": {},
   "outputs": [],
   "source": [
    "test_X_1 = np.array(test_sentences_chars_vec, dtype='int32')\n",
    "test_X_2 = np.array(test_sentences_words_vec, dtype='int32')\n",
    "y_true = np.array(test_sentences_labels, dtype='int32')"
   ]
  },
  {
   "cell_type": "code",
   "execution_count": 259,
   "metadata": {},
   "outputs": [
    {
     "data": {
      "text/plain": [
       "((172, 20), (172, 20), (172, 20))"
      ]
     },
     "execution_count": 259,
     "metadata": {},
     "output_type": "execute_result"
    }
   ],
   "source": [
    "test_X_1.shape, test_X_2.shape, y_true.shape"
   ]
  },
  {
   "cell_type": "code",
   "execution_count": 261,
   "metadata": {},
   "outputs": [],
   "source": [
    "y_pre = crf_model.predict([test_X_1,test_X_2])"
   ]
  },
  {
   "cell_type": "code",
   "execution_count": 268,
   "metadata": {},
   "outputs": [],
   "source": [
    "import codecs"
   ]
  },
  {
   "cell_type": "code",
   "execution_count": 276,
   "metadata": {},
   "outputs": [
    {
     "data": {
      "text/plain": [
       "172"
      ]
     },
     "execution_count": 276,
     "metadata": {},
     "output_type": "execute_result"
    }
   ],
   "source": [
    "test_sentences_reader = codecs.open(test_sentences_filter_path, 'r', 'utf-8')\n",
    "test_sentences = []\n",
    "for line in test_sentences_reader.readlines():\n",
    "    test_sentences.append(line.strip('\\n'))\n",
    "\n",
    "test_sentences_reader.close\n",
    "\n",
    "len(test_sentences)"
   ]
  },
  {
   "cell_type": "code",
   "execution_count": 281,
   "metadata": {},
   "outputs": [
    {
     "data": {
      "text/plain": [
       "{0: 'o', 1: 'B_ns', 2: 'B_nr', 3: 'B_nt', 4: 'I_nt', 5: 'I_nr', 6: 'I_ns'}"
      ]
     },
     "execution_count": 281,
     "metadata": {},
     "output_type": "execute_result"
    }
   ],
   "source": [
    "id2tag = dict(zip(tag2id.values(), tag2id.keys()))\n",
    "id2tag"
   ]
  },
  {
   "cell_type": "code",
   "execution_count": 314,
   "metadata": {},
   "outputs": [
    {
     "name": "stdout",
     "output_type": "stream",
     "text": [
      "5\n",
      "在芬兰故都土尔库举行的和平圣诞庆祝仪式\n",
      "['o', 'B_ns', 'I_ns', 'o', 'o', 'B_ns', 'I_ns', 'I_ns', 'o', 'o', 'o', 'o', 'o', 'o', 'o', 'o', 'o', 'o', 'o', 'o']\n",
      "['o', 'I_nt', 'I_nt', 'I_nt', 'I_nt', 'I_nt', 'I_nt', 'o', 'o', 'o', 'o', 'o', 'o', 'o', 'o', 'o', 'o', 'o', 'o', 'o']\n",
      "=====================================\n",
      "7\n",
      "大多数芬兰人在１２点钟会准时打开收音机收听仪式实况\n",
      "['o', 'o', 'o', 'B_ns', 'I_ns', 'o', 'o', 'o', 'o', 'o', 'o', 'o', 'o', 'o', 'o', 'o', 'o', 'o', 'o', 'o']\n",
      "['o', 'o', 'o', 'o', 'o', 'o', 'o', 'o', 'o', 'o', 'o', 'o', 'o', 'o', 'o', 'o', 'o', 'o', 'o', 'o']\n",
      "=====================================\n",
      "9\n",
      "许多芬兰人觉得祭奠故人是圣诞节最严肃的事情\n",
      "['o', 'o', 'B_ns', 'I_ns', 'o', 'o', 'o', 'o', 'o', 'o', 'o', 'o', 'o', 'o', 'o', 'o', 'o', 'o', 'o', 'o']\n",
      "['o', 'o', 'o', 'o', 'o', 'o', 'o', 'o', 'o', 'o', 'o', 'o', 'o', 'o', 'o', 'o', 'o', 'o', 'o', 'o']\n",
      "=====================================\n",
      "16\n",
      "而在首都赫尔辛基\n",
      "['o', 'o', 'o', 'o', 'B_ns', 'I_ns', 'I_ns', 'I_ns', 'o', 'o', 'o', 'o', 'o', 'o', 'o', 'o', 'o', 'o', 'o', 'o']\n",
      "['o', 'o', 'o', 'o', 'o', 'o', 'o', 'o', 'o', 'o', 'o', 'o', 'o', 'o', 'o', 'o', 'o', 'o', 'o', 'o']\n",
      "=====================================\n",
      "19\n",
      "芬兰的家庭在圣诞夜时总有圣诞老人造访\n",
      "['B_ns', 'I_ns', 'o', 'o', 'o', 'o', 'o', 'o', 'o', 'o', 'o', 'o', 'o', 'o', 'o', 'o', 'o', 'o', 'o', 'o']\n",
      "['o', 'o', 'o', 'o', 'o', 'o', 'o', 'o', 'o', 'o', 'o', 'o', 'o', 'o', 'o', 'o', 'o', 'o', 'o', 'o']\n",
      "=====================================\n",
      "27\n",
      "如果哪一天有机会前往芬兰的乡村旅行\n",
      "['o', 'o', 'o', 'o', 'o', 'o', 'o', 'o', 'o', 'o', 'B_ns', 'I_ns', 'o', 'o', 'o', 'o', 'o', 'o', 'o', 'o']\n",
      "['o', 'o', 'o', 'o', 'o', 'o', 'o', 'o', 'o', 'o', 'o', 'o', 'o', 'o', 'o', 'o', 'o', 'o', 'o', 'o']\n",
      "=====================================\n",
      "29\n",
      "芬兰人酷爱桑拿\n",
      "['B_ns', 'I_ns', 'o', 'o', 'o', 'o', 'o', 'o', 'o', 'o', 'o', 'o', 'o', 'o', 'o', 'o', 'o', 'o', 'o', 'o']\n",
      "['o', 'o', 'o', 'o', 'o', 'o', 'o', 'o', 'o', 'o', 'o', 'o', 'o', 'o', 'o', 'o', 'o', 'o', 'o', 'o']\n",
      "=====================================\n",
      "36\n",
      "从法国书刊上读到一则报道有位老妇人寡居在巴黎一幢公寓楼内\n",
      "['o', 'B_ns', 'I_ns', 'o', 'o', 'o', 'o', 'o', 'o', 'o', 'o', 'o', 'o', 'o', 'o', 'o', 'o', 'o', 'o', 'o']\n",
      "['o', 'o', 'o', 'o', 'o', 'o', 'o', 'o', 'o', 'o', 'o', 'o', 'o', 'o', 'o', 'o', 'o', 'o', 'o', 'o']\n",
      "=====================================\n",
      "46\n",
      "笔者曾在法国生活过两年\n",
      "['o', 'o', 'o', 'o', 'B_ns', 'I_ns', 'o', 'o', 'o', 'o', 'o', 'o', 'o', 'o', 'o', 'o', 'o', 'o', 'o', 'o']\n",
      "['o', 'o', 'o', 'o', 'o', 'o', 'o', 'o', 'o', 'o', 'o', 'o', 'o', 'o', 'o', 'o', 'o', 'o', 'o', 'o']\n",
      "=====================================\n",
      "69\n",
      "高女士是法籍华裔画家\n",
      "['B_nr', 'o', 'o', 'o', 'B_ns', 'o', 'B_ns', 'o', 'o', 'o', 'o', 'o', 'o', 'o', 'o', 'o', 'o', 'o', 'o', 'o']\n",
      "['o', 'o', 'o', 'o', 'o', 'o', 'o', 'o', 'o', 'o', 'o', 'o', 'o', 'o', 'o', 'o', 'o', 'o', 'o', 'o']\n",
      "=====================================\n",
      "70\n",
      "在家里举办了个中国画学习班\n",
      "['o', 'o', 'o', 'o', 'o', 'o', 'o', 'B_ns', 'I_ns', 'o', 'o', 'o', 'o', 'o', 'o', 'o', 'o', 'o', 'o', 'o']\n",
      "['o', 'o', 'o', 'o', 'o', 'o', 'o', 'o', 'o', 'o', 'o', 'o', 'o', 'o', 'o', 'o', 'o', 'o', 'o', 'o']\n",
      "=====================================\n",
      "73\n",
      "除了出于对中国文化的仰慕之外\n",
      "['o', 'o', 'o', 'o', 'o', 'B_ns', 'I_ns', 'o', 'o', 'o', 'o', 'o', 'o', 'o', 'o', 'o', 'o', 'o', 'o', 'o']\n",
      "['o', 'o', 'o', 'o', 'o', 'o', 'o', 'o', 'o', 'o', 'o', 'o', 'o', 'o', 'o', 'o', 'o', 'o', 'o', 'o']\n",
      "=====================================\n",
      "74\n",
      "初到巴黎的人\n",
      "['o', 'o', 'B_ns', 'I_ns', 'o', 'o', 'o', 'o', 'o', 'o', 'o', 'o', 'o', 'o', 'o', 'o', 'o', 'o', 'o', 'o']\n",
      "['o', 'o', 'o', 'o', 'o', 'o', 'o', 'o', 'o', 'o', 'o', 'o', 'o', 'o', 'o', 'o', 'o', 'o', 'o', 'o']\n",
      "=====================================\n",
      "78\n",
      "一位老巴黎对我说\n",
      "['o', 'o', 'o', 'B_ns', 'I_ns', 'o', 'o', 'o', 'o', 'o', 'o', 'o', 'o', 'o', 'o', 'o', 'o', 'o', 'o', 'o']\n",
      "['o', 'o', 'o', 'o', 'o', 'o', 'o', 'o', 'o', 'o', 'o', 'o', 'o', 'o', 'o', 'o', 'o', 'o', 'o', 'o']\n",
      "=====================================\n",
      "80\n",
      "法国同许多西方国家一样\n",
      "['B_ns', 'I_ns', 'o', 'o', 'o', 'o', 'o', 'o', 'o', 'o', 'o', 'o', 'o', 'o', 'o', 'o', 'o', 'o', 'o', 'o']\n",
      "['o', 'o', 'o', 'o', 'o', 'o', 'o', 'o', 'o', 'o', 'o', 'o', 'o', 'o', 'o', 'o', 'o', 'o', 'o', 'o']\n",
      "=====================================\n",
      "81\n",
      "据法国统计和经济研究中心１９９６年调查\n",
      "['o', 'B_nt', 'I_nt', 'I_nt', 'I_nt', 'I_nt', 'I_nt', 'I_nt', 'I_nt', 'I_nt', 'I_nt', 'I_nt', 'o', 'o', 'o', 'o', 'o', 'o', 'o', 'o']\n",
      "['o', 'o', 'o', 'o', 'o', 'o', 'o', 'o', 'o', 'o', 'o', 'o', 'o', 'o', 'o', 'o', 'o', 'o', 'o', 'o']\n",
      "=====================================\n",
      "82\n",
      "６０岁以上的人已占法国人口总数的２３％\n",
      "['o', 'o', 'o', 'o', 'o', 'o', 'o', 'o', 'o', 'B_ns', 'I_ns', 'o', 'o', 'o', 'o', 'o', 'o', 'o', 'o', 'o']\n",
      "['o', 'o', 'o', 'o', 'o', 'o', 'o', 'o', 'o', 'o', 'o', 'o', 'o', 'o', 'o', 'o', 'o', 'o', 'o', 'o']\n",
      "=====================================\n",
      "87\n",
      "在像法国这样的社会里\n",
      "['o', 'o', 'B_ns', 'I_ns', 'o', 'o', 'o', 'o', 'o', 'o', 'o', 'o', 'o', 'o', 'o', 'o', 'o', 'o', 'o', 'o']\n",
      "['o', 'o', 'o', 'o', 'o', 'o', 'o', 'o', 'o', 'o', 'o', 'o', 'o', 'o', 'o', 'o', 'o', 'o', 'o', 'o']\n",
      "=====================================\n",
      "109\n",
      "这是第一位访华的希腊大船主\n",
      "['o', 'o', 'o', 'o', 'o', 'o', 'B_ns', 'o', 'B_ns', 'I_ns', 'o', 'o', 'o', 'o', 'o', 'o', 'o', 'o', 'o', 'o']\n",
      "['o', 'o', 'o', 'o', 'o', 'o', 'o', 'o', 'o', 'o', 'o', 'o', 'o', 'o', 'o', 'o', 'o', 'o', 'o', 'o']\n",
      "=====================================\n",
      "111\n",
      "他饱览中国的山水名胜\n",
      "['o', 'o', 'o', 'B_ns', 'I_ns', 'o', 'o', 'o', 'o', 'o', 'o', 'o', 'o', 'o', 'o', 'o', 'o', 'o', 'o', 'o']\n",
      "['o', 'o', 'o', 'o', 'o', 'o', 'o', 'o', 'o', 'o', 'o', 'o', 'o', 'o', 'o', 'o', 'o', 'o', 'o', 'o']\n",
      "=====================================\n",
      "114\n",
      "在希腊\n",
      "['o', 'B_ns', 'I_ns', 'o', 'o', 'o', 'o', 'o', 'o', 'o', 'o', 'o', 'o', 'o', 'o', 'o', 'o', 'o', 'o', 'o']\n",
      "['o', 'o', 'o', 'o', 'o', 'o', 'o', 'o', 'o', 'o', 'o', 'o', 'o', 'o', 'o', 'o', 'o', 'o', 'o', 'o']\n",
      "=====================================\n",
      "124\n",
      "德意法西斯的入侵占领以及此后的内战\n",
      "['B_ns', 'B_ns', 'o', 'o', 'o', 'o', 'o', 'o', 'o', 'o', 'o', 'o', 'o', 'o', 'o', 'o', 'o', 'o', 'o', 'o']\n",
      "['o', 'o', 'o', 'o', 'o', 'o', 'o', 'o', 'o', 'o', 'o', 'o', 'o', 'o', 'o', 'o', 'o', 'o', 'o', 'o']\n",
      "=====================================\n",
      "126\n",
      "年仅１４岁的瓦西里斯\n",
      "['o', 'o', 'o', 'o', 'o', 'o', 'B_nr', 'I_nr', 'I_nr', 'I_nr', 'o', 'o', 'o', 'o', 'o', 'o', 'o', 'o', 'o', 'o']\n",
      "['o', 'o', 'o', 'o', 'o', 'o', 'o', 'o', 'o', 'o', 'o', 'o', 'o', 'o', 'o', 'o', 'o', 'o', 'o', 'o']\n",
      "=====================================\n",
      "134\n",
      "瓦西里斯夹起一条毯子\n",
      "['B_nr', 'I_nr', 'I_nr', 'I_nr', 'o', 'o', 'o', 'o', 'o', 'o', 'o', 'o', 'o', 'o', 'o', 'o', 'o', 'o', 'o', 'o']\n",
      "['o', 'o', 'o', 'o', 'o', 'o', 'o', 'o', 'o', 'o', 'o', 'o', 'o', 'o', 'o', 'o', 'o', 'o', 'o', 'o']\n",
      "=====================================\n",
      "147\n",
      "１９７４年瓦西里斯离开远洋轮\n",
      "['o', 'o', 'o', 'o', 'o', 'B_nr', 'I_nr', 'I_nr', 'I_nr', 'o', 'o', 'o', 'o', 'o', 'o', 'o', 'o', 'o', 'o', 'o']\n",
      "['o', 'o', 'o', 'o', 'o', 'o', 'o', 'o', 'o', 'o', 'o', 'o', 'o', 'o', 'o', 'o', 'o', 'o', 'o', 'o']\n",
      "=====================================\n",
      "170\n",
      "希腊人将瓦西里斯与奥纳西斯比较时总不忘补充一句他和奥纳西斯不同\n",
      "['B_ns', 'I_ns', 'o', 'o', 'B_nr', 'I_nr', 'I_nr', 'I_nr', 'o', 'B_nr', 'I_nr', 'I_nr', 'I_nr', 'o', 'o', 'o', 'o', 'o', 'o', 'o']\n",
      "['o', 'o', 'o', 'o', 'o', 'o', 'o', 'o', 'o', 'o', 'o', 'o', 'o', 'o', 'o', 'o', 'o', 'o', 'o', 'o']\n",
      "=====================================\n",
      "171\n",
      "重视传统家庭观念的希腊人\n",
      "['o', 'o', 'o', 'o', 'o', 'o', 'o', 'o', 'o', 'B_ns', 'I_ns', 'o', 'o', 'o', 'o', 'o', 'o', 'o', 'o', 'o']\n",
      "['o', 'o', 'o', 'o', 'o', 'o', 'o', 'o', 'o', 'o', 'o', 'o', 'o', 'o', 'o', 'o', 'o', 'o', 'o', 'o']\n",
      "=====================================\n",
      "27\n"
     ]
    }
   ],
   "source": [
    "count = 0\n",
    "for i in range(len(y_true)):\n",
    "    if (y_true[i] != y_pre[i]).any():\n",
    "        count += 1\n",
    "        print(i)\n",
    "        print(test_sentences[i])\n",
    "        print([id2tag[key] for key in y_true[i]])\n",
    "        print([id2tag[key] for key in y_pre[i]])\n",
    "        print('=====================================')\n",
    "print(count)"
   ]
  },
  {
   "cell_type": "code",
   "execution_count": 291,
   "metadata": {},
   "outputs": [
    {
     "data": {
      "text/plain": [
       "(numpy.ndarray, numpy.ndarray)"
      ]
     },
     "execution_count": 291,
     "metadata": {},
     "output_type": "execute_result"
    }
   ],
   "source": [
    "type(y_true),type(y_pre)"
   ]
  },
  {
   "cell_type": "code",
   "execution_count": null,
   "metadata": {},
   "outputs": [],
   "source": []
  },
  {
   "cell_type": "code",
   "execution_count": 315,
   "metadata": {},
   "outputs": [],
   "source": [
    "from sklearn.metrics import classification_report, confusion_matrix"
   ]
  },
  {
   "cell_type": "code",
   "execution_count": 330,
   "metadata": {},
   "outputs": [
    {
     "name": "stdout",
     "output_type": "stream",
     "text": [
      "              precision    recall  f1-score   support\n",
      "\n",
      "           o       0.98      1.00      0.99      3356\n",
      "        B_ns       0.00      0.00      0.00        27\n",
      "        B_nr       0.00      0.00      0.00         6\n",
      "        B_nt       0.00      0.00      0.00         1\n",
      "        I_nt       0.00      0.00      0.00        10\n",
      "        I_nr       0.00      0.00      0.00        15\n",
      "        I_ns       0.00      0.00      0.00        25\n",
      "\n",
      "    accuracy                           0.97      3440\n",
      "   macro avg       0.14      0.14      0.14      3440\n",
      "weighted avg       0.95      0.97      0.96      3440\n",
      "\n"
     ]
    },
    {
     "name": "stderr",
     "output_type": "stream",
     "text": [
      "/opt/anaconda3/lib/python3.8/site-packages/sklearn/metrics/_classification.py:1221: UndefinedMetricWarning: Precision and F-score are ill-defined and being set to 0.0 in labels with no predicted samples. Use `zero_division` parameter to control this behavior.\n",
      "  _warn_prf(average, modifier, msg_start, len(result))\n"
     ]
    }
   ],
   "source": [
    "y_true_flat = y_true.flatten()\n",
    "y_pre_flat = y_pre.flatten()\n",
    "print(classification_report(y_true_flat, y_pre_flat, target_names=tag2id.keys(), labels=list(tag2id.values())))"
   ]
  },
  {
   "cell_type": "code",
   "execution_count": 337,
   "metadata": {},
   "outputs": [
    {
     "data": {
      "text/plain": [
       "<AxesSubplot:>"
      ]
     },
     "execution_count": 337,
     "metadata": {},
     "output_type": "execute_result"
    },
    {
     "data": {
      "image/png": "[encoded data removed]",
      "text/plain": [
       "<Figure size 432x288 with 2 Axes>"
      ]
     },
     "metadata": {
      "needs_background": "light"
     },
     "output_type": "display_data"
    }
   ],
   "source": [
    "data_confusion_matrix = confusion_matrix(y_true=y_true_flat, y_pred=y_pre_flat, labels=list(tag2id.values()))\n",
    "\n",
    "sns.heatmap(data=data_confusion_matrix, annot=True)"
   ]
  },
  {
   "cell_type": "markdown",
   "metadata": {},
   "source": [
    "### 结果不是很理想，数据量太小模型较复杂 过拟合严重。"
   ]
  },
  {
   "cell_type": "code",
   "execution_count": 340,
   "metadata": {},
   "outputs": [
    {
     "name": "stderr",
     "output_type": "stream",
     "text": [
      "WARNING:absl:Found untraced functions such as dense_10_layer_call_fn, dense_10_layer_call_and_return_conditional_losses, dense_10_layer_call_fn, dense_10_layer_call_and_return_conditional_losses, dense_10_layer_call_and_return_conditional_losses while saving (showing 5 of 5). These functions will not be directly callable after loading.\n"
     ]
    },
    {
     "name": "stdout",
     "output_type": "stream",
     "text": [
      "INFO:tensorflow:Assets written to: ./models/crf_model.model/assets\n"
     ]
    },
    {
     "name": "stderr",
     "output_type": "stream",
     "text": [
      "INFO:tensorflow:Assets written to: ./models/crf_model.model/assets\n"
     ]
    }
   ],
   "source": [
    "crf_model.save('./models/crf_model.model')"
   ]
  },
  {
   "cell_type": "markdown",
   "metadata": {},
   "source": [
    "### 模型保存和重新加载"
   ]
  },
  {
   "cell_type": "code",
   "execution_count": 343,
   "metadata": {},
   "outputs": [],
   "source": [
    "mymodel = tf.keras.models.load_model('./models/crf_model.model')"
   ]
  },
  {
   "cell_type": "code",
   "execution_count": 344,
   "metadata": {},
   "outputs": [
    {
     "name": "stdout",
     "output_type": "stream",
     "text": [
      "Model: \"crf_model_wrapper_10\"\n",
      "_________________________________________________________________\n",
      "Layer (type)                 Output Shape              Param #   \n",
      "=================================================================\n",
      "crf_model (CRF)              multiple                  119       \n",
      "_________________________________________________________________\n",
      "base_model (Functional)      (None, 20, 7)             2714328   \n",
      "=================================================================\n",
      "Total params: 2,714,447\n",
      "Trainable params: 2,714,447\n",
      "Non-trainable params: 0\n",
      "_________________________________________________________________\n"
     ]
    }
   ],
   "source": [
    "mymodel.summary()"
   ]
  },
  {
   "cell_type": "code",
   "execution_count": 347,
   "metadata": {},
   "outputs": [],
   "source": [
    "y111 = mymodel.predict([test_X_1,test_X_2])"
   ]
  },
  {
   "cell_type": "code",
   "execution_count": 350,
   "metadata": {},
   "outputs": [
    {
     "data": {
      "text/plain": [
       "(172, 20)"
      ]
     },
     "execution_count": 350,
     "metadata": {},
     "output_type": "execute_result"
    }
   ],
   "source": [
    "y111.shape"
   ]
  },
  {
   "cell_type": "code",
   "execution_count": null,
   "metadata": {},
   "outputs": [],
   "source": []
  }
 ],
 "metadata": {
  "kernelspec": {
   "display_name": "Python 3",
   "language": "python",
   "name": "python3"
  },
  "language_info": {
   "codemirror_mode": {
    "name": "ipython",
    "version": 3
   },
   "file_extension": ".py",
   "mimetype": "text/x-python",
   "name": "python",
   "nbconvert_exporter": "python",
   "pygments_lexer": "ipython3",
   "version": "3.8.5"
  }
 },
 "nbformat": 4,
 "nbformat_minor": 4
}
