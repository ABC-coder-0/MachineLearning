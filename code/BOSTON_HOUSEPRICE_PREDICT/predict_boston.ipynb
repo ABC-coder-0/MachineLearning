{
 "cells": [
  {
   "cell_type": "code",
   "execution_count": 1,
   "metadata": {
    "collapsed": true
   },
   "outputs": [],
   "source": [
    "from time import sleep\n",
    "import pandas as pd\n",
    "import seaborn as sns\n",
    "from sklearn.datasets import load_boston\n",
    "import numpy as np\n",
    "import matplotlib.pyplot as plt"
   ]
  },
  {
   "cell_type": "code",
   "execution_count": 2,
   "outputs": [],
   "source": [
    "dataset = load_boston()\n"
   ],
   "metadata": {
    "collapsed": false,
    "pycharm": {
     "name": "#%%\n"
    }
   }
  },
  {
   "cell_type": "code",
   "execution_count": 3,
   "outputs": [
    {
     "name": "stdout",
     "output_type": "stream",
     "text": [
      ".. _boston_dataset:\n",
      "\n",
      "Boston house prices dataset\n",
      "---------------------------\n",
      "\n",
      "**Data Set Characteristics:**  \n",
      "\n",
      "    :Number of Instances: 506 \n",
      "\n",
      "    :Number of Attributes: 13 numeric/categorical predictive. Median Value (attribute 14) is usually the target.\n",
      "\n",
      "    :Attribute Information (in order):\n",
      "        - CRIM     per capita crime rate by town\n",
      "        - ZN       proportion of residential land zoned for lots over 25,000 sq.ft.\n",
      "        - INDUS    proportion of non-retail business acres per town\n",
      "        - CHAS     Charles River dummy variable (= 1 if tract bounds river; 0 otherwise)\n",
      "        - NOX      nitric oxides concentration (parts per 10 million)\n",
      "        - RM       average number of rooms per dwelling\n",
      "        - AGE      proportion of owner-occupied units built prior to 1940\n",
      "        - DIS      weighted distances to five Boston employment centres\n",
      "        - RAD      index of accessibility to radial highways\n",
      "        - TAX      full-value property-tax rate per $10,000\n",
      "        - PTRATIO  pupil-teacher ratio by town\n",
      "        - B        1000(Bk - 0.63)^2 where Bk is the proportion of blacks by town\n",
      "        - LSTAT    % lower status of the population\n",
      "        - MEDV     Median value of owner-occupied homes in $1000's\n",
      "\n",
      "    :Missing Attribute Values: None\n",
      "\n",
      "    :Creator: Harrison, D. and Rubinfeld, D.L.\n",
      "\n",
      "This is a copy of UCI ML housing dataset.\n",
      "https://archive.ics.uci.edu/ml/machine-learning-databases/housing/\n",
      "\n",
      "\n",
      "This dataset was taken from the StatLib library which is maintained at Carnegie Mellon University.\n",
      "\n",
      "The Boston house-price data of Harrison, D. and Rubinfeld, D.L. 'Hedonic\n",
      "prices and the demand for clean air', J. Environ. Economics & Management,\n",
      "vol.5, 81-102, 1978.   Used in Belsley, Kuh & Welsch, 'Regression diagnostics\n",
      "...', Wiley, 1980.   N.B. Various transformations are used in the table on\n",
      "pages 244-261 of the latter.\n",
      "\n",
      "The Boston house-price data has been used in many machine learning papers that address regression\n",
      "problems.   \n",
      "     \n",
      ".. topic:: References\n",
      "\n",
      "   - Belsley, Kuh & Welsch, 'Regression diagnostics: Identifying Influential Data and Sources of Collinearity', Wiley, 1980. 244-261.\n",
      "   - Quinlan,R. (1993). Combining Instance-Based and Model-Based Learning. In Proceedings on the Tenth International Conference of Machine Learning, 236-243, University of Massachusetts, Amherst. Morgan Kaufmann.\n",
      "\n"
     ]
    }
   ],
   "source": [
    "dir(dataset)\n",
    "print(dataset['DESCR'])"
   ],
   "metadata": {
    "collapsed": false,
    "pycharm": {
     "name": "#%%\n"
    }
   }
  },
  {
   "cell_type": "code",
   "execution_count": 4,
   "outputs": [
    {
     "data": {
      "text/plain": "array(['CRIM', 'ZN', 'INDUS', 'CHAS', 'NOX', 'RM', 'AGE', 'DIS', 'RAD',\n       'TAX', 'PTRATIO', 'B', 'LSTAT'], dtype='<U7')"
     },
     "execution_count": 4,
     "metadata": {},
     "output_type": "execute_result"
    }
   ],
   "source": [
    "dataset['feature_names']\n"
   ],
   "metadata": {
    "collapsed": false,
    "pycharm": {
     "name": "#%%\n"
    }
   }
  },
  {
   "cell_type": "code",
   "execution_count": 5,
   "outputs": [
    {
     "data": {
      "text/plain": "506"
     },
     "execution_count": 5,
     "metadata": {},
     "output_type": "execute_result"
    }
   ],
   "source": [
    "len(dataset['target'])"
   ],
   "metadata": {
    "collapsed": false,
    "pycharm": {
     "name": "#%%\n"
    }
   }
  },
  {
   "cell_type": "code",
   "execution_count": 6,
   "outputs": [],
   "source": [
    "dataframe = pd.DataFrame(dataset['data'])"
   ],
   "metadata": {
    "collapsed": false,
    "pycharm": {
     "name": "#%%\n"
    }
   }
  },
  {
   "cell_type": "code",
   "execution_count": 7,
   "outputs": [
    {
     "data": {
      "text/plain": "          0     1      2    3      4      5     6       7    8      9     10  \\\n0    0.00632  18.0   2.31  0.0  0.538  6.575  65.2  4.0900  1.0  296.0  15.3   \n1    0.02731   0.0   7.07  0.0  0.469  6.421  78.9  4.9671  2.0  242.0  17.8   \n2    0.02729   0.0   7.07  0.0  0.469  7.185  61.1  4.9671  2.0  242.0  17.8   \n3    0.03237   0.0   2.18  0.0  0.458  6.998  45.8  6.0622  3.0  222.0  18.7   \n4    0.06905   0.0   2.18  0.0  0.458  7.147  54.2  6.0622  3.0  222.0  18.7   \n..       ...   ...    ...  ...    ...    ...   ...     ...  ...    ...   ...   \n501  0.06263   0.0  11.93  0.0  0.573  6.593  69.1  2.4786  1.0  273.0  21.0   \n502  0.04527   0.0  11.93  0.0  0.573  6.120  76.7  2.2875  1.0  273.0  21.0   \n503  0.06076   0.0  11.93  0.0  0.573  6.976  91.0  2.1675  1.0  273.0  21.0   \n504  0.10959   0.0  11.93  0.0  0.573  6.794  89.3  2.3889  1.0  273.0  21.0   \n505  0.04741   0.0  11.93  0.0  0.573  6.030  80.8  2.5050  1.0  273.0  21.0   \n\n         11    12  \n0    396.90  4.98  \n1    396.90  9.14  \n2    392.83  4.03  \n3    394.63  2.94  \n4    396.90  5.33  \n..      ...   ...  \n501  391.99  9.67  \n502  396.90  9.08  \n503  396.90  5.64  \n504  393.45  6.48  \n505  396.90  7.88  \n\n[506 rows x 13 columns]",
      "text/html": "<div>\n<style scoped>\n    .dataframe tbody tr th:only-of-type {\n        vertical-align: middle;\n    }\n\n    .dataframe tbody tr th {\n        vertical-align: top;\n    }\n\n    .dataframe thead th {\n        text-align: right;\n    }\n</style>\n<table border=\"1\" class=\"dataframe\">\n  <thead>\n    <tr style=\"text-align: right;\">\n      <th></th>\n      <th>0</th>\n      <th>1</th>\n      <th>2</th>\n      <th>3</th>\n      <th>4</th>\n      <th>5</th>\n      <th>6</th>\n      <th>7</th>\n      <th>8</th>\n      <th>9</th>\n      <th>10</th>\n      <th>11</th>\n      <th>12</th>\n    </tr>\n  </thead>\n  <tbody>\n    <tr>\n      <th>0</th>\n      <td>0.00632</td>\n      <td>18.0</td>\n      <td>2.31</td>\n      <td>0.0</td>\n      <td>0.538</td>\n      <td>6.575</td>\n      <td>65.2</td>\n      <td>4.0900</td>\n      <td>1.0</td>\n      <td>296.0</td>\n      <td>15.3</td>\n      <td>396.90</td>\n      <td>4.98</td>\n    </tr>\n    <tr>\n      <th>1</th>\n      <td>0.02731</td>\n      <td>0.0</td>\n      <td>7.07</td>\n      <td>0.0</td>\n      <td>0.469</td>\n      <td>6.421</td>\n      <td>78.9</td>\n      <td>4.9671</td>\n      <td>2.0</td>\n      <td>242.0</td>\n      <td>17.8</td>\n      <td>396.90</td>\n      <td>9.14</td>\n    </tr>\n    <tr>\n      <th>2</th>\n      <td>0.02729</td>\n      <td>0.0</td>\n      <td>7.07</td>\n      <td>0.0</td>\n      <td>0.469</td>\n      <td>7.185</td>\n      <td>61.1</td>\n      <td>4.9671</td>\n      <td>2.0</td>\n      <td>242.0</td>\n      <td>17.8</td>\n      <td>392.83</td>\n      <td>4.03</td>\n    </tr>\n    <tr>\n      <th>3</th>\n      <td>0.03237</td>\n      <td>0.0</td>\n      <td>2.18</td>\n      <td>0.0</td>\n      <td>0.458</td>\n      <td>6.998</td>\n      <td>45.8</td>\n      <td>6.0622</td>\n      <td>3.0</td>\n      <td>222.0</td>\n      <td>18.7</td>\n      <td>394.63</td>\n      <td>2.94</td>\n    </tr>\n    <tr>\n      <th>4</th>\n      <td>0.06905</td>\n      <td>0.0</td>\n      <td>2.18</td>\n      <td>0.0</td>\n      <td>0.458</td>\n      <td>7.147</td>\n      <td>54.2</td>\n      <td>6.0622</td>\n      <td>3.0</td>\n      <td>222.0</td>\n      <td>18.7</td>\n      <td>396.90</td>\n      <td>5.33</td>\n    </tr>\n    <tr>\n      <th>...</th>\n      <td>...</td>\n      <td>...</td>\n      <td>...</td>\n      <td>...</td>\n      <td>...</td>\n      <td>...</td>\n      <td>...</td>\n      <td>...</td>\n      <td>...</td>\n      <td>...</td>\n      <td>...</td>\n      <td>...</td>\n      <td>...</td>\n    </tr>\n    <tr>\n      <th>501</th>\n      <td>0.06263</td>\n      <td>0.0</td>\n      <td>11.93</td>\n      <td>0.0</td>\n      <td>0.573</td>\n      <td>6.593</td>\n      <td>69.1</td>\n      <td>2.4786</td>\n      <td>1.0</td>\n      <td>273.0</td>\n      <td>21.0</td>\n      <td>391.99</td>\n      <td>9.67</td>\n    </tr>\n    <tr>\n      <th>502</th>\n      <td>0.04527</td>\n      <td>0.0</td>\n      <td>11.93</td>\n      <td>0.0</td>\n      <td>0.573</td>\n      <td>6.120</td>\n      <td>76.7</td>\n      <td>2.2875</td>\n      <td>1.0</td>\n      <td>273.0</td>\n      <td>21.0</td>\n      <td>396.90</td>\n      <td>9.08</td>\n    </tr>\n    <tr>\n      <th>503</th>\n      <td>0.06076</td>\n      <td>0.0</td>\n      <td>11.93</td>\n      <td>0.0</td>\n      <td>0.573</td>\n      <td>6.976</td>\n      <td>91.0</td>\n      <td>2.1675</td>\n      <td>1.0</td>\n      <td>273.0</td>\n      <td>21.0</td>\n      <td>396.90</td>\n      <td>5.64</td>\n    </tr>\n    <tr>\n      <th>504</th>\n      <td>0.10959</td>\n      <td>0.0</td>\n      <td>11.93</td>\n      <td>0.0</td>\n      <td>0.573</td>\n      <td>6.794</td>\n      <td>89.3</td>\n      <td>2.3889</td>\n      <td>1.0</td>\n      <td>273.0</td>\n      <td>21.0</td>\n      <td>393.45</td>\n      <td>6.48</td>\n    </tr>\n    <tr>\n      <th>505</th>\n      <td>0.04741</td>\n      <td>0.0</td>\n      <td>11.93</td>\n      <td>0.0</td>\n      <td>0.573</td>\n      <td>6.030</td>\n      <td>80.8</td>\n      <td>2.5050</td>\n      <td>1.0</td>\n      <td>273.0</td>\n      <td>21.0</td>\n      <td>396.90</td>\n      <td>7.88</td>\n    </tr>\n  </tbody>\n</table>\n<p>506 rows × 13 columns</p>\n</div>"
     },
     "execution_count": 7,
     "metadata": {},
     "output_type": "execute_result"
    }
   ],
   "source": [
    "dataframe"
   ],
   "metadata": {
    "collapsed": false,
    "pycharm": {
     "name": "#%%\n"
    }
   }
  },
  {
   "cell_type": "code",
   "execution_count": 8,
   "outputs": [],
   "source": [
    "dataframe.columns = dataset['feature_names']"
   ],
   "metadata": {
    "collapsed": false,
    "pycharm": {
     "name": "#%%\n"
    }
   }
  },
  {
   "cell_type": "code",
   "execution_count": 9,
   "outputs": [],
   "source": [
    "dataframe['price']  = dataset['target']\n"
   ],
   "metadata": {
    "collapsed": false,
    "pycharm": {
     "name": "#%%\n"
    }
   }
  },
  {
   "cell_type": "code",
   "execution_count": 10,
   "outputs": [
    {
     "data": {
      "text/plain": "        CRIM    ZN  INDUS  CHAS    NOX     RM   AGE     DIS  RAD    TAX  \\\n0    0.00632  18.0   2.31   0.0  0.538  6.575  65.2  4.0900  1.0  296.0   \n1    0.02731   0.0   7.07   0.0  0.469  6.421  78.9  4.9671  2.0  242.0   \n2    0.02729   0.0   7.07   0.0  0.469  7.185  61.1  4.9671  2.0  242.0   \n3    0.03237   0.0   2.18   0.0  0.458  6.998  45.8  6.0622  3.0  222.0   \n4    0.06905   0.0   2.18   0.0  0.458  7.147  54.2  6.0622  3.0  222.0   \n..       ...   ...    ...   ...    ...    ...   ...     ...  ...    ...   \n501  0.06263   0.0  11.93   0.0  0.573  6.593  69.1  2.4786  1.0  273.0   \n502  0.04527   0.0  11.93   0.0  0.573  6.120  76.7  2.2875  1.0  273.0   \n503  0.06076   0.0  11.93   0.0  0.573  6.976  91.0  2.1675  1.0  273.0   \n504  0.10959   0.0  11.93   0.0  0.573  6.794  89.3  2.3889  1.0  273.0   \n505  0.04741   0.0  11.93   0.0  0.573  6.030  80.8  2.5050  1.0  273.0   \n\n     PTRATIO       B  LSTAT  price  \n0       15.3  396.90   4.98   24.0  \n1       17.8  396.90   9.14   21.6  \n2       17.8  392.83   4.03   34.7  \n3       18.7  394.63   2.94   33.4  \n4       18.7  396.90   5.33   36.2  \n..       ...     ...    ...    ...  \n501     21.0  391.99   9.67   22.4  \n502     21.0  396.90   9.08   20.6  \n503     21.0  396.90   5.64   23.9  \n504     21.0  393.45   6.48   22.0  \n505     21.0  396.90   7.88   11.9  \n\n[506 rows x 14 columns]",
      "text/html": "<div>\n<style scoped>\n    .dataframe tbody tr th:only-of-type {\n        vertical-align: middle;\n    }\n\n    .dataframe tbody tr th {\n        vertical-align: top;\n    }\n\n    .dataframe thead th {\n        text-align: right;\n    }\n</style>\n<table border=\"1\" class=\"dataframe\">\n  <thead>\n    <tr style=\"text-align: right;\">\n      <th></th>\n      <th>CRIM</th>\n      <th>ZN</th>\n      <th>INDUS</th>\n      <th>CHAS</th>\n      <th>NOX</th>\n      <th>RM</th>\n      <th>AGE</th>\n      <th>DIS</th>\n      <th>RAD</th>\n      <th>TAX</th>\n      <th>PTRATIO</th>\n      <th>B</th>\n      <th>LSTAT</th>\n      <th>price</th>\n    </tr>\n  </thead>\n  <tbody>\n    <tr>\n      <th>0</th>\n      <td>0.00632</td>\n      <td>18.0</td>\n      <td>2.31</td>\n      <td>0.0</td>\n      <td>0.538</td>\n      <td>6.575</td>\n      <td>65.2</td>\n      <td>4.0900</td>\n      <td>1.0</td>\n      <td>296.0</td>\n      <td>15.3</td>\n      <td>396.90</td>\n      <td>4.98</td>\n      <td>24.0</td>\n    </tr>\n    <tr>\n      <th>1</th>\n      <td>0.02731</td>\n      <td>0.0</td>\n      <td>7.07</td>\n      <td>0.0</td>\n      <td>0.469</td>\n      <td>6.421</td>\n      <td>78.9</td>\n      <td>4.9671</td>\n      <td>2.0</td>\n      <td>242.0</td>\n      <td>17.8</td>\n      <td>396.90</td>\n      <td>9.14</td>\n      <td>21.6</td>\n    </tr>\n    <tr>\n      <th>2</th>\n      <td>0.02729</td>\n      <td>0.0</td>\n      <td>7.07</td>\n      <td>0.0</td>\n      <td>0.469</td>\n      <td>7.185</td>\n      <td>61.1</td>\n      <td>4.9671</td>\n      <td>2.0</td>\n      <td>242.0</td>\n      <td>17.8</td>\n      <td>392.83</td>\n      <td>4.03</td>\n      <td>34.7</td>\n    </tr>\n    <tr>\n      <th>3</th>\n      <td>0.03237</td>\n      <td>0.0</td>\n      <td>2.18</td>\n      <td>0.0</td>\n      <td>0.458</td>\n      <td>6.998</td>\n      <td>45.8</td>\n      <td>6.0622</td>\n      <td>3.0</td>\n      <td>222.0</td>\n      <td>18.7</td>\n      <td>394.63</td>\n      <td>2.94</td>\n      <td>33.4</td>\n    </tr>\n    <tr>\n      <th>4</th>\n      <td>0.06905</td>\n      <td>0.0</td>\n      <td>2.18</td>\n      <td>0.0</td>\n      <td>0.458</td>\n      <td>7.147</td>\n      <td>54.2</td>\n      <td>6.0622</td>\n      <td>3.0</td>\n      <td>222.0</td>\n      <td>18.7</td>\n      <td>396.90</td>\n      <td>5.33</td>\n      <td>36.2</td>\n    </tr>\n    <tr>\n      <th>...</th>\n      <td>...</td>\n      <td>...</td>\n      <td>...</td>\n      <td>...</td>\n      <td>...</td>\n      <td>...</td>\n      <td>...</td>\n      <td>...</td>\n      <td>...</td>\n      <td>...</td>\n      <td>...</td>\n      <td>...</td>\n      <td>...</td>\n      <td>...</td>\n    </tr>\n    <tr>\n      <th>501</th>\n      <td>0.06263</td>\n      <td>0.0</td>\n      <td>11.93</td>\n      <td>0.0</td>\n      <td>0.573</td>\n      <td>6.593</td>\n      <td>69.1</td>\n      <td>2.4786</td>\n      <td>1.0</td>\n      <td>273.0</td>\n      <td>21.0</td>\n      <td>391.99</td>\n      <td>9.67</td>\n      <td>22.4</td>\n    </tr>\n    <tr>\n      <th>502</th>\n      <td>0.04527</td>\n      <td>0.0</td>\n      <td>11.93</td>\n      <td>0.0</td>\n      <td>0.573</td>\n      <td>6.120</td>\n      <td>76.7</td>\n      <td>2.2875</td>\n      <td>1.0</td>\n      <td>273.0</td>\n      <td>21.0</td>\n      <td>396.90</td>\n      <td>9.08</td>\n      <td>20.6</td>\n    </tr>\n    <tr>\n      <th>503</th>\n      <td>0.06076</td>\n      <td>0.0</td>\n      <td>11.93</td>\n      <td>0.0</td>\n      <td>0.573</td>\n      <td>6.976</td>\n      <td>91.0</td>\n      <td>2.1675</td>\n      <td>1.0</td>\n      <td>273.0</td>\n      <td>21.0</td>\n      <td>396.90</td>\n      <td>5.64</td>\n      <td>23.9</td>\n    </tr>\n    <tr>\n      <th>504</th>\n      <td>0.10959</td>\n      <td>0.0</td>\n      <td>11.93</td>\n      <td>0.0</td>\n      <td>0.573</td>\n      <td>6.794</td>\n      <td>89.3</td>\n      <td>2.3889</td>\n      <td>1.0</td>\n      <td>273.0</td>\n      <td>21.0</td>\n      <td>393.45</td>\n      <td>6.48</td>\n      <td>22.0</td>\n    </tr>\n    <tr>\n      <th>505</th>\n      <td>0.04741</td>\n      <td>0.0</td>\n      <td>11.93</td>\n      <td>0.0</td>\n      <td>0.573</td>\n      <td>6.030</td>\n      <td>80.8</td>\n      <td>2.5050</td>\n      <td>1.0</td>\n      <td>273.0</td>\n      <td>21.0</td>\n      <td>396.90</td>\n      <td>7.88</td>\n      <td>11.9</td>\n    </tr>\n  </tbody>\n</table>\n<p>506 rows × 14 columns</p>\n</div>"
     },
     "execution_count": 10,
     "metadata": {},
     "output_type": "execute_result"
    }
   ],
   "source": [
    "dataframe"
   ],
   "metadata": {
    "collapsed": false,
    "pycharm": {
     "name": "#%%\n"
    }
   }
  },
  {
   "cell_type": "code",
   "execution_count": 11,
   "outputs": [
    {
     "data": {
      "text/plain": "             CRIM        ZN     INDUS      CHAS       NOX        RM       AGE  \\\nCRIM     1.000000 -0.200469  0.406583 -0.055892  0.420972 -0.219247  0.352734   \nZN      -0.200469  1.000000 -0.533828 -0.042697 -0.516604  0.311991 -0.569537   \nINDUS    0.406583 -0.533828  1.000000  0.062938  0.763651 -0.391676  0.644779   \nCHAS    -0.055892 -0.042697  0.062938  1.000000  0.091203  0.091251  0.086518   \nNOX      0.420972 -0.516604  0.763651  0.091203  1.000000 -0.302188  0.731470   \nRM      -0.219247  0.311991 -0.391676  0.091251 -0.302188  1.000000 -0.240265   \nAGE      0.352734 -0.569537  0.644779  0.086518  0.731470 -0.240265  1.000000   \nDIS     -0.379670  0.664408 -0.708027 -0.099176 -0.769230  0.205246 -0.747881   \nRAD      0.625505 -0.311948  0.595129 -0.007368  0.611441 -0.209847  0.456022   \nTAX      0.582764 -0.314563  0.720760 -0.035587  0.668023 -0.292048  0.506456   \nPTRATIO  0.289946 -0.391679  0.383248 -0.121515  0.188933 -0.355501  0.261515   \nB       -0.385064  0.175520 -0.356977  0.048788 -0.380051  0.128069 -0.273534   \nLSTAT    0.455621 -0.412995  0.603800 -0.053929  0.590879 -0.613808  0.602339   \nprice   -0.388305  0.360445 -0.483725  0.175260 -0.427321  0.695360 -0.376955   \n\n              DIS       RAD       TAX   PTRATIO         B     LSTAT     price  \nCRIM    -0.379670  0.625505  0.582764  0.289946 -0.385064  0.455621 -0.388305  \nZN       0.664408 -0.311948 -0.314563 -0.391679  0.175520 -0.412995  0.360445  \nINDUS   -0.708027  0.595129  0.720760  0.383248 -0.356977  0.603800 -0.483725  \nCHAS    -0.099176 -0.007368 -0.035587 -0.121515  0.048788 -0.053929  0.175260  \nNOX     -0.769230  0.611441  0.668023  0.188933 -0.380051  0.590879 -0.427321  \nRM       0.205246 -0.209847 -0.292048 -0.355501  0.128069 -0.613808  0.695360  \nAGE     -0.747881  0.456022  0.506456  0.261515 -0.273534  0.602339 -0.376955  \nDIS      1.000000 -0.494588 -0.534432 -0.232471  0.291512 -0.496996  0.249929  \nRAD     -0.494588  1.000000  0.910228  0.464741 -0.444413  0.488676 -0.381626  \nTAX     -0.534432  0.910228  1.000000  0.460853 -0.441808  0.543993 -0.468536  \nPTRATIO -0.232471  0.464741  0.460853  1.000000 -0.177383  0.374044 -0.507787  \nB        0.291512 -0.444413 -0.441808 -0.177383  1.000000 -0.366087  0.333461  \nLSTAT   -0.496996  0.488676  0.543993  0.374044 -0.366087  1.000000 -0.737663  \nprice    0.249929 -0.381626 -0.468536 -0.507787  0.333461 -0.737663  1.000000  ",
      "text/html": "<div>\n<style scoped>\n    .dataframe tbody tr th:only-of-type {\n        vertical-align: middle;\n    }\n\n    .dataframe tbody tr th {\n        vertical-align: top;\n    }\n\n    .dataframe thead th {\n        text-align: right;\n    }\n</style>\n<table border=\"1\" class=\"dataframe\">\n  <thead>\n    <tr style=\"text-align: right;\">\n      <th></th>\n      <th>CRIM</th>\n      <th>ZN</th>\n      <th>INDUS</th>\n      <th>CHAS</th>\n      <th>NOX</th>\n      <th>RM</th>\n      <th>AGE</th>\n      <th>DIS</th>\n      <th>RAD</th>\n      <th>TAX</th>\n      <th>PTRATIO</th>\n      <th>B</th>\n      <th>LSTAT</th>\n      <th>price</th>\n    </tr>\n  </thead>\n  <tbody>\n    <tr>\n      <th>CRIM</th>\n      <td>1.000000</td>\n      <td>-0.200469</td>\n      <td>0.406583</td>\n      <td>-0.055892</td>\n      <td>0.420972</td>\n      <td>-0.219247</td>\n      <td>0.352734</td>\n      <td>-0.379670</td>\n      <td>0.625505</td>\n      <td>0.582764</td>\n      <td>0.289946</td>\n      <td>-0.385064</td>\n      <td>0.455621</td>\n      <td>-0.388305</td>\n    </tr>\n    <tr>\n      <th>ZN</th>\n      <td>-0.200469</td>\n      <td>1.000000</td>\n      <td>-0.533828</td>\n      <td>-0.042697</td>\n      <td>-0.516604</td>\n      <td>0.311991</td>\n      <td>-0.569537</td>\n      <td>0.664408</td>\n      <td>-0.311948</td>\n      <td>-0.314563</td>\n      <td>-0.391679</td>\n      <td>0.175520</td>\n      <td>-0.412995</td>\n      <td>0.360445</td>\n    </tr>\n    <tr>\n      <th>INDUS</th>\n      <td>0.406583</td>\n      <td>-0.533828</td>\n      <td>1.000000</td>\n      <td>0.062938</td>\n      <td>0.763651</td>\n      <td>-0.391676</td>\n      <td>0.644779</td>\n      <td>-0.708027</td>\n      <td>0.595129</td>\n      <td>0.720760</td>\n      <td>0.383248</td>\n      <td>-0.356977</td>\n      <td>0.603800</td>\n      <td>-0.483725</td>\n    </tr>\n    <tr>\n      <th>CHAS</th>\n      <td>-0.055892</td>\n      <td>-0.042697</td>\n      <td>0.062938</td>\n      <td>1.000000</td>\n      <td>0.091203</td>\n      <td>0.091251</td>\n      <td>0.086518</td>\n      <td>-0.099176</td>\n      <td>-0.007368</td>\n      <td>-0.035587</td>\n      <td>-0.121515</td>\n      <td>0.048788</td>\n      <td>-0.053929</td>\n      <td>0.175260</td>\n    </tr>\n    <tr>\n      <th>NOX</th>\n      <td>0.420972</td>\n      <td>-0.516604</td>\n      <td>0.763651</td>\n      <td>0.091203</td>\n      <td>1.000000</td>\n      <td>-0.302188</td>\n      <td>0.731470</td>\n      <td>-0.769230</td>\n      <td>0.611441</td>\n      <td>0.668023</td>\n      <td>0.188933</td>\n      <td>-0.380051</td>\n      <td>0.590879</td>\n      <td>-0.427321</td>\n    </tr>\n    <tr>\n      <th>RM</th>\n      <td>-0.219247</td>\n      <td>0.311991</td>\n      <td>-0.391676</td>\n      <td>0.091251</td>\n      <td>-0.302188</td>\n      <td>1.000000</td>\n      <td>-0.240265</td>\n      <td>0.205246</td>\n      <td>-0.209847</td>\n      <td>-0.292048</td>\n      <td>-0.355501</td>\n      <td>0.128069</td>\n      <td>-0.613808</td>\n      <td>0.695360</td>\n    </tr>\n    <tr>\n      <th>AGE</th>\n      <td>0.352734</td>\n      <td>-0.569537</td>\n      <td>0.644779</td>\n      <td>0.086518</td>\n      <td>0.731470</td>\n      <td>-0.240265</td>\n      <td>1.000000</td>\n      <td>-0.747881</td>\n      <td>0.456022</td>\n      <td>0.506456</td>\n      <td>0.261515</td>\n      <td>-0.273534</td>\n      <td>0.602339</td>\n      <td>-0.376955</td>\n    </tr>\n    <tr>\n      <th>DIS</th>\n      <td>-0.379670</td>\n      <td>0.664408</td>\n      <td>-0.708027</td>\n      <td>-0.099176</td>\n      <td>-0.769230</td>\n      <td>0.205246</td>\n      <td>-0.747881</td>\n      <td>1.000000</td>\n      <td>-0.494588</td>\n      <td>-0.534432</td>\n      <td>-0.232471</td>\n      <td>0.291512</td>\n      <td>-0.496996</td>\n      <td>0.249929</td>\n    </tr>\n    <tr>\n      <th>RAD</th>\n      <td>0.625505</td>\n      <td>-0.311948</td>\n      <td>0.595129</td>\n      <td>-0.007368</td>\n      <td>0.611441</td>\n      <td>-0.209847</td>\n      <td>0.456022</td>\n      <td>-0.494588</td>\n      <td>1.000000</td>\n      <td>0.910228</td>\n      <td>0.464741</td>\n      <td>-0.444413</td>\n      <td>0.488676</td>\n      <td>-0.381626</td>\n    </tr>\n    <tr>\n      <th>TAX</th>\n      <td>0.582764</td>\n      <td>-0.314563</td>\n      <td>0.720760</td>\n      <td>-0.035587</td>\n      <td>0.668023</td>\n      <td>-0.292048</td>\n      <td>0.506456</td>\n      <td>-0.534432</td>\n      <td>0.910228</td>\n      <td>1.000000</td>\n      <td>0.460853</td>\n      <td>-0.441808</td>\n      <td>0.543993</td>\n      <td>-0.468536</td>\n    </tr>\n    <tr>\n      <th>PTRATIO</th>\n      <td>0.289946</td>\n      <td>-0.391679</td>\n      <td>0.383248</td>\n      <td>-0.121515</td>\n      <td>0.188933</td>\n      <td>-0.355501</td>\n      <td>0.261515</td>\n      <td>-0.232471</td>\n      <td>0.464741</td>\n      <td>0.460853</td>\n      <td>1.000000</td>\n      <td>-0.177383</td>\n      <td>0.374044</td>\n      <td>-0.507787</td>\n    </tr>\n    <tr>\n      <th>B</th>\n      <td>-0.385064</td>\n      <td>0.175520</td>\n      <td>-0.356977</td>\n      <td>0.048788</td>\n      <td>-0.380051</td>\n      <td>0.128069</td>\n      <td>-0.273534</td>\n      <td>0.291512</td>\n      <td>-0.444413</td>\n      <td>-0.441808</td>\n      <td>-0.177383</td>\n      <td>1.000000</td>\n      <td>-0.366087</td>\n      <td>0.333461</td>\n    </tr>\n    <tr>\n      <th>LSTAT</th>\n      <td>0.455621</td>\n      <td>-0.412995</td>\n      <td>0.603800</td>\n      <td>-0.053929</td>\n      <td>0.590879</td>\n      <td>-0.613808</td>\n      <td>0.602339</td>\n      <td>-0.496996</td>\n      <td>0.488676</td>\n      <td>0.543993</td>\n      <td>0.374044</td>\n      <td>-0.366087</td>\n      <td>1.000000</td>\n      <td>-0.737663</td>\n    </tr>\n    <tr>\n      <th>price</th>\n      <td>-0.388305</td>\n      <td>0.360445</td>\n      <td>-0.483725</td>\n      <td>0.175260</td>\n      <td>-0.427321</td>\n      <td>0.695360</td>\n      <td>-0.376955</td>\n      <td>0.249929</td>\n      <td>-0.381626</td>\n      <td>-0.468536</td>\n      <td>-0.507787</td>\n      <td>0.333461</td>\n      <td>-0.737663</td>\n      <td>1.000000</td>\n    </tr>\n  </tbody>\n</table>\n</div>"
     },
     "execution_count": 11,
     "metadata": {},
     "output_type": "execute_result"
    }
   ],
   "source": [
    "# 确定 features 之间的相关性\n",
    "dataframe.corr()"
   ],
   "metadata": {
    "collapsed": false,
    "pycharm": {
     "name": "#%%\n"
    }
   }
  },
  {
   "cell_type": "code",
   "execution_count": 12,
   "outputs": [
    {
     "data": {
      "text/plain": "<AxesSubplot:>"
     },
     "execution_count": 12,
     "metadata": {},
     "output_type": "execute_result"
    },
    {
     "data": {
      "text/plain": "<Figure size 432x288 with 2 Axes>",
      "image/png": "[encoded data removed]"
     },
     "metadata": {
      "needs_background": "light"
     },
     "output_type": "display_data"
    }
   ],
   "source": [
    "sns.heatmap(data=dataframe.corr(),annot=True,fmt=\".1f\")\n",
    "# 根据热度图我们能够看出跟房价最正相关的feature是RM；最负相关的是LSTAT"
   ],
   "metadata": {
    "collapsed": false,
    "pycharm": {
     "name": "#%%\n"
    }
   }
  },
  {
   "cell_type": "code",
   "execution_count": 13,
   "outputs": [
    {
     "data": {
      "text/plain": "array([6.575, 6.421, 7.185, 6.998, 7.147, 6.43 , 6.012, 6.172, 5.631,\n       6.004, 6.377, 6.009, 5.889, 5.949, 6.096, 5.834, 5.935, 5.99 ,\n       5.456, 5.727, 5.57 , 5.965, 6.142, 5.813, 5.924, 5.599, 5.813,\n       6.047, 6.495, 6.674, 5.713, 6.072, 5.95 , 5.701, 6.096, 5.933,\n       5.841, 5.85 , 5.966, 6.595, 7.024, 6.77 , 6.169, 6.211, 6.069,\n       5.682, 5.786, 6.03 , 5.399, 5.602, 5.963, 6.115, 6.511, 5.998,\n       5.888, 7.249, 6.383, 6.816, 6.145, 5.927, 5.741, 5.966, 6.456,\n       6.762, 7.104, 6.29 , 5.787, 5.878, 5.594, 5.885, 6.417, 5.961,\n       6.065, 6.245, 6.273, 6.286, 6.279, 6.14 , 6.232, 5.874, 6.727,\n       6.619, 6.302, 6.167, 6.389, 6.63 , 6.015, 6.121, 7.007, 7.079,\n       6.417, 6.405, 6.442, 6.211, 6.249, 6.625, 6.163, 8.069, 7.82 ,\n       7.416, 6.727, 6.781, 6.405, 6.137, 6.167, 5.851, 5.836, 6.127,\n       6.474, 6.229, 6.195, 6.715, 5.913, 6.092, 6.254, 5.928, 6.176,\n       6.021, 5.872, 5.731, 5.87 , 6.004, 5.961, 5.856, 5.879, 5.986,\n       5.613, 5.693, 6.431, 5.637, 6.458, 6.326, 6.372, 5.822, 5.757,\n       6.335, 5.942, 6.454, 5.857, 6.151, 6.174, 5.019, 5.403, 5.468,\n       4.903, 6.13 , 5.628, 4.926, 5.186, 5.597, 6.122, 5.404, 5.012,\n       5.709, 6.129, 6.152, 5.272, 6.943, 6.066, 6.51 , 6.25 , 7.489,\n       7.802, 8.375, 5.854, 6.101, 7.929, 5.877, 6.319, 6.402, 5.875,\n       5.88 , 5.572, 6.416, 5.859, 6.546, 6.02 , 6.315, 6.86 , 6.98 ,\n       7.765, 6.144, 7.155, 6.563, 5.604, 6.153, 7.831, 6.782, 6.556,\n       7.185, 6.951, 6.739, 7.178, 6.8  , 6.604, 7.875, 7.287, 7.107,\n       7.274, 6.975, 7.135, 6.162, 7.61 , 7.853, 8.034, 5.891, 6.326,\n       5.783, 6.064, 5.344, 5.96 , 5.404, 5.807, 6.375, 5.412, 6.182,\n       5.888, 6.642, 5.951, 6.373, 6.951, 6.164, 6.879, 6.618, 8.266,\n       8.725, 8.04 , 7.163, 7.686, 6.552, 5.981, 7.412, 8.337, 8.247,\n       6.726, 6.086, 6.631, 7.358, 6.481, 6.606, 6.897, 6.095, 6.358,\n       6.393, 5.593, 5.605, 6.108, 6.226, 6.433, 6.718, 6.487, 6.438,\n       6.957, 8.259, 6.108, 5.876, 7.454, 8.704, 7.333, 6.842, 7.203,\n       7.52 , 8.398, 7.327, 7.206, 5.56 , 7.014, 8.297, 7.47 , 5.92 ,\n       5.856, 6.24 , 6.538, 7.691, 6.758, 6.854, 7.267, 6.826, 6.482,\n       6.812, 7.82 , 6.968, 7.645, 7.923, 7.088, 6.453, 6.23 , 6.209,\n       6.315, 6.565, 6.861, 7.148, 6.63 , 6.127, 6.009, 6.678, 6.549,\n       5.79 , 6.345, 7.041, 6.871, 6.59 , 6.495, 6.982, 7.236, 6.616,\n       7.42 , 6.849, 6.635, 5.972, 4.973, 6.122, 6.023, 6.266, 6.567,\n       5.705, 5.914, 5.782, 6.382, 6.113, 6.426, 6.376, 6.041, 5.708,\n       6.415, 6.431, 6.312, 6.083, 5.868, 6.333, 6.144, 5.706, 6.031,\n       6.316, 6.31 , 6.037, 5.869, 5.895, 6.059, 5.985, 5.968, 7.241,\n       6.54 , 6.696, 6.874, 6.014, 5.898, 6.516, 6.635, 6.939, 6.49 ,\n       6.579, 5.884, 6.728, 5.663, 5.936, 6.212, 6.395, 6.127, 6.112,\n       6.398, 6.251, 5.362, 5.803, 8.78 , 3.561, 4.963, 3.863, 4.97 ,\n       6.683, 7.016, 6.216, 5.875, 4.906, 4.138, 7.313, 6.649, 6.794,\n       6.38 , 6.223, 6.968, 6.545, 5.536, 5.52 , 4.368, 5.277, 4.652,\n       5.   , 4.88 , 5.39 , 5.713, 6.051, 5.036, 6.193, 5.887, 6.471,\n       6.405, 5.747, 5.453, 5.852, 5.987, 6.343, 6.404, 5.349, 5.531,\n       5.683, 4.138, 5.608, 5.617, 6.852, 5.757, 6.657, 4.628, 5.155,\n       4.519, 6.434, 6.782, 5.304, 5.957, 6.824, 6.411, 6.006, 5.648,\n       6.103, 5.565, 5.896, 5.837, 6.202, 6.193, 6.38 , 6.348, 6.833,\n       6.425, 6.436, 6.208, 6.629, 6.461, 6.152, 5.935, 5.627, 5.818,\n       6.406, 6.219, 6.485, 5.854, 6.459, 6.341, 6.251, 6.185, 6.417,\n       6.749, 6.655, 6.297, 7.393, 6.728, 6.525, 5.976, 5.936, 6.301,\n       6.081, 6.701, 6.376, 6.317, 6.513, 6.209, 5.759, 5.952, 6.003,\n       5.926, 5.713, 6.167, 6.229, 6.437, 6.98 , 5.427, 6.162, 6.484,\n       5.304, 6.185, 6.229, 6.242, 6.75 , 7.061, 5.762, 5.871, 6.312,\n       6.114, 5.905, 5.454, 5.414, 5.093, 5.983, 5.983, 5.707, 5.926,\n       5.67 , 5.39 , 5.794, 6.019, 5.569, 6.027, 6.593, 6.12 , 6.976,\n       6.794, 6.03 ])"
     },
     "execution_count": 13,
     "metadata": {},
     "output_type": "execute_result"
    }
   ],
   "source": [
    "X_rm = dataframe['RM'].values\n",
    "X_rm"
   ],
   "metadata": {
    "collapsed": false,
    "pycharm": {
     "name": "#%%\n"
    }
   }
  },
  {
   "cell_type": "code",
   "execution_count": 14,
   "outputs": [
    {
     "data": {
      "text/plain": "array([24. , 21.6, 34.7, 33.4, 36.2, 28.7, 22.9, 27.1, 16.5, 18.9, 15. ,\n       18.9, 21.7, 20.4, 18.2, 19.9, 23.1, 17.5, 20.2, 18.2, 13.6, 19.6,\n       15.2, 14.5, 15.6, 13.9, 16.6, 14.8, 18.4, 21. , 12.7, 14.5, 13.2,\n       13.1, 13.5, 18.9, 20. , 21. , 24.7, 30.8, 34.9, 26.6, 25.3, 24.7,\n       21.2, 19.3, 20. , 16.6, 14.4, 19.4, 19.7, 20.5, 25. , 23.4, 18.9,\n       35.4, 24.7, 31.6, 23.3, 19.6, 18.7, 16. , 22.2, 25. , 33. , 23.5,\n       19.4, 22. , 17.4, 20.9, 24.2, 21.7, 22.8, 23.4, 24.1, 21.4, 20. ,\n       20.8, 21.2, 20.3, 28. , 23.9, 24.8, 22.9, 23.9, 26.6, 22.5, 22.2,\n       23.6, 28.7, 22.6, 22. , 22.9, 25. , 20.6, 28.4, 21.4, 38.7, 43.8,\n       33.2, 27.5, 26.5, 18.6, 19.3, 20.1, 19.5, 19.5, 20.4, 19.8, 19.4,\n       21.7, 22.8, 18.8, 18.7, 18.5, 18.3, 21.2, 19.2, 20.4, 19.3, 22. ,\n       20.3, 20.5, 17.3, 18.8, 21.4, 15.7, 16.2, 18. , 14.3, 19.2, 19.6,\n       23. , 18.4, 15.6, 18.1, 17.4, 17.1, 13.3, 17.8, 14. , 14.4, 13.4,\n       15.6, 11.8, 13.8, 15.6, 14.6, 17.8, 15.4, 21.5, 19.6, 15.3, 19.4,\n       17. , 15.6, 13.1, 41.3, 24.3, 23.3, 27. , 50. , 50. , 50. , 22.7,\n       25. , 50. , 23.8, 23.8, 22.3, 17.4, 19.1, 23.1, 23.6, 22.6, 29.4,\n       23.2, 24.6, 29.9, 37.2, 39.8, 36.2, 37.9, 32.5, 26.4, 29.6, 50. ,\n       32. , 29.8, 34.9, 37. , 30.5, 36.4, 31.1, 29.1, 50. , 33.3, 30.3,\n       34.6, 34.9, 32.9, 24.1, 42.3, 48.5, 50. , 22.6, 24.4, 22.5, 24.4,\n       20. , 21.7, 19.3, 22.4, 28.1, 23.7, 25. , 23.3, 28.7, 21.5, 23. ,\n       26.7, 21.7, 27.5, 30.1, 44.8, 50. , 37.6, 31.6, 46.7, 31.5, 24.3,\n       31.7, 41.7, 48.3, 29. , 24. , 25.1, 31.5, 23.7, 23.3, 22. , 20.1,\n       22.2, 23.7, 17.6, 18.5, 24.3, 20.5, 24.5, 26.2, 24.4, 24.8, 29.6,\n       42.8, 21.9, 20.9, 44. , 50. , 36. , 30.1, 33.8, 43.1, 48.8, 31. ,\n       36.5, 22.8, 30.7, 50. , 43.5, 20.7, 21.1, 25.2, 24.4, 35.2, 32.4,\n       32. , 33.2, 33.1, 29.1, 35.1, 45.4, 35.4, 46. , 50. , 32.2, 22. ,\n       20.1, 23.2, 22.3, 24.8, 28.5, 37.3, 27.9, 23.9, 21.7, 28.6, 27.1,\n       20.3, 22.5, 29. , 24.8, 22. , 26.4, 33.1, 36.1, 28.4, 33.4, 28.2,\n       22.8, 20.3, 16.1, 22.1, 19.4, 21.6, 23.8, 16.2, 17.8, 19.8, 23.1,\n       21. , 23.8, 23.1, 20.4, 18.5, 25. , 24.6, 23. , 22.2, 19.3, 22.6,\n       19.8, 17.1, 19.4, 22.2, 20.7, 21.1, 19.5, 18.5, 20.6, 19. , 18.7,\n       32.7, 16.5, 23.9, 31.2, 17.5, 17.2, 23.1, 24.5, 26.6, 22.9, 24.1,\n       18.6, 30.1, 18.2, 20.6, 17.8, 21.7, 22.7, 22.6, 25. , 19.9, 20.8,\n       16.8, 21.9, 27.5, 21.9, 23.1, 50. , 50. , 50. , 50. , 50. , 13.8,\n       13.8, 15. , 13.9, 13.3, 13.1, 10.2, 10.4, 10.9, 11.3, 12.3,  8.8,\n        7.2, 10.5,  7.4, 10.2, 11.5, 15.1, 23.2,  9.7, 13.8, 12.7, 13.1,\n       12.5,  8.5,  5. ,  6.3,  5.6,  7.2, 12.1,  8.3,  8.5,  5. , 11.9,\n       27.9, 17.2, 27.5, 15. , 17.2, 17.9, 16.3,  7. ,  7.2,  7.5, 10.4,\n        8.8,  8.4, 16.7, 14.2, 20.8, 13.4, 11.7,  8.3, 10.2, 10.9, 11. ,\n        9.5, 14.5, 14.1, 16.1, 14.3, 11.7, 13.4,  9.6,  8.7,  8.4, 12.8,\n       10.5, 17.1, 18.4, 15.4, 10.8, 11.8, 14.9, 12.6, 14.1, 13. , 13.4,\n       15.2, 16.1, 17.8, 14.9, 14.1, 12.7, 13.5, 14.9, 20. , 16.4, 17.7,\n       19.5, 20.2, 21.4, 19.9, 19. , 19.1, 19.1, 20.1, 19.9, 19.6, 23.2,\n       29.8, 13.8, 13.3, 16.7, 12. , 14.6, 21.4, 23. , 23.7, 25. , 21.8,\n       20.6, 21.2, 19.1, 20.6, 15.2,  7. ,  8.1, 13.6, 20.1, 21.8, 24.5,\n       23.1, 19.7, 18.3, 21.2, 17.5, 16.8, 22.4, 20.6, 23.9, 22. , 11.9])"
     },
     "execution_count": 14,
     "metadata": {},
     "output_type": "execute_result"
    }
   ],
   "source": [
    "Y = dataframe['price'].values\n",
    "Y"
   ],
   "metadata": {
    "collapsed": false,
    "pycharm": {
     "name": "#%%\n"
    }
   }
  },
  {
   "cell_type": "code",
   "execution_count": 15,
   "outputs": [
    {
     "data": {
      "text/plain": "{6.575: 24.0,\n 6.421: 21.6,\n 7.185: 34.9,\n 6.998: 33.4,\n 7.147: 36.2,\n 6.43: 28.7,\n 6.012: 22.9,\n 6.172: 27.1,\n 5.631: 16.5,\n 6.004: 20.3,\n 6.377: 15.0,\n 6.009: 21.7,\n 5.889: 21.7,\n 5.949: 20.4,\n 6.096: 13.5,\n 5.834: 19.9,\n 5.935: 8.4,\n 5.99: 17.5,\n 5.456: 20.2,\n 5.727: 18.2,\n 5.57: 13.6,\n 5.965: 19.6,\n 6.142: 15.2,\n 5.813: 16.6,\n 5.924: 15.6,\n 5.599: 13.9,\n 6.047: 14.8,\n 6.495: 26.4,\n 6.674: 21.0,\n 5.713: 20.1,\n 6.072: 14.5,\n 5.95: 13.2,\n 5.701: 13.1,\n 5.933: 18.9,\n 5.841: 20.0,\n 5.85: 21.0,\n 5.966: 16.0,\n 6.595: 30.8,\n 7.024: 34.9,\n 6.77: 26.6,\n 6.169: 25.3,\n 6.211: 25.0,\n 6.069: 21.2,\n 5.682: 19.3,\n 5.786: 20.0,\n 6.03: 11.9,\n 5.399: 14.4,\n 5.602: 19.4,\n 5.963: 19.7,\n 6.115: 20.5,\n 6.511: 25.0,\n 5.998: 23.4,\n 5.888: 23.3,\n 7.249: 35.4,\n 6.383: 24.7,\n 6.816: 31.6,\n 6.145: 23.3,\n 5.927: 19.6,\n 5.741: 18.7,\n 6.456: 22.2,\n 6.762: 25.0,\n 7.104: 33.0,\n 6.29: 23.5,\n 5.787: 19.4,\n 5.878: 22.0,\n 5.594: 17.4,\n 5.885: 20.9,\n 6.417: 13.0,\n 5.961: 20.5,\n 6.065: 22.8,\n 6.245: 23.4,\n 6.273: 24.1,\n 6.286: 21.4,\n 6.279: 20.0,\n 6.14: 20.8,\n 6.232: 21.2,\n 5.874: 20.3,\n 6.727: 27.5,\n 6.619: 23.9,\n 6.302: 24.8,\n 6.167: 19.9,\n 6.389: 23.9,\n 6.63: 27.9,\n 6.015: 22.5,\n 6.121: 22.2,\n 7.007: 23.6,\n 7.079: 28.7,\n 6.405: 12.5,\n 6.442: 22.9,\n 6.249: 20.6,\n 6.625: 28.4,\n 6.163: 21.4,\n 8.069: 38.7,\n 7.82: 45.4,\n 7.416: 33.2,\n 6.781: 26.5,\n 6.137: 19.3,\n 5.851: 19.5,\n 5.836: 19.5,\n 6.127: 22.7,\n 6.474: 19.8,\n 6.229: 21.4,\n 6.195: 21.7,\n 6.715: 22.8,\n 5.913: 18.8,\n 6.092: 18.7,\n 6.254: 18.5,\n 5.928: 18.3,\n 6.176: 21.2,\n 6.021: 19.2,\n 5.872: 20.4,\n 5.731: 19.3,\n 5.87: 22.0,\n 5.856: 21.1,\n 5.879: 18.8,\n 5.986: 21.4,\n 5.613: 15.7,\n 5.693: 16.2,\n 6.431: 24.6,\n 5.637: 14.3,\n 6.458: 19.2,\n 6.326: 24.4,\n 6.372: 23.0,\n 5.822: 18.4,\n 5.757: 15.0,\n 6.335: 18.1,\n 5.942: 17.4,\n 6.454: 17.1,\n 5.857: 13.3,\n 6.151: 17.8,\n 6.174: 14.0,\n 5.019: 14.4,\n 5.403: 13.4,\n 5.468: 15.6,\n 4.903: 11.8,\n 6.13: 13.8,\n 5.628: 15.6,\n 4.926: 14.6,\n 5.186: 17.8,\n 5.597: 15.4,\n 6.122: 22.1,\n 5.404: 19.3,\n 5.012: 15.3,\n 5.709: 19.4,\n 6.129: 17.0,\n 6.152: 8.7,\n 5.272: 13.1,\n 6.943: 41.3,\n 6.066: 24.3,\n 6.51: 23.3,\n 6.25: 27.0,\n 7.489: 50.0,\n 7.802: 50.0,\n 8.375: 50.0,\n 5.854: 10.8,\n 6.101: 25.0,\n 7.929: 50.0,\n 5.877: 23.8,\n 6.319: 23.8,\n 6.402: 22.3,\n 5.875: 50.0,\n 5.88: 19.1,\n 5.572: 23.1,\n 6.416: 23.6,\n 5.859: 22.6,\n 6.546: 29.4,\n 6.02: 23.2,\n 6.315: 22.3,\n 6.86: 29.9,\n 6.98: 29.8,\n 7.765: 39.8,\n 6.144: 19.8,\n 7.155: 37.9,\n 6.563: 32.5,\n 5.604: 26.4,\n 6.153: 29.6,\n 7.831: 50.0,\n 6.782: 7.5,\n 6.556: 29.8,\n 6.951: 26.7,\n 6.739: 30.5,\n 7.178: 36.4,\n 6.8: 31.1,\n 6.604: 29.1,\n 7.875: 50.0,\n 7.287: 33.3,\n 7.107: 30.3,\n 7.274: 34.6,\n 6.975: 34.9,\n 7.135: 32.9,\n 6.162: 13.3,\n 7.61: 42.3,\n 7.853: 48.5,\n 8.034: 50.0,\n 5.891: 22.6,\n 5.783: 22.5,\n 6.064: 24.4,\n 5.344: 20.0,\n 5.96: 21.7,\n 5.807: 22.4,\n 6.375: 28.1,\n 5.412: 23.7,\n 6.182: 25.0,\n 6.642: 28.7,\n 5.951: 21.5,\n 6.373: 23.0,\n 6.164: 21.7,\n 6.879: 27.5,\n 6.618: 30.1,\n 8.266: 44.8,\n 8.725: 50.0,\n 8.04: 37.6,\n 7.163: 31.6,\n 7.686: 46.7,\n 6.552: 31.5,\n 5.981: 24.3,\n 7.412: 31.7,\n 8.337: 41.7,\n 8.247: 48.3,\n 6.726: 29.0,\n 6.086: 24.0,\n 6.631: 25.1,\n 7.358: 31.5,\n 6.481: 23.7,\n 6.606: 23.3,\n 6.897: 22.0,\n 6.095: 20.1,\n 6.358: 22.2,\n 6.393: 23.7,\n 5.593: 17.6,\n 5.605: 18.5,\n 6.108: 21.9,\n 6.226: 20.5,\n 6.433: 24.5,\n 6.718: 26.2,\n 6.487: 24.4,\n 6.438: 24.8,\n 6.957: 29.6,\n 8.259: 42.8,\n 5.876: 20.9,\n 7.454: 44.0,\n 8.704: 50.0,\n 7.333: 36.0,\n 6.842: 30.1,\n 7.203: 33.8,\n 7.52: 43.1,\n 8.398: 48.8,\n 7.327: 31.0,\n 7.206: 36.5,\n 5.56: 22.8,\n 7.014: 30.7,\n 8.297: 50.0,\n 7.47: 43.5,\n 5.92: 20.7,\n 6.24: 25.2,\n 6.538: 24.4,\n 7.691: 35.2,\n 6.758: 32.4,\n 6.854: 32.0,\n 7.267: 33.2,\n 6.826: 33.1,\n 6.482: 29.1,\n 6.812: 35.1,\n 6.968: 10.4,\n 7.645: 46.0,\n 7.923: 50.0,\n 7.088: 32.2,\n 6.453: 22.0,\n 6.23: 20.1,\n 6.209: 21.4,\n 6.565: 24.8,\n 6.861: 28.5,\n 7.148: 37.3,\n 6.678: 28.6,\n 6.549: 27.1,\n 5.79: 20.3,\n 6.345: 22.5,\n 7.041: 29.0,\n 6.871: 24.8,\n 6.59: 22.0,\n 6.982: 33.1,\n 7.236: 36.1,\n 6.616: 28.4,\n 7.42: 33.4,\n 6.849: 28.2,\n 6.635: 24.5,\n 5.972: 20.3,\n 4.973: 16.1,\n 6.023: 19.4,\n 6.266: 21.6,\n 6.567: 23.8,\n 5.705: 16.2,\n 5.914: 17.8,\n 5.782: 19.8,\n 6.382: 23.1,\n 6.113: 21.0,\n 6.426: 23.8,\n 6.376: 17.7,\n 6.041: 20.4,\n 5.708: 18.5,\n 6.415: 25.0,\n 6.312: 21.2,\n 6.083: 22.2,\n 5.868: 19.3,\n 6.333: 22.6,\n 5.706: 17.1,\n 6.031: 19.4,\n 6.316: 22.2,\n 6.31: 20.7,\n 6.037: 21.1,\n 5.869: 19.5,\n 5.895: 18.5,\n 6.059: 20.6,\n 5.985: 19.0,\n 5.968: 18.7,\n 7.241: 32.7,\n 6.54: 16.5,\n 6.696: 23.9,\n 6.874: 31.2,\n 6.014: 17.5,\n 5.898: 17.2,\n 6.516: 23.1,\n 6.939: 26.6,\n 6.49: 22.9,\n 6.579: 24.1,\n 5.884: 18.6,\n 6.728: 14.9,\n 5.663: 18.2,\n 5.936: 13.5,\n 6.212: 17.8,\n 6.395: 21.7,\n 6.112: 22.6,\n 6.398: 25.0,\n 6.251: 12.6,\n 5.362: 20.8,\n 5.803: 16.8,\n 8.78: 21.9,\n 3.561: 27.5,\n 4.963: 21.9,\n 3.863: 23.1,\n 4.97: 50.0,\n 6.683: 50.0,\n 7.016: 50.0,\n 6.216: 50.0,\n 4.906: 13.8,\n 4.138: 11.9,\n 7.313: 15.0,\n 6.649: 13.9,\n 6.794: 22.0,\n 6.38: 9.5,\n 6.223: 10.2,\n 6.545: 10.9,\n 5.536: 11.3,\n 5.52: 12.3,\n 4.368: 8.8,\n 5.277: 7.2,\n 4.652: 10.5,\n 5.0: 7.4,\n 4.88: 10.2,\n 5.39: 19.7,\n 6.051: 23.2,\n 5.036: 9.7,\n 6.193: 11.0,\n 5.887: 12.7,\n 6.471: 13.1,\n 5.747: 8.5,\n 5.453: 5.0,\n 5.852: 6.3,\n 5.987: 5.6,\n 6.343: 7.2,\n 6.404: 12.1,\n 5.349: 8.3,\n 5.531: 8.5,\n 5.683: 5.0,\n 5.608: 27.9,\n 5.617: 17.2,\n 6.852: 27.5,\n 6.657: 17.2,\n 4.628: 17.9,\n 5.155: 16.3,\n 4.519: 7.0,\n 6.434: 7.2,\n 5.304: 12.0,\n 5.957: 8.8,\n 6.824: 8.4,\n 6.411: 16.7,\n 6.006: 14.2,\n 5.648: 20.8,\n 6.103: 13.4,\n 5.565: 11.7,\n 5.896: 8.3,\n 5.837: 10.2,\n 6.202: 10.9,\n 6.348: 14.5,\n 6.833: 14.1,\n 6.425: 16.1,\n 6.436: 14.3,\n 6.208: 11.7,\n 6.629: 13.4,\n 6.461: 9.6,\n 5.627: 12.8,\n 5.818: 10.5,\n 6.406: 17.1,\n 6.219: 18.4,\n 6.485: 15.4,\n 6.459: 11.8,\n 6.341: 14.9,\n 6.185: 14.6,\n 6.749: 13.4,\n 6.655: 15.2,\n 6.297: 16.1,\n 7.393: 17.8,\n 6.525: 14.1,\n 5.976: 12.7,\n 6.301: 14.9,\n 6.081: 20.0,\n 6.701: 16.4,\n 6.317: 19.5,\n 6.513: 20.2,\n 5.759: 19.9,\n 5.952: 19.0,\n 6.003: 19.1,\n 5.926: 24.5,\n 6.437: 23.2,\n 5.427: 13.8,\n 6.484: 16.7,\n 6.242: 23.0,\n 6.75: 23.7,\n 7.061: 25.0,\n 5.762: 21.8,\n 5.871: 20.6,\n 6.114: 19.1,\n 5.905: 20.6,\n 5.454: 15.2,\n 5.414: 7.0,\n 5.093: 8.1,\n 5.983: 20.1,\n 5.707: 21.8,\n 5.67: 23.1,\n 5.794: 18.3,\n 6.019: 21.2,\n 5.569: 17.5,\n 6.027: 16.8,\n 6.593: 22.4,\n 6.12: 20.6,\n 6.976: 23.9}"
     },
     "execution_count": 15,
     "metadata": {},
     "output_type": "execute_result"
    }
   ],
   "source": [
    "rm_to_price = {r : y for r,y in zip(X_rm,Y)}\n",
    "rm_to_price"
   ],
   "metadata": {
    "collapsed": false,
    "pycharm": {
     "name": "#%%\n"
    }
   }
  },
  {
   "cell_type": "code",
   "execution_count": 16,
   "outputs": [],
   "source": [
    "# 给定一种方式：使用查表的方式，将已知的所有rm-price关系存好，\n",
    "# 当需要查询新的rm和price的对应关系时，可以取相近的已知情况\n",
    "def knn(history_price,query_x,topn=3):\n",
    "    return np.mean([p for rm,p in sorted(history_price.items(),key=lambda x_y:(x_y[0] - query_x)**2)[:topn]])"
   ],
   "metadata": {
    "collapsed": false,
    "pycharm": {
     "name": "#%%\n"
    }
   }
  },
  {
   "cell_type": "code",
   "execution_count": 17,
   "outputs": [
    {
     "data": {
      "text/plain": "14.6"
     },
     "execution_count": 17,
     "metadata": {},
     "output_type": "execute_result"
    }
   ],
   "source": [
    "knn(rm_to_price,4)"
   ],
   "metadata": {
    "collapsed": false,
    "pycharm": {
     "name": "#%%\n"
    }
   }
  },
  {
   "cell_type": "code",
   "execution_count": 18,
   "outputs": [],
   "source": [
    "# 以上的方法其实是一种经典的机器学习算法： KNN ==> K-Neighbor-Nearest\n",
    "# KNN 是一种lazy learning 只能处理原始数据中的一些情况的预测，\n",
    "# 而且在数据量特别大的时候比较低效（）需要预先把所有的原始数据加载到内存"
   ],
   "metadata": {
    "collapsed": false,
    "pycharm": {
     "name": "#%%\n"
    }
   }
  },
  {
   "cell_type": "code",
   "execution_count": 19,
   "outputs": [
    {
     "data": {
      "text/plain": "<matplotlib.collections.PathCollection at 0x7f998bccdfa0>"
     },
     "execution_count": 19,
     "metadata": {},
     "output_type": "execute_result"
    },
    {
     "data": {
      "text/plain": "<Figure size 432x288 with 1 Axes>",
      "image/png": "[encoded data removed]"
     },
     "metadata": {
      "needs_background": "light"
     },
     "output_type": "display_data"
    }
   ],
   "source": [
    "# 现在给定另一种方式: 拟合一个rm-price的函数关系 这样输入新的rm值到函数中就可以计算出对应的price\n",
    "\n",
    "# 简单查看一下rm-price的图像关系,类似一个一次函数y=kx+b\n",
    "plt.scatter(X_rm,Y)\n"
   ],
   "metadata": {
    "collapsed": false,
    "pycharm": {
     "name": "#%%\n"
    }
   }
  },
  {
   "cell_type": "code",
   "execution_count": 20,
   "outputs": [],
   "source": [
    "# 假设拟合的函数是y=kx+b 那么只要找到最合适的k和b让拟合出的线更加贴合原始数据就可以了\n",
    "# 现给出一个评测标准 计算y_true和y_hat之间的差距  差距越小代表函数拟合的越好，\n",
    "# 此处的loss是MSE\n",
    "def loss(y_true,y_hat):\n",
    "    return np.mean((np.array(y_true)-np.array(y_hat))**2)"
   ],
   "metadata": {
    "collapsed": false,
    "pycharm": {
     "name": "#%%\n"
    }
   }
  },
  {
   "cell_type": "code",
   "execution_count": 21,
   "outputs": [],
   "source": [
    "def model(x, k, b):\n",
    "    return x * k + b"
   ],
   "metadata": {
    "collapsed": false,
    "pycharm": {
     "name": "#%%\n"
    }
   }
  },
  {
   "cell_type": "code",
   "execution_count": 22,
   "outputs": [],
   "source": [
    "# 通过计算出loss-k的导数 来控制k第二次取值的方向 (监督学习)\n",
    "def partial_k(y,x,k_n,b_n):\n",
    "    return 2 * np.mean((y - (x * k_n + b_n)) * (-x))"
   ],
   "metadata": {
    "collapsed": false,
    "pycharm": {
     "name": "#%%\n"
    }
   }
  },
  {
   "cell_type": "code",
   "execution_count": 23,
   "outputs": [],
   "source": [
    "# 通过计算出loss-b的导数 来控制b第二次取值的方向\n",
    "def partial_b(y,x,k_n,b_n):\n",
    "    return 2 * np.mean((y - (x * k_n + b_n)) * (-1))"
   ],
   "metadata": {
    "collapsed": false,
    "pycharm": {
     "name": "#%%\n"
    }
   }
  },
  {
   "cell_type": "code",
   "execution_count": 24,
   "outputs": [
    {
     "name": "stdout",
     "output_type": "stream",
     "text": [
      "epoch = 0; best_k = 0;  best_b = 10;  min_loss = 241.49079051383399\n",
      "epoch = 1; best_k = 1.6649734229249016;  best_b = 10.0413811419274;  min_loss = 74.96347940997488\n",
      "epoch = 2; best_k = 1.9931222857440523;  best_b = 10.040688748467382;  min_loss = 68.50138183324967\n",
      "epoch = 3; best_k = 2.0589091495180356;  best_b = 10.031741275150363;  min_loss = 68.23373527374856\n",
      "epoch = 4; best_k = 2.073205200265864;  best_b = 10.021175842257021;  min_loss = 68.21041925907215\n",
      "epoch = 5; best_k = 2.077395460394547;  best_b = 10.010295032963613;  min_loss = 68.19764476575666\n",
      "epoch = 6; best_k = 2.079602045239394;  best_b = 9.999354488276182;  min_loss = 68.18550271648958\n",
      "epoch = 7; best_k = 2.0814189797991123;  best_b = 9.988404379094229;  min_loss = 68.17343402195716\n",
      "epoch = 8; best_k = 2.0831591032953662;  best_b = 9.977454551296658;  min_loss = 68.16138233369396\n",
      "epoch = 9; best_k = 2.08488381281119;  best_b = 9.966506936680412;  min_loss = 68.14933864825103\n",
      "epoch = 10; best_k = 2.0866051580592093;  best_b = 9.955561913845727;  min_loss = 68.1373012758914\n",
      "epoch = 11; best_k = 2.0883255039673796;  best_b = 9.944619556566684;  min_loss = 68.12526988579457\n",
      "epoch = 12; best_k = 2.0900453147533598;  best_b = 9.933679878793114;  min_loss = 68.11324441084187\n",
      "epoch = 13; best_k = 2.091764681606404;  best_b = 9.922742882734035;  min_loss = 68.10122483554365\n",
      "epoch = 14; best_k = 2.093483622506177;  best_b = 9.911808568294365;  min_loss = 68.08921115453713\n",
      "epoch = 15; best_k = 2.095202141064399;  best_b = 9.900876934926963;  min_loss = 68.07720336444744\n",
      "epoch = 16; best_k = 2.096920238072958;  best_b = 9.889947981996093;  min_loss = 68.065201462291\n",
      "epoch = 17; best_k = 2.098637913770309;  best_b = 9.879021708848763;  min_loss = 68.05320544516198\n",
      "epoch = 18; best_k = 2.100355168286269;  best_b = 9.868098114828722;  min_loss = 68.04121531017111\n",
      "epoch = 19; best_k = 2.102072001729315;  best_b = 9.857177199279212;  min_loss = 68.0292310544334\n",
      "epoch = 20; best_k = 2.103788414203716;  best_b = 9.846258961543501;  min_loss = 68.01725267506588\n",
      "epoch = 21; best_k = 2.105504405812894;  best_b = 9.835343400964996;  min_loss = 68.00528016918707\n",
      "epoch = 22; best_k = 2.107219976660085;  best_b = 9.824430516887258;  min_loss = 67.99331353391699\n",
      "epoch = 23; best_k = 2.108935126848467;  best_b = 9.813520308654008;  min_loss = 67.981352766377\n",
      "epoch = 24; best_k = 2.1106498564811873;  best_b = 9.802612775609125;  min_loss = 67.96939786368995\n",
      "epoch = 25; best_k = 2.1123641656613676;  best_b = 9.791707917096655;  min_loss = 67.95744882298004\n",
      "epoch = 26; best_k = 2.114078054492102;  best_b = 9.780805732460799;  min_loss = 67.94550564137293\n",
      "epoch = 27; best_k = 2.1157915230764615;  best_b = 9.769906221045922;  min_loss = 67.93356831599561\n",
      "epoch = 28; best_k = 2.1175045715174896;  best_b = 9.759009382196549;  min_loss = 67.92163684397659\n",
      "epoch = 29; best_k = 2.119217199918207;  best_b = 9.748115215257366;  min_loss = 67.9097112224457\n",
      "epoch = 30; best_k = 2.120929408381606;  best_b = 9.737223719573217;  min_loss = 67.8977914485342\n",
      "epoch = 31; best_k = 2.122641197010657;  best_b = 9.726334894489112;  min_loss = 67.88587751937477\n",
      "epoch = 32; best_k = 2.124352565908303;  best_b = 9.715448739350217;  min_loss = 67.8739694321015\n",
      "epoch = 33; best_k = 2.1260635151774623;  best_b = 9.70456525350186;  min_loss = 67.86206718384989\n",
      "epoch = 34; best_k = 2.127774044921028;  best_b = 9.69368443628953;  min_loss = 67.85017077175677\n",
      "epoch = 35; best_k = 2.129484155241868;  best_b = 9.682806287058877;  min_loss = 67.8382801929605\n",
      "epoch = 36; best_k = 2.1311938462428253;  best_b = 9.67193080515571;  min_loss = 67.82639544460072\n",
      "epoch = 37; best_k = 2.1329031180267166;  best_b = 9.661057989925999;  min_loss = 67.81451652381858\n",
      "epoch = 38; best_k = 2.134611970696335;  best_b = 9.650187840715873;  min_loss = 67.80264342775651\n",
      "epoch = 39; best_k = 2.136320404354447;  best_b = 9.639320356871625;  min_loss = 67.79077615355851\n",
      "epoch = 40; best_k = 2.138028419103794;  best_b = 9.628455537739704;  min_loss = 67.77891469836979\n",
      "epoch = 41; best_k = 2.139736015047094;  best_b = 9.617593382666723;  min_loss = 67.76705905933711\n",
      "epoch = 42; best_k = 2.141443192287037;  best_b = 9.606733890999452;  min_loss = 67.75520923360854\n",
      "epoch = 43; best_k = 2.1431499509262903;  best_b = 9.595877062084824;  min_loss = 67.74336521833361\n",
      "epoch = 44; best_k = 2.144856291067494;  best_b = 9.58502289526993;  min_loss = 67.73152701066317\n",
      "epoch = 45; best_k = 2.146562212813265;  best_b = 9.574171389902022;  min_loss = 67.71969460774957\n",
      "epoch = 46; best_k = 2.1482677162661936;  best_b = 9.56332254532851;  min_loss = 67.70786800674647\n",
      "epoch = 47; best_k = 2.1499728015288455;  best_b = 9.55247636089697;  min_loss = 67.69604720480895\n",
      "epoch = 48; best_k = 2.151677468703761;  best_b = 9.54163283595513;  min_loss = 67.68423219909351\n",
      "epoch = 49; best_k = 2.1533817178934553;  best_b = 9.530791969850885;  min_loss = 67.67242298675801\n",
      "epoch = 50; best_k = 2.155085549200419;  best_b = 9.519953761932284;  min_loss = 67.66061956496175\n",
      "epoch = 51; best_k = 2.156788962727117;  best_b = 9.50911821154754;  min_loss = 67.64882193086534\n",
      "epoch = 52; best_k = 2.158491958575989;  best_b = 9.498285318045022;  min_loss = 67.63703008163087\n",
      "epoch = 53; best_k = 2.1601945368494504;  best_b = 9.487455080773266;  min_loss = 67.62524401442178\n",
      "epoch = 54; best_k = 2.1618966976498903;  best_b = 9.476627499080958;  min_loss = 67.61346372640288\n",
      "epoch = 55; best_k = 2.1635984410796736;  best_b = 9.465802572316953;  min_loss = 67.60168921474046\n",
      "epoch = 56; best_k = 2.1652997672411396;  best_b = 9.454980299830257;  min_loss = 67.58992047660209\n",
      "epoch = 57; best_k = 2.1670006762366025;  best_b = 9.444160680970043;  min_loss = 67.57815750915678\n",
      "epoch = 58; best_k = 2.168701168168352;  best_b = 9.43334371508564;  min_loss = 67.56640030957492\n",
      "epoch = 59; best_k = 2.1704012431386523;  best_b = 9.422529401526536;  min_loss = 67.5546488750283\n",
      "epoch = 60; best_k = 2.1721009012497428;  best_b = 9.41171773964238;  min_loss = 67.5429032026901\n",
      "epoch = 61; best_k = 2.1738001426038367;  best_b = 9.400908728782982;  min_loss = 67.53116328973483\n",
      "epoch = 62; best_k = 2.1754989673031235;  best_b = 9.390102368298306;  min_loss = 67.51942913333848\n",
      "epoch = 63; best_k = 2.1771973754497673;  best_b = 9.379298657538481;  min_loss = 67.50770073067835\n",
      "epoch = 64; best_k = 2.178895367145907;  best_b = 9.368497595853793;  min_loss = 67.49597807893316\n",
      "epoch = 65; best_k = 2.180592942493656;  best_b = 9.357699182594686;  min_loss = 67.484261175283\n",
      "epoch = 66; best_k = 2.182290101595104;  best_b = 9.346903417111767;  min_loss = 67.47255001690932\n",
      "epoch = 67; best_k = 2.183986844552314;  best_b = 9.336110298755797;  min_loss = 67.46084460099499\n",
      "epoch = 68; best_k = 2.1856831714673253;  best_b = 9.325319826877701;  min_loss = 67.44914492472427\n",
      "epoch = 69; best_k = 2.1873790824421513;  best_b = 9.314532000828562;  min_loss = 67.43745098528272\n",
      "epoch = 70; best_k = 2.189074577578781;  best_b = 9.30374681995962;  min_loss = 67.42576277985742\n",
      "epoch = 71; best_k = 2.1907696569791777;  best_b = 9.292964283622277;  min_loss = 67.41408030563667\n",
      "epoch = 72; best_k = 2.1924643207452807;  best_b = 9.282184391168093;  min_loss = 67.4024035598103\n",
      "epoch = 73; best_k = 2.1941585689790033;  best_b = 9.271407141948783;  min_loss = 67.39073253956937\n",
      "epoch = 74; best_k = 2.1958524017822345;  best_b = 9.260632535316228;  min_loss = 67.37906724210644\n",
      "epoch = 75; best_k = 2.1975458192568382;  best_b = 9.249860570622463;  min_loss = 67.36740766461538\n",
      "epoch = 76; best_k = 2.1992388215046526;  best_b = 9.239091247219685;  min_loss = 67.35575380429147\n",
      "epoch = 77; best_k = 2.2009314086274916;  best_b = 9.228324564460246;  min_loss = 67.34410565833134\n",
      "epoch = 78; best_k = 2.2026235807271446;  best_b = 9.21756052169666;  min_loss = 67.33246322393299\n",
      "epoch = 79; best_k = 2.2043153379053755;  best_b = 9.206799118281598;  min_loss = 67.32082649829582\n",
      "epoch = 80; best_k = 2.2060066802639224;  best_b = 9.196040353567891;  min_loss = 67.30919547862061\n",
      "epoch = 81; best_k = 2.2076976079045;  best_b = 9.185284226908529;  min_loss = 67.29757016210947\n",
      "epoch = 82; best_k = 2.2093881209287973;  best_b = 9.174530737656658;  min_loss = 67.2859505459659\n",
      "epoch = 83; best_k = 2.211078219438478;  best_b = 9.163779885165587;  min_loss = 67.27433662739477\n",
      "epoch = 84; best_k = 2.2127679035351813;  best_b = 9.15303166878878;  min_loss = 67.26272840360238\n",
      "epoch = 85; best_k = 2.214457173320522;  best_b = 9.142286087879858;  min_loss = 67.2511258717963\n",
      "epoch = 86; best_k = 2.216146028896089;  best_b = 9.131543141792605;  min_loss = 67.23952902918553\n",
      "epoch = 87; best_k = 2.217834470363447;  best_b = 9.120802829880962;  min_loss = 67.22793787298042\n",
      "epoch = 88; best_k = 2.2195224978241352;  best_b = 9.110065151499027;  min_loss = 67.21635240039272\n",
      "epoch = 89; best_k = 2.2212101113796687;  best_b = 9.099330106001057;  min_loss = 67.2047726086355\n",
      "epoch = 90; best_k = 2.222897311131537;  best_b = 9.088597692741468;  min_loss = 67.19319849492318\n",
      "epoch = 91; best_k = 2.224584097181205;  best_b = 9.077867911074833;  min_loss = 67.18163005647163\n",
      "epoch = 92; best_k = 2.2262704696301125;  best_b = 9.067140760355885;  min_loss = 67.17006729049803\n",
      "epoch = 93; best_k = 2.227956428579675;  best_b = 9.056416239939516;  min_loss = 67.15851019422091\n",
      "epoch = 94; best_k = 2.2296419741312827;  best_b = 9.045694349180772;  min_loss = 67.14695876486023\n",
      "epoch = 95; best_k = 2.2313271063863;  best_b = 9.03497508743486;  min_loss = 67.13541299963724\n",
      "epoch = 96; best_k = 2.2330118254460687;  best_b = 9.024258454057145;  min_loss = 67.12387289577458\n",
      "epoch = 97; best_k = 2.234696131411904;  best_b = 9.01354444840315;  min_loss = 67.11233845049624\n",
      "epoch = 98; best_k = 2.2363800243850966;  best_b = 9.002833069828558;  min_loss = 67.10080966102763\n",
      "epoch = 99; best_k = 2.2380635044669126;  best_b = 8.992124317689205;  min_loss = 67.08928652459544\n",
      "epoch = 100; best_k = 2.239746571758593;  best_b = 8.981418191341088;  min_loss = 67.07776903842776\n",
      "epoch = 101; best_k = 2.2414292263613547;  best_b = 8.970714690140364;  min_loss = 67.06625719975405\n",
      "epoch = 102; best_k = 2.2431114683763886;  best_b = 8.960013813443341;  min_loss = 67.05475100580509\n",
      "epoch = 103; best_k = 2.2447932979048617;  best_b = 8.949315560606493;  min_loss = 67.04325045381306\n",
      "epoch = 104; best_k = 2.246474715047916;  best_b = 8.938619930986448;  min_loss = 67.03175554101146\n",
      "epoch = 105; best_k = 2.248155719906668;  best_b = 8.927926923939992;  min_loss = 67.02026626463518\n",
      "epoch = 106; best_k = 2.249836312582211;  best_b = 8.917236538824069;  min_loss = 67.00878262192045\n",
      "epoch = 107; best_k = 2.251516493175612;  best_b = 8.906548774995779;  min_loss = 66.99730461010486\n",
      "epoch = 108; best_k = 2.2531962617879135;  best_b = 8.89586363181238;  min_loss = 66.98583222642733\n",
      "epoch = 109; best_k = 2.2548756185201335;  best_b = 8.885181108631292;  min_loss = 66.97436546812817\n",
      "epoch = 110; best_k = 2.2565545634732658;  best_b = 8.874501204810086;  min_loss = 66.96290433244903\n",
      "epoch = 111; best_k = 2.258233096748278;  best_b = 8.863823919706496;  min_loss = 66.95144881663288\n",
      "epoch = 112; best_k = 2.2599112184461143;  best_b = 8.85314925267841;  min_loss = 66.9399989179241\n",
      "epoch = 113; best_k = 2.261588928667694;  best_b = 8.842477203083874;  min_loss = 66.9285546335684\n",
      "epoch = 114; best_k = 2.2632662275139106;  best_b = 8.831807770281094;  min_loss = 66.91711596081281\n",
      "epoch = 115; best_k = 2.2649431150856336;  best_b = 8.82114095362843;  min_loss = 66.90568289690576\n",
      "epoch = 116; best_k = 2.2666195914837077;  best_b = 8.8104767524844;  min_loss = 66.89425543909697\n",
      "epoch = 117; best_k = 2.268295656808953;  best_b = 8.799815166207681;  min_loss = 66.88283358463757\n",
      "epoch = 118; best_k = 2.269971311162165;  best_b = 8.789156194157107;  min_loss = 66.87141733077998\n",
      "epoch = 119; best_k = 2.2716465546441142;  best_b = 8.778499835691665;  min_loss = 66.860006674778\n",
      "epoch = 120; best_k = 2.273321387355546;  best_b = 8.767846090170506;  min_loss = 66.84860161388683\n",
      "epoch = 121; best_k = 2.2749958093971823;  best_b = 8.757194956952935;  min_loss = 66.83720214536287\n",
      "epoch = 122; best_k = 2.276669820869719;  best_b = 8.746546435398413;  min_loss = 66.82580826646401\n",
      "epoch = 123; best_k = 2.2783434218738274;  best_b = 8.735900524866558;  min_loss = 66.81441997444942\n",
      "epoch = 124; best_k = 2.2800166125101553;  best_b = 8.725257224717147;  min_loss = 66.80303726657962\n",
      "epoch = 125; best_k = 2.2816893928793247;  best_b = 8.714616534310114;  min_loss = 66.79166014011648\n",
      "epoch = 126; best_k = 2.2833617630819334;  best_b = 8.703978453005547;  min_loss = 66.78028859232319\n",
      "epoch = 127; best_k = 2.2850337232185547;  best_b = 8.693342980163694;  min_loss = 66.7689226204643\n",
      "epoch = 128; best_k = 2.2867052733897366;  best_b = 8.682710115144957;  min_loss = 66.75756222180574\n",
      "epoch = 129; best_k = 2.2883764136960028;  best_b = 8.672079857309898;  min_loss = 66.74620739361471\n",
      "epoch = 130; best_k = 2.2900471442378527;  best_b = 8.661452206019234;  min_loss = 66.73485813315978\n",
      "epoch = 131; best_k = 2.291717465115761;  best_b = 8.65082716063384;  min_loss = 66.72351443771086\n",
      "epoch = 132; best_k = 2.2933873764301764;  best_b = 8.640204720514745;  min_loss = 66.71217630453924\n",
      "epoch = 133; best_k = 2.295056878281525;  best_b = 8.629584885023139;  min_loss = 66.70084373091746\n",
      "epoch = 134; best_k = 2.2967259707702072;  best_b = 8.618967653520363;  min_loss = 66.68951671411946\n",
      "epoch = 135; best_k = 2.2983946539965987;  best_b = 8.608353025367919;  min_loss = 66.67819525142053\n",
      "epoch = 136; best_k = 2.3000629280610507;  best_b = 8.597740999927463;  min_loss = 66.66687934009721\n",
      "epoch = 137; best_k = 2.3017307930638906;  best_b = 8.587131576560811;  min_loss = 66.65556897742749\n",
      "epoch = 138; best_k = 2.30339824910542;  best_b = 8.576524754629933;  min_loss = 66.64426416069061\n",
      "epoch = 139; best_k = 2.3050652962859157;  best_b = 8.565920533496953;  min_loss = 66.63296488716718\n",
      "epoch = 140; best_k = 2.306731934705632;  best_b = 8.555318912524157;  min_loss = 66.62167115413914\n",
      "epoch = 141; best_k = 2.308398164464797;  best_b = 8.544719891073983;  min_loss = 66.61038295888974\n",
      "epoch = 142; best_k = 2.3100639856636134;  best_b = 8.534123468509028;  min_loss = 66.59910029870362\n",
      "epoch = 143; best_k = 2.3117293984022615;  best_b = 8.523529644192044;  min_loss = 66.58782317086666\n",
      "epoch = 144; best_k = 2.313394402780895;  best_b = 8.512938417485937;  min_loss = 66.57655157266616\n",
      "epoch = 145; best_k = 2.315058998899645;  best_b = 8.502349787753774;  min_loss = 66.56528550139072\n",
      "epoch = 146; best_k = 2.3167231868586162;  best_b = 8.491763754358775;  min_loss = 66.55402495433023\n",
      "epoch = 147; best_k = 2.31838696675789;  best_b = 8.481180316664316;  min_loss = 66.54276992877597\n",
      "epoch = 148; best_k = 2.3200503386975226;  best_b = 8.470599474033932;  min_loss = 66.5315204220205\n",
      "epoch = 149; best_k = 2.321713302777546;  best_b = 8.46002122583131;  min_loss = 66.52027643135773\n",
      "epoch = 150; best_k = 2.323375859097968;  best_b = 8.449445571420297;  min_loss = 66.50903795408291\n",
      "epoch = 151; best_k = 2.3250380077587707;  best_b = 8.438872510164892;  min_loss = 66.4978049874926\n",
      "epoch = 152; best_k = 2.326699748859913;  best_b = 8.428302041429252;  min_loss = 66.48657752888467\n",
      "epoch = 153; best_k = 2.328361082501328;  best_b = 8.417734164577691;  min_loss = 66.47535557555834\n",
      "epoch = 154; best_k = 2.330022008782926;  best_b = 8.407168878974678;  min_loss = 66.46413912481414\n",
      "epoch = 155; best_k = 2.3316825278045914;  best_b = 8.396606183984836;  min_loss = 66.45292817395392\n",
      "epoch = 156; best_k = 2.3333426396661845;  best_b = 8.386046078972948;  min_loss = 66.44172272028088\n",
      "epoch = 157; best_k = 2.335002344467541;  best_b = 8.375488563303948;  min_loss = 66.43052276109954\n",
      "epoch = 158; best_k = 2.3366616423084725;  best_b = 8.36493363634293;  min_loss = 66.41932829371571\n",
      "epoch = 159; best_k = 2.3383205332887655;  best_b = 8.354381297455138;  min_loss = 66.4081393154365\n",
      "epoch = 160; best_k = 2.3399790175081834;  best_b = 8.343831546005978;  min_loss = 66.39695582357045\n",
      "epoch = 161; best_k = 2.3416370950664627;  best_b = 8.333284381361008;  min_loss = 66.38577781542728\n",
      "epoch = 162; best_k = 2.3432947660633183;  best_b = 8.322739802885941;  min_loss = 66.37460528831814\n",
      "epoch = 163; best_k = 2.3449520305984386;  best_b = 8.31219780994665;  min_loss = 66.36343823955544\n",
      "epoch = 164; best_k = 2.346608888771488;  best_b = 8.301658401909156;  min_loss = 66.35227666645292\n",
      "epoch = 165; best_k = 2.3482653406821075;  best_b = 8.291121578139645;  min_loss = 66.34112056632566\n",
      "epoch = 166; best_k = 2.3499213864299118;  best_b = 8.28058733800445;  min_loss = 66.32996993649\n",
      "epoch = 167; best_k = 2.3515770261144926;  best_b = 8.270055680870064;  min_loss = 66.31882477426365\n",
      "epoch = 168; best_k = 2.353232259835417;  best_b = 8.259526606103131;  min_loss = 66.30768507696565\n",
      "epoch = 169; best_k = 2.354887087692228;  best_b = 8.249000113070457;  min_loss = 66.29655084191627\n",
      "epoch = 170; best_k = 2.3565415097844427;  best_b = 8.238476201138997;  min_loss = 66.28542206643718\n",
      "epoch = 171; best_k = 2.358195526211555;  best_b = 8.227954869675866;  min_loss = 66.27429874785129\n",
      "epoch = 172; best_k = 2.3598491370730343;  best_b = 8.21743611804833;  min_loss = 66.26318088348292\n",
      "epoch = 173; best_k = 2.361502342468326;  best_b = 8.206919945623811;  min_loss = 66.25206847065762\n",
      "epoch = 174; best_k = 2.3631551424968498;  best_b = 8.196406351769891;  min_loss = 66.24096150670225\n",
      "epoch = 175; best_k = 2.3648075372580024;  best_b = 8.185895335854301;  min_loss = 66.22985998894505\n",
      "epoch = 176; best_k = 2.366459526851155;  best_b = 8.175386897244929;  min_loss = 66.21876391471551\n",
      "epoch = 177; best_k = 2.3681111113756557;  best_b = 8.164881035309818;  min_loss = 66.2076732813444\n",
      "epoch = 178; best_k = 2.3697622909308267;  best_b = 8.154377749417167;  min_loss = 66.19658808616394\n",
      "epoch = 179; best_k = 2.3714130656159678;  best_b = 8.14387703893533;  min_loss = 66.18550832650747\n",
      "epoch = 180; best_k = 2.373063435530352;  best_b = 8.133378903232812;  min_loss = 66.17443399970978\n",
      "epoch = 181; best_k = 2.3747134007732305;  best_b = 8.122883341678278;  min_loss = 66.16336510310691\n",
      "epoch = 182; best_k = 2.376362961443828;  best_b = 8.112390353640546;  min_loss = 66.1523016340362\n",
      "epoch = 183; best_k = 2.3780121176413465;  best_b = 8.101899938488588;  min_loss = 66.14124358983632\n",
      "epoch = 184; best_k = 2.3796608694649626;  best_b = 8.091412095591531;  min_loss = 66.13019096784726\n",
      "epoch = 185; best_k = 2.3813092170138286;  best_b = 8.080926824318658;  min_loss = 66.11914376541023\n",
      "epoch = 186; best_k = 2.3829571603870736;  best_b = 8.070444124039403;  min_loss = 66.10810197986785\n",
      "epoch = 187; best_k = 2.3846046996838015;  best_b = 8.05996399412336;  min_loss = 66.097065608564\n",
      "epoch = 188; best_k = 2.386251835003092;  best_b = 8.049486433940272;  min_loss = 66.0860346488438\n",
      "epoch = 189; best_k = 2.3878985664440004;  best_b = 8.03901144286004;  min_loss = 66.07500909805378\n",
      "epoch = 190; best_k = 2.3895448941055584;  best_b = 8.02853902025272;  min_loss = 66.06398895354171\n",
      "epoch = 191; best_k = 2.391190818086772;  best_b = 8.018069165488521;  min_loss = 66.05297421265666\n",
      "epoch = 192; best_k = 2.3928363384866245;  best_b = 8.007601877937805;  min_loss = 66.04196487274903\n",
      "epoch = 193; best_k = 2.3944814554040743;  best_b = 7.997137156971091;  min_loss = 66.03096093117051\n",
      "epoch = 194; best_k = 2.3961261689380553;  best_b = 7.986675001959051;  min_loss = 66.01996238527403\n",
      "epoch = 195; best_k = 2.397770479187477;  best_b = 7.976215412272512;  min_loss = 66.00896923241389\n",
      "epoch = 196; best_k = 2.3994143862512254;  best_b = 7.965758387282455;  min_loss = 65.99798146994569\n",
      "epoch = 197; best_k = 2.4010578902281616;  best_b = 7.955303926360015;  min_loss = 65.98699909522627\n",
      "epoch = 198; best_k = 2.402700991217123;  best_b = 7.944852028876482;  min_loss = 65.97602210561381\n",
      "epoch = 199; best_k = 2.4043436893169217;  best_b = 7.934402694203298;  min_loss = 65.96505049846776\n",
      "epoch = 200; best_k = 2.405985984626347;  best_b = 7.923955921712062;  min_loss = 65.95408427114891\n",
      "epoch = 201; best_k = 2.4076278772441633;  best_b = 7.913511710774525;  min_loss = 65.94312342101927\n",
      "epoch = 202; best_k = 2.4092693672691103;  best_b = 7.903070060762594;  min_loss = 65.93216794544217\n",
      "epoch = 203; best_k = 2.4109104547999047;  best_b = 7.892630971048328;  min_loss = 65.92121784178232\n",
      "epoch = 204; best_k = 2.4125511399352373;  best_b = 7.88219444100394;  min_loss = 65.91027310740559\n",
      "epoch = 205; best_k = 2.4141914227737766;  best_b = 7.871760470001799;  min_loss = 65.89933373967922\n",
      "epoch = 206; best_k = 2.415831303414165;  best_b = 7.861329057414427;  min_loss = 65.88839973597173\n",
      "epoch = 207; best_k = 2.4174707819550227;  best_b = 7.850900202614497;  min_loss = 65.87747109365291\n",
      "epoch = 208; best_k = 2.419109858494944;  best_b = 7.84047390497484;  min_loss = 65.86654781009386\n",
      "epoch = 209; best_k = 2.4207485331325005;  best_b = 7.830050163868439;  min_loss = 65.85562988266695\n",
      "epoch = 210; best_k = 2.4223868059662377;  best_b = 7.8196289786684305;  min_loss = 65.84471730874586\n",
      "epoch = 211; best_k = 2.4240246770946787;  best_b = 7.809210348748105;  min_loss = 65.83381008570554\n",
      "epoch = 212; best_k = 2.425662146616322;  best_b = 7.798794273480907;  min_loss = 65.82290821092222\n",
      "epoch = 213; best_k = 2.4272992146296417;  best_b = 7.7883807522404345;  min_loss = 65.81201168177347\n",
      "epoch = 214; best_k = 2.428935881233088;  best_b = 7.777969784400438;  min_loss = 65.8011204956381\n",
      "epoch = 215; best_k = 2.4305721465250865;  best_b = 7.767561369334823;  min_loss = 65.79023464989616\n",
      "epoch = 216; best_k = 2.4322080106040387;  best_b = 7.757155506417648;  min_loss = 65.77935414192912\n",
      "epoch = 217; best_k = 2.4338434735683223;  best_b = 7.7467521950231255;  min_loss = 65.76847896911957\n",
      "epoch = 218; best_k = 2.4354785355162916;  best_b = 7.73635143452562;  min_loss = 65.75760912885153\n",
      "epoch = 219; best_k = 2.4371131965462753;  best_b = 7.7259532242996505;  min_loss = 65.74674461851016\n",
      "epoch = 220; best_k = 2.4387474567565786;  best_b = 7.715557563719889;  min_loss = 65.73588543548209\n",
      "epoch = 221; best_k = 2.440381316245483;  best_b = 7.705164452161162;  min_loss = 65.72503157715502\n",
      "epoch = 222; best_k = 2.4420147751112458;  best_b = 7.694773888998447;  min_loss = 65.71418304091807\n",
      "epoch = 223; best_k = 2.4436478334520997;  best_b = 7.684385873606876;  min_loss = 65.70333982416162\n",
      "epoch = 224; best_k = 2.4452804913662534;  best_b = 7.6740004053617366;  min_loss = 65.69250192427728\n",
      "epoch = 225; best_k = 2.446912748951892;  best_b = 7.663617483638465;  min_loss = 65.68166933865798\n",
      "epoch = 226; best_k = 2.448544606307176;  best_b = 7.653237107812653;  min_loss = 65.67084206469792\n",
      "epoch = 227; best_k = 2.4501760635302423;  best_b = 7.642859277260046;  min_loss = 65.6600200997926\n",
      "epoch = 228; best_k = 2.4518071207192036;  best_b = 7.6324839913565405;  min_loss = 65.64920344133873\n",
      "epoch = 229; best_k = 2.453437777972148;  best_b = 7.6221112494781895;  min_loss = 65.63839208673436\n",
      "epoch = 230; best_k = 2.455068035387141;  best_b = 7.611741051001196;  min_loss = 65.62758603337879\n",
      "epoch = 231; best_k = 2.4566978930622216;  best_b = 7.601373395301915;  min_loss = 65.61678527867264\n",
      "epoch = 232; best_k = 2.4583273510954076;  best_b = 7.591008281756858;  min_loss = 65.60598982001773\n",
      "epoch = 233; best_k = 2.4599564095846906;  best_b = 7.580645709742687;  min_loss = 65.5951996548172\n",
      "epoch = 234; best_k = 2.461585068628039;  best_b = 7.570285678636218;  min_loss = 65.58441478047543\n",
      "epoch = 235; best_k = 2.4632133283233975;  best_b = 7.5599281878144176;  min_loss = 65.5736351943981\n",
      "epoch = 236; best_k = 2.4648411887686863;  best_b = 7.549573236654409;  min_loss = 65.5628608939922\n",
      "epoch = 237; best_k = 2.466468650061801;  best_b = 7.539220824533464;  min_loss = 65.55209187666588\n",
      "epoch = 238; best_k = 2.4680957123006153;  best_b = 7.52887095082901;  min_loss = 65.54132813982872\n",
      "epoch = 239; best_k = 2.4697223755829762;  best_b = 7.518523614918625;  min_loss = 65.5305696808914\n",
      "epoch = 240; best_k = 2.471348640006709;  best_b = 7.508178816180042;  min_loss = 65.51981649726599\n",
      "epoch = 241; best_k = 2.472974505669613;  best_b = 7.497836553991144;  min_loss = 65.50906858636577\n",
      "epoch = 242; best_k = 2.4745999726694654;  best_b = 7.487496827729968;  min_loss = 65.49832594560534\n",
      "epoch = 243; best_k = 2.4762250411040188;  best_b = 7.477159636774704;  min_loss = 65.48758857240051\n",
      "epoch = 244; best_k = 2.4778497110710007;  best_b = 7.466824980503694;  min_loss = 65.47685646416836\n",
      "epoch = 245; best_k = 2.479473982668116;  best_b = 7.456492858295432;  min_loss = 65.46612961832732\n",
      "epoch = 246; best_k = 2.481097855993045;  best_b = 7.446163269528563;  min_loss = 65.45540803229697\n",
      "epoch = 247; best_k = 2.4827213311434444;  best_b = 7.435836213581888;  min_loss = 65.44469170349822\n",
      "epoch = 248; best_k = 2.4843444082169466;  best_b = 7.425511689834358;  min_loss = 65.43398062935326\n",
      "epoch = 249; best_k = 2.4859670873111606;  best_b = 7.415189697665075;  min_loss = 65.4232748072855\n",
      "epoch = 250; best_k = 2.487589368523671;  best_b = 7.404870236453296;  min_loss = 65.41257423471963\n",
      "epoch = 251; best_k = 2.4892112519520384;  best_b = 7.3945533055784285;  min_loss = 65.40187890908162\n",
      "epoch = 252; best_k = 2.4908327376938;  best_b = 7.384238904420033;  min_loss = 65.39118882779866\n",
      "epoch = 253; best_k = 2.4924538258464684;  best_b = 7.373927032357821;  min_loss = 65.38050398829925\n",
      "epoch = 254; best_k = 2.4940745165075326;  best_b = 7.363617688771658;  min_loss = 65.36982438801311\n",
      "epoch = 255; best_k = 2.495694809774458;  best_b = 7.35331087304156;  min_loss = 65.35915002437126\n",
      "epoch = 256; best_k = 2.497314705744686;  best_b = 7.3430065845476955;  min_loss = 65.34848089480597\n",
      "epoch = 257; best_k = 2.4989342045156335;  best_b = 7.332704822670385;  min_loss = 65.33781699675073\n",
      "epoch = 258; best_k = 2.500553306184694;  best_b = 7.322405586790101;  min_loss = 65.32715832764033\n",
      "epoch = 259; best_k = 2.5021720108492373;  best_b = 7.312108876287467;  min_loss = 65.31650488491081\n",
      "epoch = 260; best_k = 2.503790318606609;  best_b = 7.30181469054326;  min_loss = 65.30585666599944\n",
      "epoch = 261; best_k = 2.505408229554131;  best_b = 7.291523028938408;  min_loss = 65.2952136683448\n",
      "epoch = 262; best_k = 2.5070257437891015;  best_b = 7.28123389085399;  min_loss = 65.28457588938664\n",
      "epoch = 263; best_k = 2.5086428614087937;  best_b = 7.270947275671238;  min_loss = 65.2739433265661\n",
      "epoch = 264; best_k = 2.510259582510459;  best_b = 7.260663182771536;  min_loss = 65.26331597732543\n",
      "epoch = 265; best_k = 2.5118759071913233;  best_b = 7.250381611536418;  min_loss = 65.25269383910823\n",
      "epoch = 266; best_k = 2.5134918355485887;  best_b = 7.240102561347571;  min_loss = 65.24207690935931\n",
      "epoch = 267; best_k = 2.515107367679435;  best_b = 7.229826031586834;  min_loss = 65.23146518552477\n",
      "epoch = 268; best_k = 2.516722503681016;  best_b = 7.219552021636195;  min_loss = 65.2208586650519\n",
      "epoch = 269; best_k = 2.5183372436504636;  best_b = 7.2092805308777965;  min_loss = 65.21025734538931\n",
      "epoch = 270; best_k = 2.5199515876848846;  best_b = 7.199011558693932;  min_loss = 65.19966122398678\n",
      "epoch = 271; best_k = 2.5215655358813627;  best_b = 7.188745104467044;  min_loss = 65.18907029829546\n",
      "epoch = 272; best_k = 2.5231790883369576;  best_b = 7.178481167579729;  min_loss = 65.17848456576763\n",
      "epoch = 273; best_k = 2.524792245148705;  best_b = 7.168219747414735;  min_loss = 65.16790402385689\n",
      "epoch = 274; best_k = 2.526405006413617;  best_b = 7.157960843354959;  min_loss = 65.15732867001806\n",
      "epoch = 275; best_k = 2.5280173722286823;  best_b = 7.147704454783453;  min_loss = 65.14675850170724\n",
      "epoch = 276; best_k = 2.5296293426908645;  best_b = 7.1374505810834155;  min_loss = 65.13619351638172\n",
      "epoch = 277; best_k = 2.531240917897105;  best_b = 7.1271992216382;  min_loss = 65.12563371150009\n",
      "epoch = 278; best_k = 2.5328520979443203;  best_b = 7.11695037583131;  min_loss = 65.11507908452216\n",
      "epoch = 279; best_k = 2.5344628829294042;  best_b = 7.1067040430464;  min_loss = 65.104529632909\n",
      "epoch = 280; best_k = 2.536073272949226;  best_b = 7.096460222667276;  min_loss = 65.0939853541229\n",
      "epoch = 281; best_k = 2.5376832681006305;  best_b = 7.086218914077895;  min_loss = 65.08344624562744\n",
      "epoch = 282; best_k = 2.5392928684804406;  best_b = 7.075980116662364;  min_loss = 65.07291230488741\n",
      "epoch = 283; best_k = 2.540902074185454;  best_b = 7.065743829804942;  min_loss = 65.06238352936882\n",
      "epoch = 284; best_k = 2.5425108853124456;  best_b = 7.055510052890041;  min_loss = 65.05185991653897\n",
      "epoch = 285; best_k = 2.544119301958166;  best_b = 7.045278785302219;  min_loss = 65.04134146386639\n",
      "epoch = 286; best_k = 2.5457273242193414;  best_b = 7.03505002642619;  min_loss = 65.0308281688208\n",
      "epoch = 287; best_k = 2.547334952192676;  best_b = 7.024823775646816;  min_loss = 65.02032002887329\n",
      "epoch = 288; best_k = 2.548942185974849;  best_b = 7.01460003234911;  min_loss = 65.00981704149604\n",
      "epoch = 289; best_k = 2.5505490256625167;  best_b = 7.004378795918236;  min_loss = 64.99931920416253\n",
      "epoch = 290; best_k = 2.552155471352311;  best_b = 6.994160065739511;  min_loss = 64.98882651434752\n",
      "epoch = 291; best_k = 2.55376152314084;  best_b = 6.983943841198398;  min_loss = 64.97833896952694\n",
      "epoch = 292; best_k = 2.555367181124689;  best_b = 6.973730121680515;  min_loss = 64.96785656717803\n",
      "epoch = 293; best_k = 2.556972445400419;  best_b = 6.96351890657163;  min_loss = 64.95737930477918\n",
      "epoch = 294; best_k = 2.5585773160645666;  best_b = 6.953310195257659;  min_loss = 64.94690717981008\n",
      "epoch = 295; best_k = 2.5601817932136464;  best_b = 6.943103987124671;  min_loss = 64.93644018975166\n",
      "epoch = 296; best_k = 2.5617858769441484;  best_b = 6.932900281558884;  min_loss = 64.92597833208602\n",
      "epoch = 297; best_k = 2.563389567352539;  best_b = 6.922699077946668;  min_loss = 64.91552160429657\n",
      "epoch = 298; best_k = 2.5649928645352613;  best_b = 6.912500375674544;  min_loss = 64.90507000386792\n",
      "epoch = 299; best_k = 2.566595768588734;  best_b = 6.9023041741291795;  min_loss = 64.89462352828589\n",
      "epoch = 300; best_k = 2.5681982796093523;  best_b = 6.892110472697397;  min_loss = 64.8841821750376\n",
      "epoch = 301; best_k = 2.5698003976934887;  best_b = 6.881919270766168;  min_loss = 64.87374594161133\n",
      "epoch = 302; best_k = 2.5714021229374904;  best_b = 6.8717305677226115;  min_loss = 64.86331482549663\n",
      "epoch = 303; best_k = 2.5730034554376835;  best_b = 6.8615443629540005;  min_loss = 64.85288882418426\n",
      "epoch = 304; best_k = 2.574604395290368;  best_b = 6.851360655847756;  min_loss = 64.84246793516627\n",
      "epoch = 305; best_k = 2.576204942591821;  best_b = 6.841179445791451;  min_loss = 64.83205215593584\n",
      "epoch = 306; best_k = 2.577805097438297;  best_b = 6.831000732172807;  min_loss = 64.82164148398746\n",
      "epoch = 307; best_k = 2.5794048599260258;  best_b = 6.820824514379696;  min_loss = 64.8112359168168\n",
      "epoch = 308; best_k = 2.581004230151214;  best_b = 6.810650791800141;  min_loss = 64.80083545192082\n",
      "epoch = 309; best_k = 2.582603208210045;  best_b = 6.800479563822314;  min_loss = 64.7904400867976\n",
      "epoch = 310; best_k = 2.5842017941986772;  best_b = 6.790310829834538;  min_loss = 64.78004981894657\n",
      "epoch = 311; best_k = 2.585799988213247;  best_b = 6.7801445892252845;  min_loss = 64.76966464586832\n",
      "epoch = 312; best_k = 2.5873977903498666;  best_b = 6.769980841383177;  min_loss = 64.75928456506466\n",
      "epoch = 313; best_k = 2.5889952007046246;  best_b = 6.759819585696986;  min_loss = 64.74890957403863\n",
      "epoch = 314; best_k = 2.5905922193735864;  best_b = 6.7496608215556355;  min_loss = 64.73853967029454\n",
      "epoch = 315; best_k = 2.592188846452793;  best_b = 6.739504548348197;  min_loss = 64.72817485133787\n",
      "epoch = 316; best_k = 2.593785082038263;  best_b = 6.729350765463892;  min_loss = 64.71781511467533\n",
      "epoch = 317; best_k = 2.59538092622599;  best_b = 6.719199472292092;  min_loss = 64.70746045781486\n",
      "epoch = 318; best_k = 2.596976379111946;  best_b = 6.709050668222319;  min_loss = 64.69711087826566\n",
      "epoch = 319; best_k = 2.5985714407920777;  best_b = 6.698904352644242;  min_loss = 64.68676637353809\n",
      "epoch = 320; best_k = 2.6001661113623094;  best_b = 6.688760524947685;  min_loss = 64.67642694114375\n",
      "epoch = 321; best_k = 2.6017603909185403;  best_b = 6.678619184522615;  min_loss = 64.66609257859548\n",
      "epoch = 322; best_k = 2.6033542795566484;  best_b = 6.668480330759154;  min_loss = 64.65576328340734\n",
      "epoch = 323; best_k = 2.604947777372487;  best_b = 6.65834396304757;  min_loss = 64.64543905309458\n",
      "epoch = 324; best_k = 2.6065408844618854;  best_b = 6.6482100807782825;  min_loss = 64.6351198851737\n",
      "epoch = 325; best_k = 2.60813360092065;  best_b = 6.63807868334186;  min_loss = 64.62480577716238\n",
      "epoch = 326; best_k = 2.609725926844564;  best_b = 6.627949770129019;  min_loss = 64.61449672657955\n",
      "epoch = 327; best_k = 2.6113178623293862;  best_b = 6.617823340530628;  min_loss = 64.60419273094534\n",
      "epoch = 328; best_k = 2.6129094074708528;  best_b = 6.607699393937703;  min_loss = 64.59389378778111\n",
      "epoch = 329; best_k = 2.6145005623646758;  best_b = 6.59757792974141;  min_loss = 64.58359989460945\n",
      "epoch = 330; best_k = 2.616091327106545;  best_b = 6.587458947333065;  min_loss = 64.5733110489541\n",
      "epoch = 331; best_k = 2.617681701792125;  best_b = 6.577342446104131;  min_loss = 64.56302724834006\n",
      "epoch = 332; best_k = 2.6192716865170578;  best_b = 6.567228425446222;  min_loss = 64.55274849029358\n",
      "epoch = 333; best_k = 2.6208612813769623;  best_b = 6.557116884751101;  min_loss = 64.54247477234206\n",
      "epoch = 334; best_k = 2.6224504864674336;  best_b = 6.54700782341068;  min_loss = 64.53220609201414\n",
      "epoch = 335; best_k = 2.6240393018840433;  best_b = 6.536901240817019;  min_loss = 64.52194244683963\n",
      "epoch = 336; best_k = 2.6256277277223394;  best_b = 6.52679713636233;  min_loss = 64.51168383434963\n",
      "epoch = 337; best_k = 2.627215764077847;  best_b = 6.5166955094389705;  min_loss = 64.50143025207642\n",
      "epoch = 338; best_k = 2.628803411046067;  best_b = 6.506596359439449;  min_loss = 64.49118169755344\n",
      "epoch = 339; best_k = 2.630390668722478;  best_b = 6.496499685756423;  min_loss = 64.48093816831542\n",
      "epoch = 340; best_k = 2.631977537202534;  best_b = 6.486405487782698;  min_loss = 64.47069966189821\n",
      "epoch = 341; best_k = 2.6335640165816665;  best_b = 6.47631376491123;  min_loss = 64.46046617583896\n",
      "epoch = 342; best_k = 2.635150106955283;  best_b = 6.466224516535121;  min_loss = 64.45023770767595\n",
      "epoch = 343; best_k = 2.636735808418768;  best_b = 6.456137742047624;  min_loss = 64.44001425494871\n",
      "epoch = 344; best_k = 2.6383211210674826;  best_b = 6.4460534408421415;  min_loss = 64.42979581519798\n",
      "epoch = 345; best_k = 2.6399060449967635;  best_b = 6.435971612312223;  min_loss = 64.41958238596568\n",
      "epoch = 346; best_k = 2.641490580301926;  best_b = 6.425892255851566;  min_loss = 64.40937396479498\n",
      "epoch = 347; best_k = 2.6430747270782606;  best_b = 6.415815370854019;  min_loss = 64.39917054923016\n",
      "epoch = 348; best_k = 2.644658485421034;  best_b = 6.4057409567135775;  min_loss = 64.38897213681682\n",
      "epoch = 349; best_k = 2.6462418554254916;  best_b = 6.395669012824387;  min_loss = 64.37877872510168\n",
      "epoch = 350; best_k = 2.647824837186853;  best_b = 6.38559953858074;  min_loss = 64.36859031163273\n",
      "epoch = 351; best_k = 2.6494074308003164;  best_b = 6.375532533377079;  min_loss = 64.35840689395908\n",
      "epoch = 352; best_k = 2.6509896363610554;  best_b = 6.365467996607993;  min_loss = 64.34822846963112\n",
      "epoch = 353; best_k = 2.652571453964221;  best_b = 6.3554059276682215;  min_loss = 64.33805503620039\n",
      "epoch = 354; best_k = 2.65415288370494;  best_b = 6.345346325952652;  min_loss = 64.32788659121965\n",
      "epoch = 355; best_k = 2.6557339256783172;  best_b = 6.335289190856319;  min_loss = 64.31772313224289\n",
      "epoch = 356; best_k = 2.657314579979433;  best_b = 6.325234521774406;  min_loss = 64.30756465682522\n",
      "epoch = 357; best_k = 2.658894846703345;  best_b = 6.315182318102246;  min_loss = 64.29741116252305\n",
      "epoch = 358; best_k = 2.660474725945087;  best_b = 6.305132579235319;  min_loss = 64.2872626468939\n",
      "epoch = 359; best_k = 2.6620542177996698;  best_b = 6.295085304569253;  min_loss = 64.27711910749652\n",
      "epoch = 360; best_k = 2.6636333223620814;  best_b = 6.285040493499825;  min_loss = 64.26698054189087\n",
      "epoch = 361; best_k = 2.6652120397272854;  best_b = 6.274998145422961;  min_loss = 64.2568469476381\n",
      "epoch = 362; best_k = 2.666790369990223;  best_b = 6.264958259734732;  min_loss = 64.24671832230057\n",
      "epoch = 363; best_k = 2.6683683132458125;  best_b = 6.254920835831362;  min_loss = 64.23659466344178\n",
      "epoch = 364; best_k = 2.6699458695889473;  best_b = 6.244885873109217;  min_loss = 64.22647596862647\n",
      "epoch = 365; best_k = 2.671523039114499;  best_b = 6.2348533709648155;  min_loss = 64.2163622354206\n",
      "epoch = 366; best_k = 2.6730998219173157;  best_b = 6.224823328794823;  min_loss = 64.20625346139127\n",
      "epoch = 367; best_k = 2.6746762180922214;  best_b = 6.214795745996052;  min_loss = 64.19614964410677\n",
      "epoch = 368; best_k = 2.6762522277340177;  best_b = 6.204770621965464;  min_loss = 64.18605078113664\n",
      "epoch = 369; best_k = 2.6778278509374833;  best_b = 6.1947479561001675;  min_loss = 64.17595687005158\n",
      "epoch = 370; best_k = 2.6794030877973722;  best_b = 6.184727747797419;  min_loss = 64.16586790842344\n",
      "epoch = 371; best_k = 2.6809779384084163;  best_b = 6.174709996454624;  min_loss = 64.15578389382532\n",
      "epoch = 372; best_k = 2.682552402865324;  best_b = 6.164694701469333;  min_loss = 64.1457048238315\n",
      "epoch = 373; best_k = 2.684126481262781;  best_b = 6.154681862239248;  min_loss = 64.13563069601743\n",
      "epoch = 374; best_k = 2.6857001736954484;  best_b = 6.144671478162215;  min_loss = 64.12556150795976\n",
      "epoch = 375; best_k = 2.6872734802579656;  best_b = 6.13466354863623;  min_loss = 64.11549725723631\n",
      "epoch = 376; best_k = 2.688846401044948;  best_b = 6.124658073059436;  min_loss = 64.10543794142613\n",
      "epoch = 377; best_k = 2.6904189361509876;  best_b = 6.114655050830123;  min_loss = 64.0953835581094\n",
      "epoch = 378; best_k = 2.691991085670654;  best_b = 6.10465448134673;  min_loss = 64.08533410486756\n",
      "epoch = 379; best_k = 2.693562849698493;  best_b = 6.09465636400784;  min_loss = 64.07528957928315\n",
      "epoch = 380; best_k = 2.695134228329027;  best_b = 6.084660698212189;  min_loss = 64.06524997893995\n",
      "epoch = 381; best_k = 2.6967052216567566;  best_b = 6.074667483358655;  min_loss = 64.0552153014229\n",
      "epoch = 382; best_k = 2.6982758297761573;  best_b = 6.064676718846267;  min_loss = 64.04518554431819\n",
      "epoch = 383; best_k = 2.6998460527816825;  best_b = 6.054688404074201;  min_loss = 64.03516070521307\n",
      "epoch = 384; best_k = 2.701415890767763;  best_b = 6.044702538441778;  min_loss = 64.02514078169612\n",
      "epoch = 385; best_k = 2.702985343828805;  best_b = 6.034719121348469;  min_loss = 64.01512577135696\n",
      "epoch = 386; best_k = 2.7045544120591924;  best_b = 6.02473815219389;  min_loss = 64.0051156717865\n",
      "epoch = 387; best_k = 2.7061230955532865;  best_b = 6.014759630377805;  min_loss = 63.995110480576756\n",
      "epoch = 388; best_k = 2.707691394405424;  best_b = 6.004783555300126;  min_loss = 63.985110195320985\n",
      "epoch = 389; best_k = 2.7092593087099197;  best_b = 5.994809926360912;  min_loss = 63.97511481361359\n",
      "epoch = 390; best_k = 2.710826838561065;  best_b = 5.984838742960367;  min_loss = 63.96512433305015\n",
      "epoch = 391; best_k = 2.7123939840531275;  best_b = 5.974870004498846;  min_loss = 63.95513875122745\n",
      "epoch = 392; best_k = 2.7139607452803527;  best_b = 5.964903710376847;  min_loss = 63.94515806574342\n",
      "epoch = 393; best_k = 2.7155271223369626;  best_b = 5.954939859995017;  min_loss = 63.93518227419721\n",
      "epoch = 394; best_k = 2.717093115317156;  best_b = 5.9449784527541505;  min_loss = 63.92521137418909\n",
      "epoch = 395; best_k = 2.7186587243151084;  best_b = 5.935019488055188;  min_loss = 63.91524536332057\n",
      "epoch = 396; best_k = 2.7202239494249723;  best_b = 5.925062965299217;  min_loss = 63.90528423919429\n",
      "epoch = 397; best_k = 2.7217887907408773;  best_b = 5.915108883887472;  min_loss = 63.89532799941408\n",
      "epoch = 398; best_k = 2.72335324835693;  best_b = 5.905157243221333;  min_loss = 63.88537664158495\n",
      "epoch = 399; best_k = 2.7249173223672143;  best_b = 5.895208042702329;  min_loss = 63.87543016331308\n",
      "epoch = 400; best_k = 2.72648101286579;  best_b = 5.885261281732135;  min_loss = 63.86548856220582\n",
      "epoch = 401; best_k = 2.728044319946694;  best_b = 5.875316959712572;  min_loss = 63.855551835871694\n",
      "epoch = 402; best_k = 2.7296072437039407;  best_b = 5.865375076045608;  min_loss = 63.84561998192041\n",
      "epoch = 403; best_k = 2.731169784231522;  best_b = 5.855435630133358;  min_loss = 63.83569299796283\n",
      "epoch = 404; best_k = 2.7327319416234053;  best_b = 5.845498621378083;  min_loss = 63.825770881611014\n",
      "epoch = 405; best_k = 2.7342937159735357;  best_b = 5.835564049182192;  min_loss = 63.81585363047816\n",
      "epoch = 406; best_k = 2.7358551073758353;  best_b = 5.825631912948238;  min_loss = 63.80594124217865\n",
      "epoch = 407; best_k = 2.737416115924203;  best_b = 5.815702212078923;  min_loss = 63.79603371432806\n",
      "epoch = 408; best_k = 2.738976741712515;  best_b = 5.805774945977094;  min_loss = 63.78613104454308\n",
      "epoch = 409; best_k = 2.740536984834624;  best_b = 5.795850114045745;  min_loss = 63.77623323044164\n",
      "epoch = 410; best_k = 2.7420968453843604;  best_b = 5.785927715688016;  min_loss = 63.76634026964277\n",
      "epoch = 411; best_k = 2.743656323455531;  best_b = 5.776007750307193;  min_loss = 63.75645215976672\n",
      "epoch = 412; best_k = 2.745215419141919;  best_b = 5.76609021730671;  min_loss = 63.74656889843486\n",
      "epoch = 413; best_k = 2.746774132537286;  best_b = 5.756175116090145;  min_loss = 63.73669048326977\n",
      "epoch = 414; best_k = 2.74833246373537;  best_b = 5.746262446061225;  min_loss = 63.72681691189516\n",
      "epoch = 415; best_k = 2.7498904128298856;  best_b = 5.73635220662382;  min_loss = 63.71694818193594\n",
      "epoch = 416; best_k = 2.751447979914525;  best_b = 5.726444397181949;  min_loss = 63.70708429101816\n",
      "epoch = 417; best_k = 2.753005165082957;  best_b = 5.716539017139776;  min_loss = 63.69722523676904\n",
      "epoch = 418; best_k = 2.754561968428828;  best_b = 5.706636065901609;  min_loss = 63.68737101681696\n",
      "epoch = 419; best_k = 2.756118390045761;  best_b = 5.696735542871906;  min_loss = 63.67752162879147\n",
      "epoch = 420; best_k = 2.7576744300273557;  best_b = 5.686837447455269;  min_loss = 63.66767707032327\n",
      "epoch = 421; best_k = 2.7592300884671896;  best_b = 5.676941779056445;  min_loss = 63.65783733904425\n",
      "epoch = 422; best_k = 2.7607853654588173;  best_b = 5.667048537080329;  min_loss = 63.648002432587425\n",
      "epoch = 423; best_k = 2.7623402610957695;  best_b = 5.65715772093196;  min_loss = 63.638172348586984\n",
      "epoch = 424; best_k = 2.7638947754715546;  best_b = 5.647269330016525;  min_loss = 63.628347084678296\n",
      "epoch = 425; best_k = 2.7654489086796583;  best_b = 5.637383363739355;  min_loss = 63.61852663849787\n",
      "epoch = 426; best_k = 2.7670026608135427;  best_b = 5.627499821505928;  min_loss = 63.608711007683375\n",
      "epoch = 427; best_k = 2.7685560319666482;  best_b = 5.617618702721868;  min_loss = 63.59890018987363\n",
      "epoch = 428; best_k = 2.7701090222323903;  best_b = 5.607740006792942;  min_loss = 63.58909418270863\n",
      "epoch = 429; best_k = 2.7716616317041636;  best_b = 5.597863733125066;  min_loss = 63.57929298382952\n",
      "epoch = 430; best_k = 2.7732138604753387;  best_b = 5.5879898811243;  min_loss = 63.56949659087861\n",
      "epoch = 431; best_k = 2.7747657086392636;  best_b = 5.57811845019685;  min_loss = 63.55970500149933\n",
      "epoch = 432; best_k = 2.7763171762892638;  best_b = 5.568249439749069;  min_loss = 63.549918213336326\n",
      "epoch = 433; best_k = 2.777868263518641;  best_b = 5.558382849187453;  min_loss = 63.54013622403536\n",
      "epoch = 434; best_k = 2.779418970420674;  best_b = 5.548518677918644;  min_loss = 63.53035903124332\n",
      "epoch = 435; best_k = 2.7809692970886206;  best_b = 5.538656925349432;  min_loss = 63.520586632608314\n",
      "epoch = 436; best_k = 2.7825192436157136;  best_b = 5.528797590886749;  min_loss = 63.51081902577957\n",
      "epoch = 437; best_k = 2.7840688100951634;  best_b = 5.518940673937675;  min_loss = 63.50105620840745\n",
      "epoch = 438; best_k = 2.7856179966201586;  best_b = 5.509086173909434;  min_loss = 63.49129817814351\n",
      "epoch = 439; best_k = 2.7871668032838635;  best_b = 5.499234090209397;  min_loss = 63.48154493264042\n",
      "epoch = 440; best_k = 2.788715230179421;  best_b = 5.489384422245078;  min_loss = 63.47179646955202\n",
      "epoch = 441; best_k = 2.79026327739995;  best_b = 5.479537169424138;  min_loss = 63.462052786533306\n",
      "epoch = 442; best_k = 2.791810945038547;  best_b = 5.469692331154382;  min_loss = 63.4523138812404\n",
      "epoch = 443; best_k = 2.7933582331882856;  best_b = 5.459849906843762;  min_loss = 63.4425797513306\n",
      "epoch = 444; best_k = 2.794905141942217;  best_b = 5.450009895900373;  min_loss = 63.432850394462335\n",
      "epoch = 445; best_k = 2.796451671393369;  best_b = 5.440172297732457;  min_loss = 63.42312580829519\n",
      "epoch = 446; best_k = 2.797997821634747;  best_b = 5.4303371117484;  min_loss = 63.41340599048989\n",
      "epoch = 447; best_k = 2.799543592759333;  best_b = 5.420504337356732;  min_loss = 63.40369093870831\n",
      "epoch = 448; best_k = 2.801088984860087;  best_b = 5.410673973966131;  min_loss = 63.39398065061347\n",
      "epoch = 449; best_k = 2.802633998029946;  best_b = 5.400846020985417;  min_loss = 63.384275123869585\n",
      "epoch = 450; best_k = 2.8041786323618236;  best_b = 5.391020477823559;  min_loss = 63.3745743561419\n",
      "epoch = 451; best_k = 2.805722887948611;  best_b = 5.381197343889665;  min_loss = 63.36487834509693\n",
      "epoch = 452; best_k = 2.807266764883177;  best_b = 5.371376618592993;  min_loss = 63.35518708840225\n",
      "epoch = 453; best_k = 2.808810263258368;  best_b = 5.361558301342944;  min_loss = 63.34550058372662\n",
      "epoch = 454; best_k = 2.8103533831670053;  best_b = 5.351742391549063;  min_loss = 63.33581882873994\n",
      "epoch = 455; best_k = 2.81189612470189;  best_b = 5.341928888621041;  min_loss = 63.326141821113204\n",
      "epoch = 456; best_k = 2.8134384879558;  best_b = 5.332117791968713;  min_loss = 63.31646955851864\n",
      "epoch = 457; best_k = 2.814980473021489;  best_b = 5.32230910100206;  min_loss = 63.30680203862952\n",
      "epoch = 458; best_k = 2.8165220799916897;  best_b = 5.3125028151312055;  min_loss = 63.297139259120314\n",
      "epoch = 459; best_k = 2.8180633089591107;  best_b = 5.302698933766419;  min_loss = 63.28748121766666\n",
      "epoch = 460; best_k = 2.819604160016439;  best_b = 5.292897456318116;  min_loss = 63.277827911945245\n",
      "epoch = 461; best_k = 2.821144633256338;  best_b = 5.283098382196853;  min_loss = 63.26817933963395\n",
      "epoch = 462; best_k = 2.8226847287714487;  best_b = 5.2733017108133335;  min_loss = 63.25853549841182\n",
      "epoch = 463; best_k = 2.8242244466543895;  best_b = 5.2635074415784056;  min_loss = 63.248896385959\n",
      "epoch = 464; best_k = 2.825763786997756;  best_b = 5.253715573903061;  min_loss = 63.23926199995676\n",
      "epoch = 465; best_k = 2.8273027498941214;  best_b = 5.243926107198436;  min_loss = 63.229632338087555\n",
      "epoch = 466; best_k = 2.8288413354360356;  best_b = 5.234139040875812;  min_loss = 63.22000739803493\n",
      "epoch = 467; best_k = 2.8303795437160257;  best_b = 5.224354374346614;  min_loss = 63.21038717748359\n",
      "epoch = 468; best_k = 2.831917374826597;  best_b = 5.214572107022411;  min_loss = 63.20077167411937\n",
      "epoch = 469; best_k = 2.8334548288602317;  best_b = 5.2047922383149166;  min_loss = 63.19116088562927\n",
      "epoch = 470; best_k = 2.834991905909389;  best_b = 5.19501476763599;  min_loss = 63.18155480970134\n",
      "epoch = 471; best_k = 2.836528606066506;  best_b = 5.185239694397632;  min_loss = 63.17195344402485\n",
      "epoch = 472; best_k = 2.8380649294239957;  best_b = 5.17546701801199;  min_loss = 63.1623567862902\n",
      "epoch = 473; best_k = 2.8396008760742513;  best_b = 5.165696737891355;  min_loss = 63.15276483418883\n",
      "epoch = 474; best_k = 2.84113644610964;  best_b = 5.1559288534481595;  min_loss = 63.14317758541342\n",
      "epoch = 475; best_k = 2.842671639622509;  best_b = 5.146163364094984;  min_loss = 63.13359503765772\n",
      "epoch = 476; best_k = 2.8442064567051815;  best_b = 5.136400269244551;  min_loss = 63.124017188616634\n",
      "epoch = 477; best_k = 2.845740897449958;  best_b = 5.126639568309727;  min_loss = 63.114444035986196\n",
      "epoch = 478; best_k = 2.8472749619491173;  best_b = 5.116881260703523;  min_loss = 63.10487557746354\n",
      "epoch = 479; best_k = 2.848808650294915;  best_b = 5.107125345839093;  min_loss = 63.09531181074699\n",
      "epoch = 480; best_k = 2.8503419625795834;  best_b = 5.097371823129737;  min_loss = 63.08575273353593\n",
      "epoch = 481; best_k = 2.8518748988953333;  best_b = 5.087620691988896;  min_loss = 63.07619834353092\n",
      "epoch = 482; best_k = 2.853407459334353;  best_b = 5.077871951830156;  min_loss = 63.066648638433634\n",
      "epoch = 483; best_k = 2.854939643988807;  best_b = 5.068125602067249;  min_loss = 63.05710361594686\n",
      "epoch = 484; best_k = 2.8564714529508377;  best_b = 5.058381642114046;  min_loss = 63.047563273774514\n",
      "epoch = 485; best_k = 2.8580028863125655;  best_b = 5.048640071384567;  min_loss = 63.03802760962167\n",
      "epoch = 486; best_k = 2.859533944166088;  best_b = 5.0389008892929725;  min_loss = 63.0284966211945\n",
      "epoch = 487; best_k = 2.861064626603479;  best_b = 5.029164095253567;  min_loss = 63.018970306200295\n",
      "epoch = 488; best_k = 2.8625949337167915;  best_b = 5.019429688680798;  min_loss = 63.009448662347474\n",
      "epoch = 489; best_k = 2.8641248655980553;  best_b = 5.00969766898926;  min_loss = 62.999931687345594\n",
      "epoch = 490; best_k = 2.865654422339277;  best_b = 4.999968035593685;  min_loss = 62.990419378905344\n",
      "epoch = 491; best_k = 2.867183604032441;  best_b = 4.990240787908955;  min_loss = 62.980911734738484\n",
      "epoch = 492; best_k = 2.8687124107695103;  best_b = 4.980515925350091;  min_loss = 62.971408752557956\n",
      "epoch = 493; best_k = 2.8702408426424233;  best_b = 4.970793447332261;  min_loss = 62.961910430077786\n",
      "epoch = 494; best_k = 2.8717688997430972;  best_b = 4.961073353270772;  min_loss = 62.95241676501315\n",
      "epoch = 495; best_k = 2.873296582163426;  best_b = 4.951355642581078;  min_loss = 62.94292775508029\n",
      "epoch = 496; best_k = 2.874823889995282;  best_b = 4.941640314678774;  min_loss = 62.93344339799663\n",
      "epoch = 497; best_k = 2.8763508233305144;  best_b = 4.9319273689796015;  min_loss = 62.92396369148071\n",
      "epoch = 498; best_k = 2.87787738226095;  best_b = 4.922216804899441;  min_loss = 62.91448863325213\n",
      "epoch = 499; best_k = 2.879403566878392;  best_b = 4.912508621854319;  min_loss = 62.90501822103163\n",
      "epoch = 500; best_k = 2.8809293772746236;  best_b = 4.902802819260406;  min_loss = 62.895552452541146\n",
      "epoch = 501; best_k = 2.8824548135414036;  best_b = 4.893099396534011;  min_loss = 62.886091325503614\n",
      "epoch = 502; best_k = 2.883979875770468;  best_b = 4.883398353091593;  min_loss = 62.876634837643145\n",
      "epoch = 503; best_k = 2.885504564053532;  best_b = 4.873699688349748;  min_loss = 62.867182986685\n",
      "epoch = 504; best_k = 2.887028878482287;  best_b = 4.864003401725218;  min_loss = 62.857735770355475\n",
      "epoch = 505; best_k = 2.888552819148402;  best_b = 4.854309492634887;  min_loss = 62.84829318638203\n",
      "epoch = 506; best_k = 2.890076386143524;  best_b = 4.844617960495784;  min_loss = 62.83885523249325\n",
      "epoch = 507; best_k = 2.891599579559277;  best_b = 4.834928804725078;  min_loss = 62.829421906418794\n",
      "epoch = 508; best_k = 2.8931223994872632;  best_b = 4.825242024740083;  min_loss = 62.819993205889475\n",
      "epoch = 509; best_k = 2.894644846019062;  best_b = 4.8155576199582555;  min_loss = 62.81056912863719\n",
      "epoch = 510; best_k = 2.8961669192462303;  best_b = 4.805875589797194;  min_loss = 62.80114967239495\n",
      "epoch = 511; best_k = 2.897688619260302;  best_b = 4.79619593367464;  min_loss = 62.791734834896886\n",
      "epoch = 512; best_k = 2.8992099461527903;  best_b = 4.786518651008478;  min_loss = 62.78232461387825\n",
      "epoch = 513; best_k = 2.9007309000151835;  best_b = 4.776843741216736;  min_loss = 62.772919007075394\n",
      "epoch = 514; best_k = 2.9022514809389497;  best_b = 4.767171203717584;  min_loss = 62.76351801222576\n",
      "epoch = 515; best_k = 2.9037716890155334;  best_b = 4.757501037929335;  min_loss = 62.75412162706795\n",
      "epoch = 516; best_k = 2.9052915243363566;  best_b = 4.747833243270443;  min_loss = 62.74472984934162\n",
      "epoch = 517; best_k = 2.9068109869928196;  best_b = 4.738167819159507;  min_loss = 62.73534267678757\n",
      "epoch = 518; best_k = 2.9083300770762994;  best_b = 4.728504765015267;  min_loss = 62.725960107147685\n",
      "epoch = 519; best_k = 2.909848794678152;  best_b = 4.7188440802566065;  min_loss = 62.716582138164966\n",
      "epoch = 520; best_k = 2.911367139889709;  best_b = 4.709185764302551;  min_loss = 62.70720876758353\n",
      "epoch = 521; best_k = 2.912885112802281;  best_b = 4.699529816572268;  min_loss = 62.697839993148605\n",
      "epoch = 522; best_k = 2.9144027135071564;  best_b = 4.689876236485068;  min_loss = 62.6884758126065\n",
      "epoch = 523; best_k = 2.9159199420956;  best_b = 4.6802250234604035;  min_loss = 62.67911622370463\n",
      "epoch = 524; best_k = 2.9174367986588554;  best_b = 4.67057617691787;  min_loss = 62.66976122419155\n",
      "epoch = 525; best_k = 2.9189532832881433;  best_b = 4.660929696277205;  min_loss = 62.66041081181688\n",
      "epoch = 526; best_k = 2.920469396074662;  best_b = 4.651285580958288;  min_loss = 62.65106498433137\n",
      "epoch = 527; best_k = 2.9219851371095875;  best_b = 4.641643830381142;  min_loss = 62.64172373948685\n",
      "epoch = 528; best_k = 2.9235005064840736;  best_b = 4.632004443965929;  min_loss = 62.63238707503626\n",
      "epoch = 529; best_k = 2.9250155042892514;  best_b = 4.6223674211329575;  min_loss = 62.62305498873368\n",
      "epoch = 530; best_k = 2.9265301306162304;  best_b = 4.6127327613026745;  min_loss = 62.61372747833421\n",
      "epoch = 531; best_k = 2.9280443855560963;  best_b = 4.603100463895672;  min_loss = 62.60440454159413\n",
      "epoch = 532; best_k = 2.929558269199914;  best_b = 4.593470528332681;  min_loss = 62.59508617627076\n",
      "epoch = 533; best_k = 2.9310717816387255;  best_b = 4.583842954034577;  min_loss = 62.58577238012257\n",
      "epoch = 534; best_k = 2.9325849229635508;  best_b = 4.574217740422378;  min_loss = 62.576463150909106\n",
      "epoch = 535; best_k = 2.9340976932653864;  best_b = 4.56459488691724;  min_loss = 62.56715848639101\n",
      "epoch = 536; best_k = 2.9356100926352076;  best_b = 4.554974392940465;  min_loss = 62.557858384330025\n",
      "epoch = 537; best_k = 2.9371221211639673;  best_b = 4.545356257913496;  min_loss = 62.54856284248899\n",
      "epoch = 538; best_k = 2.9386337789425956;  best_b = 4.535740481257917;  min_loss = 62.53927185863184\n",
      "epoch = 539; best_k = 2.940145066062001;  best_b = 4.526127062395453;  min_loss = 62.52998543052362\n",
      "epoch = 540; best_k = 2.9416559826130695;  best_b = 4.516516000747973;  min_loss = 62.520703555930446\n",
      "epoch = 541; best_k = 2.9431665286866644;  best_b = 4.506907295737488;  min_loss = 62.511426232619556\n",
      "epoch = 542; best_k = 2.9446767043736264;  best_b = 4.497300946786147;  min_loss = 62.50215345835927\n",
      "epoch = 543; best_k = 2.9461865097647753;  best_b = 4.487696953316245;  min_loss = 62.492885230918986\n",
      "epoch = 544; best_k = 2.9476959449509073;  best_b = 4.478095314750217;  min_loss = 62.48362154806922\n",
      "epoch = 545; best_k = 2.949205010022797;  best_b = 4.468496030510638;  min_loss = 62.474362407581594\n",
      "epoch = 546; best_k = 2.9507137050711965;  best_b = 4.458899100020226;  min_loss = 62.465107807228776\n",
      "epoch = 547; best_k = 2.9522220301868356;  best_b = 4.4493045227018415;  min_loss = 62.455857744784566\n",
      "epoch = 548; best_k = 2.9537299854604226;  best_b = 4.4397122979784855;  min_loss = 62.446612218023844\n",
      "epoch = 549; best_k = 2.955237570982643;  best_b = 4.4301224252733;  min_loss = 62.43737122472257\n",
      "epoch = 550; best_k = 2.9567447868441588;  best_b = 4.420534904009569;  min_loss = 62.4281347626578\n",
      "epoch = 551; best_k = 2.958251633135612;  best_b = 4.410949733610719;  min_loss = 62.418902829607696\n",
      "epoch = 552; best_k = 2.959758109947621;  best_b = 4.401366913500316;  min_loss = 62.4096754233515\n",
      "epoch = 553; best_k = 2.961264217370783;  best_b = 4.391786443102068;  min_loss = 62.40045254166953\n",
      "epoch = 554; best_k = 2.9627699554956717;  best_b = 4.382208321839824;  min_loss = 62.3912341823432\n",
      "epoch = 555; best_k = 2.964275324412839;  best_b = 4.372632549137575;  min_loss = 62.382020343155006\n",
      "epoch = 556; best_k = 2.9657803242128153;  best_b = 4.363059124419453;  min_loss = 62.372811021888566\n",
      "epoch = 557; best_k = 2.967284954986108;  best_b = 4.353488047109733;  min_loss = 62.36360621632855\n",
      "epoch = 558; best_k = 2.968789216823203;  best_b = 4.343919316632826;  min_loss = 62.35440592426072\n",
      "epoch = 559; best_k = 2.970293109814563;  best_b = 4.33435293241329;  min_loss = 62.3452101434719\n",
      "epoch = 560; best_k = 2.97179663405063;  best_b = 4.32478889387582;  min_loss = 62.33601887175008\n",
      "epoch = 561; best_k = 2.9732997896218225;  best_b = 4.315227200445255;  min_loss = 62.32683210688424\n",
      "epoch = 562; best_k = 2.9748025766185373;  best_b = 4.3056678515465725;  min_loss = 62.31764984666448\n",
      "epoch = 563; best_k = 2.976304995131149;  best_b = 4.2961108466048925;  min_loss = 62.30847208888203\n",
      "epoch = 564; best_k = 2.97780704525001;  best_b = 4.286556185045476;  min_loss = 62.299298831329104\n",
      "epoch = 565; best_k = 2.979308727065451;  best_b = 4.277003866293724;  min_loss = 62.2901300717991\n",
      "epoch = 566; best_k = 2.9808100406677798;  best_b = 4.2674538897751795;  min_loss = 62.280965808086435\n",
      "epoch = 567; best_k = 2.982310986147283;  best_b = 4.257906254915525;  min_loss = 62.27180603798663\n",
      "epoch = 568; best_k = 2.983811563594224;  best_b = 4.248360961140586;  min_loss = 62.26265075929629\n",
      "epoch = 569; best_k = 2.9853117730988443;  best_b = 4.238818007876326;  min_loss = 62.25349996981308\n",
      "epoch = 570; best_k = 2.986811614751364;  best_b = 4.22927739454885;  min_loss = 62.24435366733576\n",
      "epoch = 571; best_k = 2.988311088641981;  best_b = 4.219739120584406;  min_loss = 62.235211849664175\n",
      "epoch = 572; best_k = 2.9898101948608695;  best_b = 4.21020318540938;  min_loss = 62.22607451459925\n",
      "epoch = 573; best_k = 2.991308933498184;  best_b = 4.2006695884503005;  min_loss = 62.21694165994294\n",
      "epoch = 574; best_k = 2.9928073046440553;  best_b = 4.191138329133835;  min_loss = 62.207813283498375\n",
      "epoch = 575; best_k = 2.994305308388592;  best_b = 4.1816094068867935;  min_loss = 62.19868938306966\n",
      "epoch = 576; best_k = 2.995802944821882;  best_b = 4.172082821136125;  min_loss = 62.18956995646206\n",
      "epoch = 577; best_k = 2.997300214033989;  best_b = 4.162558571308919;  min_loss = 62.18045500148184\n",
      "epoch = 578; best_k = 2.9987971161149565;  best_b = 4.153036656832406;  min_loss = 62.17134451593639\n",
      "epoch = 579; best_k = 3.0002936511548053;  best_b = 4.143517077133957;  min_loss = 62.16223849763417\n",
      "epoch = 580; best_k = 3.001789819243534;  best_b = 4.133999831641083;  min_loss = 62.15313694438471\n",
      "epoch = 581; best_k = 3.003285620471119;  best_b = 4.124484919781437;  min_loss = 62.144039853998606\n",
      "epoch = 582; best_k = 3.0047810549275153;  best_b = 4.114972340982809;  min_loss = 62.13494722428753\n",
      "epoch = 583; best_k = 3.006276122702655;  best_b = 4.105462094673133;  min_loss = 62.12585905306425\n",
      "epoch = 584; best_k = 3.0077708238864482;  best_b = 4.09595418028048;  min_loss = 62.11677533814257\n",
      "epoch = 585; best_k = 3.009265158568784;  best_b = 4.086448597233065;  min_loss = 62.107696077337366\n",
      "epoch = 586; best_k = 3.010759126839528;  best_b = 4.076945344959238;  min_loss = 62.09862126846464\n",
      "epoch = 587; best_k = 3.0122527287885252;  best_b = 4.067444422887495;  min_loss = 62.089550909341426\n",
      "epoch = 588; best_k = 3.0137459645055977;  best_b = 4.057945830446468;  min_loss = 62.080484997785796\n",
      "epoch = 589; best_k = 3.0152388340805456;  best_b = 4.048449567064931;  min_loss = 62.071423531616944\n",
      "epoch = 590; best_k = 3.016731337603147;  best_b = 4.038955632171796;  min_loss = 62.06236650865514\n",
      "epoch = 591; best_k = 3.018223475163158;  best_b = 4.029464025196118;  min_loss = 62.05331392672165\n",
      "epoch = 592; best_k = 3.0197152468503132;  best_b = 4.01997474556709;  min_loss = 62.04426578363889\n",
      "epoch = 593; best_k = 3.021206652754325;  best_b = 4.010487792714046;  min_loss = 62.03522207723031\n",
      "epoch = 594; best_k = 3.022697692964883;  best_b = 4.001003166066458;  min_loss = 62.0261828053204\n",
      "epoch = 595; best_k = 3.024188367571656;  best_b = 3.9915208650539413;  min_loss = 62.01714796573477\n",
      "epoch = 596; best_k = 3.025678676664289;  best_b = 3.9820408891062478;  min_loss = 62.00811755630007\n",
      "epoch = 597; best_k = 3.0271686203324077;  best_b = 3.9725632376532705;  min_loss = 61.99909157484401\n",
      "epoch = 598; best_k = 3.028658198665614;  best_b = 3.9630879101250422;  min_loss = 61.990070019195365\n",
      "epoch = 599; best_k = 3.0301474117534872;  best_b = 3.953614905951736;  min_loss = 61.981052887183985\n",
      "epoch = 600; best_k = 3.0316362596855875;  best_b = 3.9441442245636633;  min_loss = 61.97204017664079\n",
      "epoch = 601; best_k = 3.0331247425514496;  best_b = 3.9346758653912763;  min_loss = 61.96303188539773\n",
      "epoch = 602; best_k = 3.0346128604405886;  best_b = 3.925209827865167;  min_loss = 61.95402801128787\n",
      "epoch = 603; best_k = 3.036100613442497;  best_b = 3.915746111416066;  min_loss = 61.94502855214529\n",
      "epoch = 604; best_k = 3.0375880016466454;  best_b = 3.9062847154748446;  min_loss = 61.93603350580515\n",
      "epoch = 605; best_k = 3.0390750251424823;  best_b = 3.896825639472513;  min_loss = 61.9270428701037\n",
      "epoch = 606; best_k = 3.0405616840194334;  best_b = 3.887368882840221;  min_loss = 61.918056642878184\n",
      "epoch = 607; best_k = 3.042047978366905;  best_b = 3.8779144450092575;  min_loss = 61.909074821966975\n",
      "epoch = 608; best_k = 3.0435339082742794;  best_b = 3.868462325411052;  min_loss = 61.900097405209465\n",
      "epoch = 609; best_k = 3.0450194738309166;  best_b = 3.8590125234771726;  min_loss = 61.8911243904461\n",
      "epoch = 610; best_k = 3.046504675126157;  best_b = 3.8495650386393265;  min_loss = 61.882155775518456\n",
      "epoch = 611; best_k = 3.0479895122493166;  best_b = 3.8401198703293606;  min_loss = 61.87319155826906\n",
      "epoch = 612; best_k = 3.049473985289691;  best_b = 3.8306770179792617;  min_loss = 61.864231736541576\n",
      "epoch = 613; best_k = 3.0509580943365533;  best_b = 3.8212364810211548;  min_loss = 61.8552763081807\n",
      "epoch = 614; best_k = 3.0524418394791546;  best_b = 3.811798258887305;  min_loss = 61.84632527103217\n",
      "epoch = 615; best_k = 3.0539252208067253;  best_b = 3.802362351010116;  min_loss = 61.837378622942815\n",
      "epoch = 616; best_k = 3.0554082384084724;  best_b = 3.792928756822131;  min_loss = 61.82843636176048\n",
      "epoch = 617; best_k = 3.056890892373582;  best_b = 3.7834974757560325;  min_loss = 61.81949848533411\n",
      "epoch = 618; best_k = 3.0583731827912173;  best_b = 3.7740685072446416;  min_loss = 61.810564991513644\n",
      "epoch = 619; best_k = 3.059855109750521;  best_b = 3.7646418507209187;  min_loss = 61.80163587815015\n",
      "epoch = 620; best_k = 3.061336673340613;  best_b = 3.7552175056179635;  min_loss = 61.792711143095694\n",
      "epoch = 621; best_k = 3.0628178736505913;  best_b = 3.7457954713690143;  min_loss = 61.7837907842034\n",
      "epoch = 622; best_k = 3.064298710769533;  best_b = 3.736375747407449;  min_loss = 61.77487479932747\n",
      "epoch = 623; best_k = 3.0657791847864924;  best_b = 3.7269583331667837;  min_loss = 61.76596318632315\n",
      "epoch = 624; best_k = 3.0672592957905023;  best_b = 3.7175432280806735;  min_loss = 61.757055943046716\n",
      "epoch = 625; best_k = 3.0687390438705737;  best_b = 3.708130431582913;  min_loss = 61.748153067355545\n",
      "epoch = 626; best_k = 3.0702184291156955;  best_b = 3.698719943107435;  min_loss = 61.73925455710799\n",
      "epoch = 627; best_k = 3.071697451614835;  best_b = 3.689311762088311;  min_loss = 61.73036041016353\n",
      "epoch = 628; best_k = 3.073176111456938;  best_b = 3.6799058879597526;  min_loss = 61.721470624382626\n",
      "epoch = 629; best_k = 3.0746544087309284;  best_b = 3.6705023201561082;  min_loss = 61.71258519762685\n",
      "epoch = 630; best_k = 3.0761323435257073;  best_b = 3.661101058111866;  min_loss = 61.703704127758776\n",
      "epoch = 631; best_k = 3.077609915930155;  best_b = 3.6517021012616526;  min_loss = 61.694827412642056\n",
      "epoch = 632; best_k = 3.0790871260331305;  best_b = 3.642305449040234;  min_loss = 61.68595505014137\n",
      "epoch = 633; best_k = 3.0805639739234696;  best_b = 3.632911100882513;  min_loss = 61.677087038122465\n",
      "epoch = 634; best_k = 3.082040459689987;  best_b = 3.623519056223533;  min_loss = 61.668223374452104\n",
      "epoch = 635; best_k = 3.0835165834214764;  best_b = 3.614129314498474;  min_loss = 61.65936405699812\n",
      "epoch = 636; best_k = 3.084992345206708;  best_b = 3.6047418751426563;  min_loss = 61.65050908362941\n",
      "epoch = 637; best_k = 3.0864677451344313;  best_b = 3.5953567375915374;  min_loss = 61.641658452215836\n",
      "epoch = 638; best_k = 3.0879427832933746;  best_b = 3.585973901280714;  min_loss = 61.632812160628404\n",
      "epoch = 639; best_k = 3.0894174597722435;  best_b = 3.576593365645921;  min_loss = 61.623970206739116\n",
      "epoch = 640; best_k = 3.0908917746597218;  best_b = 3.567215130123031;  min_loss = 61.61513258842103\n",
      "epoch = 641; best_k = 3.092365728044472;  best_b = 3.557839194148056;  min_loss = 61.606299303548205\n",
      "epoch = 642; best_k = 3.0938393200151353;  best_b = 3.548465557157145;  min_loss = 61.597470349995795\n",
      "epoch = 643; best_k = 3.09531255066033;  best_b = 3.5390942185865866;  min_loss = 61.58864572563997\n",
      "epoch = 644; best_k = 3.0967854200686533;  best_b = 3.5297251778728067;  min_loss = 61.579825428357964\n",
      "epoch = 645; best_k = 3.098257928328681;  best_b = 3.52035843445237;  min_loss = 61.571009456028015\n",
      "epoch = 646; best_k = 3.0997300755289667;  best_b = 3.5109939877619785;  min_loss = 61.56219780652945\n",
      "epoch = 647; best_k = 3.101201861758042;  best_b = 3.5016318372384734;  min_loss = 61.55339047774258\n",
      "epoch = 648; best_k = 3.102673287104418;  best_b = 3.4922719823188335;  min_loss = 61.54458746754879\n",
      "epoch = 649; best_k = 3.1041443516565828;  best_b = 3.4829144224401754;  min_loss = 61.53578877383051\n",
      "epoch = 650; best_k = 3.1056150555030033;  best_b = 3.473559157039754;  min_loss = 61.526994394471195\n",
      "epoch = 651; best_k = 3.1070853987321247;  best_b = 3.464206185554962;  min_loss = 61.51820432735533\n",
      "epoch = 652; best_k = 3.1085553814323714;  best_b = 3.4548555074233303;  min_loss = 61.50941857036844\n",
      "epoch = 653; best_k = 3.1100250036921437;  best_b = 3.4455071220825273;  min_loss = 61.5006371213971\n",
      "epoch = 654; best_k = 3.111494265599823;  best_b = 3.4361610289703597;  min_loss = 61.491859978328904\n",
      "epoch = 655; best_k = 3.1129631672437674;  best_b = 3.426817227524772;  min_loss = 61.483087139052515\n",
      "epoch = 656; best_k = 3.1144317087123143;  best_b = 3.4174757171838466;  min_loss = 61.4743186014576\n",
      "epoch = 657; best_k = 3.1158998900937775;  best_b = 3.4081364973858035;  min_loss = 61.46555436343485\n",
      "epoch = 658; best_k = 3.117367711476452;  best_b = 3.398799567569;  min_loss = 61.45679442287603\n",
      "epoch = 659; best_k = 3.118835172948609;  best_b = 3.3894649271719324;  min_loss = 61.44803877767391\n",
      "epoch = 660; best_k = 3.1203022745984987;  best_b = 3.380132575633233;  min_loss = 61.4392874257223\n",
      "epoch = 661; best_k = 3.12176901651435;  best_b = 3.3708025123916734;  min_loss = 61.43054036491605\n",
      "epoch = 662; best_k = 3.1232353987843693;  best_b = 3.3614747368861617;  min_loss = 61.42179759315103\n",
      "epoch = 663; best_k = 3.1247014214967423;  best_b = 3.352149248555744;  min_loss = 61.41305910832415\n",
      "epoch = 664; best_k = 3.126167084739633;  best_b = 3.3428260468396034;  min_loss = 61.40432490833335\n",
      "epoch = 665; best_k = 3.1276323886011825;  best_b = 3.3335051311770614;  min_loss = 61.395594991077594\n",
      "epoch = 666; best_k = 3.1290973331695127;  best_b = 3.3241865010075764;  min_loss = 61.386869354456884\n",
      "epoch = 667; best_k = 3.1305619185327216;  best_b = 3.3148701557707443;  min_loss = 61.378147996372256\n",
      "epoch = 668; best_k = 3.1320261447788864;  best_b = 3.3055560949062985;  min_loss = 61.36943091472577\n",
      "epoch = 669; best_k = 3.1334900119960634;  best_b = 3.29624431785411;  min_loss = 61.36071810742051\n",
      "epoch = 670; best_k = 3.134953520272286;  best_b = 3.2869348240541867;  min_loss = 61.352009572360586\n",
      "epoch = 671; best_k = 3.136416669695567;  best_b = 3.277627612946674;  min_loss = 61.34330530745115\n",
      "epoch = 672; best_k = 3.137879460353897;  best_b = 3.268322683971855;  min_loss = 61.33460531059838\n",
      "epoch = 673; best_k = 3.139341892335246;  best_b = 3.2590200365701496;  min_loss = 61.325909579709446\n",
      "epoch = 674; best_k = 3.1408039657275615;  best_b = 3.2497196701821145;  min_loss = 61.317218112692586\n",
      "epoch = 675; best_k = 3.1422656806187694;  best_b = 3.2404215842484443;  min_loss = 61.30853090745707\n",
      "epoch = 676; best_k = 3.1437270370967743;  best_b = 3.2311257782099707;  min_loss = 61.299847961913144\n",
      "epoch = 677; best_k = 3.14518803524946;  best_b = 3.221832251507662;  min_loss = 61.29116927397211\n",
      "epoch = 678; best_k = 3.146648675164687;  best_b = 3.212541003582624;  min_loss = 61.28249484154631\n",
      "epoch = 679; best_k = 3.1481089569302965;  best_b = 3.2032520338760992;  min_loss = 61.27382466254908\n",
      "epoch = 680; best_k = 3.149568880634106;  best_b = 3.193965341829468;  min_loss = 61.26515873489479\n",
      "epoch = 681; best_k = 3.1510284463639127;  best_b = 3.184680926884246;  min_loss = 61.25649705649883\n",
      "epoch = 682; best_k = 3.1524876542074924;  best_b = 3.1753987884820876;  min_loss = 61.24783962527762\n",
      "epoch = 683; best_k = 3.1539465042525983;  best_b = 3.166118926064783;  min_loss = 61.2391864391486\n",
      "epoch = 684; best_k = 3.1554049965869635;  best_b = 3.15684133907426;  min_loss = 61.2305374960302\n",
      "epoch = 685; best_k = 3.1568631312982984;  best_b = 3.1475660269525823;  min_loss = 61.22189279384195\n",
      "epoch = 686; best_k = 3.158320908474292;  best_b = 3.1382929891419513;  min_loss = 61.21325233050432\n",
      "epoch = 687; best_k = 3.1597783282026124;  best_b = 3.1290222250847046;  min_loss = 61.204616103938804\n",
      "epoch = 688; best_k = 3.1612353905709067;  best_b = 3.119753734223317;  min_loss = 61.19598411206798\n",
      "epoch = 689; best_k = 3.1626920956667988;  best_b = 3.1104875160003997;  min_loss = 61.18735635281539\n",
      "epoch = 690; best_k = 3.164148443577892;  best_b = 3.1012235698587007;  min_loss = 61.1787328241056\n",
      "epoch = 691; best_k = 3.1656044343917693;  best_b = 3.0919618952411043;  min_loss = 61.170113523864224\n",
      "epoch = 692; best_k = 3.16706006819599;  best_b = 3.082702491590632;  min_loss = 61.161498450017845\n",
      "epoch = 693; best_k = 3.168515345078094;  best_b = 3.0734453583504413;  min_loss = 61.15288760049409\n",
      "epoch = 694; best_k = 3.1699702651255977;  best_b = 3.064190494963827;  min_loss = 61.144280973221626\n",
      "epoch = 695; best_k = 3.171424828425997;  best_b = 3.054937900874219;  min_loss = 61.13567856613009\n",
      "epoch = 696; best_k = 3.172879035066768;  best_b = 3.0456875755251853;  min_loss = 61.12708037715016\n",
      "epoch = 697; best_k = 3.174332885135363;  best_b = 3.0364395183604294;  min_loss = 61.11848640421352\n",
      "epoch = 698; best_k = 3.1757863787192133;  best_b = 3.027193728823791;  min_loss = 61.109896645252874\n",
      "epoch = 699; best_k = 3.1772395159057294;  best_b = 3.0179502063592474;  min_loss = 61.10131109820195\n",
      "epoch = 700; best_k = 3.1786922967823;  best_b = 3.008708950410911;  min_loss = 61.09272976099546\n",
      "epoch = 701; best_k = 3.180144721436293;  best_b = 2.999469960423031;  min_loss = 61.084152631569154\n",
      "epoch = 702; best_k = 3.1815967899550532;  best_b = 2.9902332358399923;  min_loss = 61.075579707859774\n",
      "epoch = 703; best_k = 3.1830485024259065;  best_b = 2.9809987761063175;  min_loss = 61.067010987805105\n",
      "epoch = 704; best_k = 3.184499858936155;  best_b = 2.9717665806666638;  min_loss = 61.05844646934391\n",
      "epoch = 705; best_k = 3.1859508595730808;  best_b = 2.962536648965825;  min_loss = 61.04988615041598\n",
      "epoch = 706; best_k = 3.1874015044239443;  best_b = 2.953308980448732;  min_loss = 61.04133002896209\n",
      "epoch = 707; best_k = 3.1888517935759846;  best_b = 2.94408357456045;  min_loss = 61.032778102924084\n",
      "epoch = 708; best_k = 3.190301727116419;  best_b = 2.934860430746182;  min_loss = 61.024230370244766\n",
      "epoch = 709; best_k = 3.1917513051324433;  best_b = 2.925639548451266;  min_loss = 61.01568682886795\n",
      "epoch = 710; best_k = 3.1932005277112325;  best_b = 2.916420927121177;  min_loss = 61.00714747673849\n",
      "epoch = 711; best_k = 3.19464939493994;  best_b = 2.907204566201525;  min_loss = 60.9986123118022\n",
      "epoch = 712; best_k = 3.196097906905698;  best_b = 2.897990465138056;  min_loss = 60.99008133200594\n",
      "epoch = 713; best_k = 3.197546063695617;  best_b = 2.8887786233766524;  min_loss = 60.98155453529756\n",
      "epoch = 714; best_k = 3.198993865396786;  best_b = 2.8795690403633323;  min_loss = 60.97303191962594\n",
      "epoch = 715; best_k = 3.2004413120962734;  best_b = 2.8703617155442496;  min_loss = 60.96451348294093\n",
      "epoch = 716; best_k = 3.2018884038811257;  best_b = 2.8611566483656934;  min_loss = 60.95599922319341\n",
      "epoch = 717; best_k = 3.203335140838368;  best_b = 2.8519538382740897;  min_loss = 60.94748913833525\n",
      "epoch = 718; best_k = 3.2047815230550043;  best_b = 2.8427532847159998;  min_loss = 60.93898322631932\n",
      "epoch = 719; best_k = 3.206227550618017;  best_b = 2.83355498713812;  min_loss = 60.930481485099534\n",
      "epoch = 720; best_k = 3.2076732236143677;  best_b = 2.8243589449872832;  min_loss = 60.92198391263077\n",
      "epoch = 721; best_k = 3.209118542130996;  best_b = 2.815165157710458;  min_loss = 60.9134905068689\n",
      "epoch = 722; best_k = 3.2105635062548203;  best_b = 2.8059736247547473;  min_loss = 60.90500126577084\n",
      "epoch = 723; best_k = 3.2120081160727385;  best_b = 2.7967843455673913;  min_loss = 60.89651618729448\n",
      "epoch = 724; best_k = 3.2134523716716257;  best_b = 2.7875973195957644;  min_loss = 60.888035269398706\n",
      "epoch = 725; best_k = 3.2148962731383373;  best_b = 2.778412546287377;  min_loss = 60.87955851004342\n",
      "epoch = 726; best_k = 3.216339820559707;  best_b = 2.7692300250898754;  min_loss = 60.871085907189524\n",
      "epoch = 727; best_k = 3.217783014022546;  best_b = 2.7600497554510404;  min_loss = 60.86261745879892\n",
      "epoch = 728; best_k = 3.2192258536136458;  best_b = 2.750871736818789;  min_loss = 60.85415316283451\n",
      "epoch = 729; best_k = 3.2206683394197753;  best_b = 2.7416959686411735;  min_loss = 60.84569301726017\n",
      "epoch = 730; best_k = 3.222110471527683;  best_b = 2.732522450366381;  min_loss = 60.8372370200408\n",
      "epoch = 731; best_k = 3.223552250024096;  best_b = 2.7233511814427342;  min_loss = 60.82878516914229\n",
      "epoch = 732; best_k = 3.22499367499572;  best_b = 2.7141821613186914;  min_loss = 60.82033746253154\n",
      "epoch = 733; best_k = 3.2264347465292396;  best_b = 2.7050153894428455;  min_loss = 60.811893898176436\n",
      "epoch = 734; best_k = 3.2278754647113175;  best_b = 2.695850865263925;  min_loss = 60.80345447404585\n",
      "epoch = 735; best_k = 3.229315829628596;  best_b = 2.6866885882307936;  min_loss = 60.79501918810967\n",
      "epoch = 736; best_k = 3.2307558413676962;  best_b = 2.67752855779245;  min_loss = 60.78658803833876\n",
      "epoch = 737; best_k = 3.2321955000152167;  best_b = 2.6683707733980286;  min_loss = 60.778161022705\n",
      "epoch = 738; best_k = 3.2336348056577364;  best_b = 2.6592152344967976;  min_loss = 60.76973813918126\n",
      "epoch = 739; best_k = 3.2350737583818114;  best_b = 2.650061940538161;  min_loss = 60.76131938574138\n",
      "epoch = 740; best_k = 3.2365123582739788;  best_b = 2.6409108909716585;  min_loss = 60.75290476036022\n",
      "epoch = 741; best_k = 3.2379506054207523;  best_b = 2.6317620852469634;  min_loss = 60.744494261013614\n",
      "epoch = 742; best_k = 3.239388499908625;  best_b = 2.6226155228138848;  min_loss = 60.73608788567842\n",
      "epoch = 743; best_k = 3.2408260418240697;  best_b = 2.6134712031223666;  min_loss = 60.72768563233245\n",
      "epoch = 744; best_k = 3.242263231253537;  best_b = 2.6043291256224874;  min_loss = 60.719287498954536\n",
      "epoch = 745; best_k = 3.2437000682834567;  best_b = 2.5951892897644604;  min_loss = 60.71089348352447\n",
      "epoch = 746; best_k = 3.2451365530002376;  best_b = 2.5860516949986345;  min_loss = 60.70250358402308\n",
      "epoch = 747; best_k = 3.246572685490267;  best_b = 2.5769163407754925;  min_loss = 60.69411779843213\n",
      "epoch = 748; best_k = 3.24800846583991;  best_b = 2.567783226545652;  min_loss = 60.68573612473442\n",
      "epoch = 749; best_k = 3.249443894135513;  best_b = 2.558652351759866;  min_loss = 60.67735856091371\n",
      "epoch = 750; best_k = 3.2508789704633996;  best_b = 2.5495237158690216;  min_loss = 60.66898510495477\n",
      "epoch = 751; best_k = 3.252313694909872;  best_b = 2.5403973183241404;  min_loss = 60.66061575484334\n",
      "epoch = 752; best_k = 3.2537480675612116;  best_b = 2.5312731585763792;  min_loss = 60.652250508566176\n",
      "epoch = 753; best_k = 3.2551820885036786;  best_b = 2.522151236077029;  min_loss = 60.643889364110976\n",
      "epoch = 754; best_k = 3.2566157578235133;  best_b = 2.5130315502775153;  min_loss = 60.63553231946644\n",
      "epoch = 755; best_k = 3.2580490756069325;  best_b = 2.5039141006293986;  min_loss = 60.6271793726223\n",
      "epoch = 756; best_k = 3.259482041940134;  best_b = 2.494798886584373;  min_loss = 60.61883052156921\n",
      "epoch = 757; best_k = 3.2609146569092924;  best_b = 2.4856859075942674;  min_loss = 60.610485764298836\n",
      "epoch = 758; best_k = 3.2623469206005637;  best_b = 2.476575163111046;  min_loss = 60.60214509880385\n",
      "epoch = 759; best_k = 3.2637788331000808;  best_b = 2.467466652586806;  min_loss = 60.59380852307786\n",
      "epoch = 760; best_k = 3.265210394493956;  best_b = 2.4583603754737795;  min_loss = 60.585476035115526\n",
      "epoch = 761; best_k = 3.2666416048682807;  best_b = 2.4492563312243334;  min_loss = 60.577147632912386\n",
      "epoch = 762; best_k = 3.268072464309125;  best_b = 2.440154519290968;  min_loss = 60.568823314465085\n",
      "epoch = 763; best_k = 3.269502972902538;  best_b = 2.431054939126319;  min_loss = 60.56050307777116\n",
      "epoch = 764; best_k = 3.2709331307345475;  best_b = 2.421957590183155;  min_loss = 60.552186920829165\n",
      "epoch = 765; best_k = 3.272362937891161;  best_b = 2.4128624719143796;  min_loss = 60.54387484163863\n",
      "epoch = 766; best_k = 3.273792394458363;  best_b = 2.4037695837730304;  min_loss = 60.53556683820009\n",
      "epoch = 767; best_k = 3.27522150052212;  best_b = 2.394678925212279;  min_loss = 60.52726290851502\n",
      "epoch = 768; best_k = 3.2766502561683737;  best_b = 2.3855904956854315;  min_loss = 60.518963050585874\n",
      "epoch = 769; best_k = 3.278078661483048;  best_b = 2.3765042946459274;  min_loss = 60.51066726241613\n",
      "epoch = 770; best_k = 3.279506716552044;  best_b = 2.3674203215473404;  min_loss = 60.502375542010206\n",
      "epoch = 771; best_k = 3.280934421461242;  best_b = 2.358338575843378;  min_loss = 60.494087887373524\n",
      "epoch = 772; best_k = 3.282361776296501;  best_b = 2.349259056987883;  min_loss = 60.48580429651245\n",
      "epoch = 773; best_k = 3.28378878114366;  best_b = 2.34018176443483;  min_loss = 60.477524767434375\n",
      "epoch = 774; best_k = 3.285215436088536;  best_b = 2.331106697638329;  min_loss = 60.469249298147616\n",
      "epoch = 775; best_k = 3.286641741216925;  best_b = 2.3220338560526237;  min_loss = 60.4609778866615\n",
      "epoch = 776; best_k = 3.2880676966146023;  best_b = 2.312963239132091;  min_loss = 60.45271053098634\n",
      "epoch = 777; best_k = 3.289493302367322;  best_b = 2.3038948463312416;  min_loss = 60.44444722913337\n",
      "epoch = 778; best_k = 3.2909185585608176;  best_b = 2.294828677104721;  min_loss = 60.43618797911487\n",
      "epoch = 779; best_k = 3.292343465280801;  best_b = 2.2857647309073075;  min_loss = 60.42793277894404\n",
      "epoch = 780; best_k = 3.2937680226129626;  best_b = 2.276703007193913;  min_loss = 60.41968162663508\n",
      "epoch = 781; best_k = 3.2951922306429733;  best_b = 2.267643505419583;  min_loss = 60.41143452020316\n",
      "epoch = 782; best_k = 3.2966160894564815;  best_b = 2.258586225039498;  min_loss = 60.40319145766442\n",
      "epoch = 783; best_k = 3.2980395991391163;  best_b = 2.2495311655089703;  min_loss = 60.39495243703597\n",
      "epoch = 784; best_k = 3.2994627597764836;  best_b = 2.2404783262834465;  min_loss = 60.3867174563359\n",
      "epoch = 785; best_k = 3.30088557145417;  best_b = 2.231427706818507;  min_loss = 60.37848651358327\n",
      "epoch = 786; best_k = 3.3023080342577407;  best_b = 2.222379306569865;  min_loss = 60.37025960679809\n",
      "epoch = 787; best_k = 3.3037301482727393;  best_b = 2.213333124993368;  min_loss = 60.3620367340014\n",
      "epoch = 788; best_k = 3.3051519135846896;  best_b = 2.2042891615449967;  min_loss = 60.35381789321514\n",
      "epoch = 789; best_k = 3.3065733302790936;  best_b = 2.1952474156808646;  min_loss = 60.34560308246226\n",
      "epoch = 790; best_k = 3.307994398441432;  best_b = 2.1862078868572192;  min_loss = 60.337392299766655\n",
      "epoch = 791; best_k = 3.3094151181571654;  best_b = 2.177170574530441;  min_loss = 60.32918554315323\n",
      "epoch = 792; best_k = 3.310835489511733;  best_b = 2.1681354781570437;  min_loss = 60.32098281064783\n",
      "epoch = 793; best_k = 3.312255512590553;  best_b = 2.1591025971936744;  min_loss = 60.312784100277234\n",
      "epoch = 794; best_k = 3.3136751874790233;  best_b = 2.1500719310971137;  min_loss = 60.30458941006926\n",
      "epoch = 795; best_k = 3.31509451426252;  best_b = 2.141043479324275;  min_loss = 60.29639873805266\n",
      "epoch = 796; best_k = 3.3165134930263984;  best_b = 2.1320172413322056;  min_loss = 60.28821208225714\n",
      "epoch = 797; best_k = 3.317932123855993;  best_b = 2.122993216578085;  min_loss = 60.28002944071336\n",
      "epoch = 798; best_k = 3.319350406836618;  best_b = 2.113971404519226;  min_loss = 60.271850811453014\n",
      "epoch = 799; best_k = 3.320768342053566;  best_b = 2.104951804613075;  min_loss = 60.26367619250869\n"
     ]
    }
   ],
   "source": [
    "import random\n",
    "epochs = 800\n",
    "MAX_VAR,MIN_VAR = 10,-10\n",
    "k,b = random.randint(MIN_VAR,MAX_VAR),random.randint(MIN_VAR,MAX_VAR)\n",
    "min_loss = float('inf')\n",
    "best_k, best_b = None,None\n",
    "lr = 1e-2\n",
    "for epoch in range(epochs):\n",
    "    Y_hat = model(X_rm,k,b)\n",
    "    loss_ = loss(Y,Y_hat)\n",
    "    if loss_ < min_loss:\n",
    "        best_k = k\n",
    "        best_b = b\n",
    "        min_loss = loss_\n",
    "        print('epoch = {}; best_k = {};  best_b = {};  min_loss = {}'.format(epoch,best_k,best_b,min_loss))\n",
    "    k = k + (-1) * partial_k(Y,X_rm,k,b) * lr\n",
    "    b = b + (-1) * partial_b(Y,X_rm,k,b) * lr"
   ],
   "metadata": {
    "collapsed": false,
    "pycharm": {
     "name": "#%%\n"
    }
   }
  },
  {
   "cell_type": "code",
   "execution_count": 25,
   "outputs": [
    {
     "data": {
      "text/plain": "<matplotlib.collections.PathCollection at 0x7f9988723df0>"
     },
     "execution_count": 25,
     "metadata": {},
     "output_type": "execute_result"
    },
    {
     "data": {
      "text/plain": "<Figure size 432x288 with 1 Axes>",
      "image/png": "[encoded data removed]"
     },
     "metadata": {
      "needs_background": "light"
     },
     "output_type": "display_data"
    }
   ],
   "source": [
    "plt.scatter(X_rm,Y)\n",
    "plt.scatter(X_rm,X_rm * best_k + best_b)"
   ],
   "metadata": {
    "collapsed": false,
    "pycharm": {
     "name": "#%%\n"
    }
   }
  },
  {
   "cell_type": "code",
   "execution_count": 25,
   "outputs": [],
   "source": [],
   "metadata": {
    "collapsed": false,
    "pycharm": {
     "name": "#%%\n"
    }
   }
  }
 ],
 "metadata": {
  "kernelspec": {
   "display_name": "Python 3",
   "language": "python",
   "name": "python3"
  },
  "language_info": {
   "codemirror_mode": {
    "name": "ipython",
    "version": 2
   },
   "file_extension": ".py",
   "mimetype": "text/x-python",
   "name": "python",
   "nbconvert_exporter": "python",
   "pygments_lexer": "ipython2",
   "version": "2.7.6"
  }
 },
 "nbformat": 4,
 "nbformat_minor": 0
}